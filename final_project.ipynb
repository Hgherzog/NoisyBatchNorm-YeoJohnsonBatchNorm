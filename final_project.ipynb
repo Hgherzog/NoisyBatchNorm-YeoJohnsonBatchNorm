{
  "nbformat": 4,
  "nbformat_minor": 0,
  "metadata": {
    "colab": {
      "provenance": [],
      "machine_shape": "hm",
      "include_colab_link": true
    },
    "kernelspec": {
      "name": "python3",
      "display_name": "Python 3"
    },
    "language_info": {
      "name": "python"
    },
    "accelerator": "GPU",
    "gpuClass": "premium",
    "widgets": {
      "application/vnd.jupyter.widget-state+json": {
        "2ad36a10c7814067920932e9c22de757": {
          "model_module": "@jupyter-widgets/controls",
          "model_name": "HBoxModel",
          "model_module_version": "1.5.0",
          "state": {
            "_dom_classes": [],
            "_model_module": "@jupyter-widgets/controls",
            "_model_module_version": "1.5.0",
            "_model_name": "HBoxModel",
            "_view_count": null,
            "_view_module": "@jupyter-widgets/controls",
            "_view_module_version": "1.5.0",
            "_view_name": "HBoxView",
            "box_style": "",
            "children": [
              "IPY_MODEL_f16f3d0fccd54078a50cfc35d5707701",
              "IPY_MODEL_cbbec528544f4a74946f5a41b9a2e624",
              "IPY_MODEL_743f2bdadbc745bd98bef477afcfa63e"
            ],
            "layout": "IPY_MODEL_3c51a7b3ccd3440ca9e7f3c397342c9c"
          }
        },
        "f16f3d0fccd54078a50cfc35d5707701": {
          "model_module": "@jupyter-widgets/controls",
          "model_name": "HTMLModel",
          "model_module_version": "1.5.0",
          "state": {
            "_dom_classes": [],
            "_model_module": "@jupyter-widgets/controls",
            "_model_module_version": "1.5.0",
            "_model_name": "HTMLModel",
            "_view_count": null,
            "_view_module": "@jupyter-widgets/controls",
            "_view_module_version": "1.5.0",
            "_view_name": "HTMLView",
            "description": "",
            "description_tooltip": null,
            "layout": "IPY_MODEL_ea6b7e68f1774750ac92324b0d033c49",
            "placeholder": "​",
            "style": "IPY_MODEL_e42f7982f2ea4072adab021c557b8aee",
            "value": "100%"
          }
        },
        "cbbec528544f4a74946f5a41b9a2e624": {
          "model_module": "@jupyter-widgets/controls",
          "model_name": "FloatProgressModel",
          "model_module_version": "1.5.0",
          "state": {
            "_dom_classes": [],
            "_model_module": "@jupyter-widgets/controls",
            "_model_module_version": "1.5.0",
            "_model_name": "FloatProgressModel",
            "_view_count": null,
            "_view_module": "@jupyter-widgets/controls",
            "_view_module_version": "1.5.0",
            "_view_name": "ProgressView",
            "bar_style": "success",
            "description": "",
            "description_tooltip": null,
            "layout": "IPY_MODEL_0b18b198df044e9aab28780cc5751791",
            "max": 170498071,
            "min": 0,
            "orientation": "horizontal",
            "style": "IPY_MODEL_7ab5f75093174c2ebd16529ec20d8118",
            "value": 170498071
          }
        },
        "743f2bdadbc745bd98bef477afcfa63e": {
          "model_module": "@jupyter-widgets/controls",
          "model_name": "HTMLModel",
          "model_module_version": "1.5.0",
          "state": {
            "_dom_classes": [],
            "_model_module": "@jupyter-widgets/controls",
            "_model_module_version": "1.5.0",
            "_model_name": "HTMLModel",
            "_view_count": null,
            "_view_module": "@jupyter-widgets/controls",
            "_view_module_version": "1.5.0",
            "_view_name": "HTMLView",
            "description": "",
            "description_tooltip": null,
            "layout": "IPY_MODEL_94279666f935447abcc7120b1c8af48e",
            "placeholder": "​",
            "style": "IPY_MODEL_90210905062e4ba0a89d81c4a3dc3055",
            "value": " 170498071/170498071 [00:01&lt;00:00, 114930906.89it/s]"
          }
        },
        "3c51a7b3ccd3440ca9e7f3c397342c9c": {
          "model_module": "@jupyter-widgets/base",
          "model_name": "LayoutModel",
          "model_module_version": "1.2.0",
          "state": {
            "_model_module": "@jupyter-widgets/base",
            "_model_module_version": "1.2.0",
            "_model_name": "LayoutModel",
            "_view_count": null,
            "_view_module": "@jupyter-widgets/base",
            "_view_module_version": "1.2.0",
            "_view_name": "LayoutView",
            "align_content": null,
            "align_items": null,
            "align_self": null,
            "border": null,
            "bottom": null,
            "display": null,
            "flex": null,
            "flex_flow": null,
            "grid_area": null,
            "grid_auto_columns": null,
            "grid_auto_flow": null,
            "grid_auto_rows": null,
            "grid_column": null,
            "grid_gap": null,
            "grid_row": null,
            "grid_template_areas": null,
            "grid_template_columns": null,
            "grid_template_rows": null,
            "height": null,
            "justify_content": null,
            "justify_items": null,
            "left": null,
            "margin": null,
            "max_height": null,
            "max_width": null,
            "min_height": null,
            "min_width": null,
            "object_fit": null,
            "object_position": null,
            "order": null,
            "overflow": null,
            "overflow_x": null,
            "overflow_y": null,
            "padding": null,
            "right": null,
            "top": null,
            "visibility": null,
            "width": null
          }
        },
        "ea6b7e68f1774750ac92324b0d033c49": {
          "model_module": "@jupyter-widgets/base",
          "model_name": "LayoutModel",
          "model_module_version": "1.2.0",
          "state": {
            "_model_module": "@jupyter-widgets/base",
            "_model_module_version": "1.2.0",
            "_model_name": "LayoutModel",
            "_view_count": null,
            "_view_module": "@jupyter-widgets/base",
            "_view_module_version": "1.2.0",
            "_view_name": "LayoutView",
            "align_content": null,
            "align_items": null,
            "align_self": null,
            "border": null,
            "bottom": null,
            "display": null,
            "flex": null,
            "flex_flow": null,
            "grid_area": null,
            "grid_auto_columns": null,
            "grid_auto_flow": null,
            "grid_auto_rows": null,
            "grid_column": null,
            "grid_gap": null,
            "grid_row": null,
            "grid_template_areas": null,
            "grid_template_columns": null,
            "grid_template_rows": null,
            "height": null,
            "justify_content": null,
            "justify_items": null,
            "left": null,
            "margin": null,
            "max_height": null,
            "max_width": null,
            "min_height": null,
            "min_width": null,
            "object_fit": null,
            "object_position": null,
            "order": null,
            "overflow": null,
            "overflow_x": null,
            "overflow_y": null,
            "padding": null,
            "right": null,
            "top": null,
            "visibility": null,
            "width": null
          }
        },
        "e42f7982f2ea4072adab021c557b8aee": {
          "model_module": "@jupyter-widgets/controls",
          "model_name": "DescriptionStyleModel",
          "model_module_version": "1.5.0",
          "state": {
            "_model_module": "@jupyter-widgets/controls",
            "_model_module_version": "1.5.0",
            "_model_name": "DescriptionStyleModel",
            "_view_count": null,
            "_view_module": "@jupyter-widgets/base",
            "_view_module_version": "1.2.0",
            "_view_name": "StyleView",
            "description_width": ""
          }
        },
        "0b18b198df044e9aab28780cc5751791": {
          "model_module": "@jupyter-widgets/base",
          "model_name": "LayoutModel",
          "model_module_version": "1.2.0",
          "state": {
            "_model_module": "@jupyter-widgets/base",
            "_model_module_version": "1.2.0",
            "_model_name": "LayoutModel",
            "_view_count": null,
            "_view_module": "@jupyter-widgets/base",
            "_view_module_version": "1.2.0",
            "_view_name": "LayoutView",
            "align_content": null,
            "align_items": null,
            "align_self": null,
            "border": null,
            "bottom": null,
            "display": null,
            "flex": null,
            "flex_flow": null,
            "grid_area": null,
            "grid_auto_columns": null,
            "grid_auto_flow": null,
            "grid_auto_rows": null,
            "grid_column": null,
            "grid_gap": null,
            "grid_row": null,
            "grid_template_areas": null,
            "grid_template_columns": null,
            "grid_template_rows": null,
            "height": null,
            "justify_content": null,
            "justify_items": null,
            "left": null,
            "margin": null,
            "max_height": null,
            "max_width": null,
            "min_height": null,
            "min_width": null,
            "object_fit": null,
            "object_position": null,
            "order": null,
            "overflow": null,
            "overflow_x": null,
            "overflow_y": null,
            "padding": null,
            "right": null,
            "top": null,
            "visibility": null,
            "width": null
          }
        },
        "7ab5f75093174c2ebd16529ec20d8118": {
          "model_module": "@jupyter-widgets/controls",
          "model_name": "ProgressStyleModel",
          "model_module_version": "1.5.0",
          "state": {
            "_model_module": "@jupyter-widgets/controls",
            "_model_module_version": "1.5.0",
            "_model_name": "ProgressStyleModel",
            "_view_count": null,
            "_view_module": "@jupyter-widgets/base",
            "_view_module_version": "1.2.0",
            "_view_name": "StyleView",
            "bar_color": null,
            "description_width": ""
          }
        },
        "94279666f935447abcc7120b1c8af48e": {
          "model_module": "@jupyter-widgets/base",
          "model_name": "LayoutModel",
          "model_module_version": "1.2.0",
          "state": {
            "_model_module": "@jupyter-widgets/base",
            "_model_module_version": "1.2.0",
            "_model_name": "LayoutModel",
            "_view_count": null,
            "_view_module": "@jupyter-widgets/base",
            "_view_module_version": "1.2.0",
            "_view_name": "LayoutView",
            "align_content": null,
            "align_items": null,
            "align_self": null,
            "border": null,
            "bottom": null,
            "display": null,
            "flex": null,
            "flex_flow": null,
            "grid_area": null,
            "grid_auto_columns": null,
            "grid_auto_flow": null,
            "grid_auto_rows": null,
            "grid_column": null,
            "grid_gap": null,
            "grid_row": null,
            "grid_template_areas": null,
            "grid_template_columns": null,
            "grid_template_rows": null,
            "height": null,
            "justify_content": null,
            "justify_items": null,
            "left": null,
            "margin": null,
            "max_height": null,
            "max_width": null,
            "min_height": null,
            "min_width": null,
            "object_fit": null,
            "object_position": null,
            "order": null,
            "overflow": null,
            "overflow_x": null,
            "overflow_y": null,
            "padding": null,
            "right": null,
            "top": null,
            "visibility": null,
            "width": null
          }
        },
        "90210905062e4ba0a89d81c4a3dc3055": {
          "model_module": "@jupyter-widgets/controls",
          "model_name": "DescriptionStyleModel",
          "model_module_version": "1.5.0",
          "state": {
            "_model_module": "@jupyter-widgets/controls",
            "_model_module_version": "1.5.0",
            "_model_name": "DescriptionStyleModel",
            "_view_count": null,
            "_view_module": "@jupyter-widgets/base",
            "_view_module_version": "1.2.0",
            "_view_name": "StyleView",
            "description_width": ""
          }
        }
      }
    }
  },
  "cells": [
    {
      "cell_type": "markdown",
      "metadata": {
        "id": "view-in-github",
        "colab_type": "text"
      },
      "source": [
        "<a href=\"https://colab.research.google.com/github/Hgherzog/NoisyBatchNorm-YeoJohnsonBatchNorm/blob/main/final_project.ipynb\" target=\"_parent\"><img src=\"https://colab.research.google.com/assets/colab-badge.svg\" alt=\"Open In Colab\"/></a>"
      ]
    },
    {
      "cell_type": "code",
      "source": [
        "#At the end I can go seperate the different parts into different files"
      ],
      "metadata": {
        "id": "-RoF2Dy4EUnQ"
      },
      "execution_count": null,
      "outputs": []
    },
    {
      "cell_type": "code",
      "source": [
        "import torch, math, copy\n",
        "import numpy as np\n",
        "from torchvision import datasets, transforms\n",
        "import torch.nn as nn\n",
        "import torch.nn.init as init\n",
        "import torch.nn.functional as F\n"
      ],
      "metadata": {
        "id": "shVxbMbKEsay"
      },
      "execution_count": null,
      "outputs": []
    },
    {
      "cell_type": "code",
      "source": [
        "!pip install d2l==1.0.0-alpha1.post0"
      ],
      "metadata": {
        "colab": {
          "base_uri": "https://localhost:8080/"
        },
        "id": "xGDv-13nErho",
        "outputId": "e6ed867b-e642-4426-e35f-683bc818179d"
      },
      "execution_count": null,
      "outputs": [
        {
          "output_type": "stream",
          "name": "stdout",
          "text": [
            "Looking in indexes: https://pypi.org/simple, https://us-python.pkg.dev/colab-wheels/public/simple/\n",
            "Collecting d2l==1.0.0-alpha1.post0\n",
            "  Downloading d2l-1.0.0a1.post0-py3-none-any.whl (93 kB)\n",
            "\u001b[K     |████████████████████████████████| 93 kB 1.1 MB/s \n",
            "\u001b[?25hRequirement already satisfied: gym in /usr/local/lib/python3.8/dist-packages (from d2l==1.0.0-alpha1.post0) (0.25.2)\n",
            "Requirement already satisfied: pandas in /usr/local/lib/python3.8/dist-packages (from d2l==1.0.0-alpha1.post0) (1.3.5)\n",
            "Collecting matplotlib-inline\n",
            "  Downloading matplotlib_inline-0.1.6-py3-none-any.whl (9.4 kB)\n",
            "Collecting jupyter\n",
            "  Downloading jupyter-1.0.0-py2.py3-none-any.whl (2.7 kB)\n",
            "Requirement already satisfied: requests in /usr/local/lib/python3.8/dist-packages (from d2l==1.0.0-alpha1.post0) (2.23.0)\n",
            "Requirement already satisfied: numpy in /usr/local/lib/python3.8/dist-packages (from d2l==1.0.0-alpha1.post0) (1.21.6)\n",
            "Requirement already satisfied: matplotlib in /usr/local/lib/python3.8/dist-packages (from d2l==1.0.0-alpha1.post0) (3.2.2)\n",
            "Requirement already satisfied: gym-notices>=0.0.4 in /usr/local/lib/python3.8/dist-packages (from gym->d2l==1.0.0-alpha1.post0) (0.0.8)\n",
            "Requirement already satisfied: importlib-metadata>=4.8.0 in /usr/local/lib/python3.8/dist-packages (from gym->d2l==1.0.0-alpha1.post0) (4.13.0)\n",
            "Requirement already satisfied: cloudpickle>=1.2.0 in /usr/local/lib/python3.8/dist-packages (from gym->d2l==1.0.0-alpha1.post0) (1.5.0)\n",
            "Requirement already satisfied: zipp>=0.5 in /usr/local/lib/python3.8/dist-packages (from importlib-metadata>=4.8.0->gym->d2l==1.0.0-alpha1.post0) (3.11.0)\n",
            "Requirement already satisfied: ipywidgets in /usr/local/lib/python3.8/dist-packages (from jupyter->d2l==1.0.0-alpha1.post0) (7.7.1)\n",
            "Requirement already satisfied: ipykernel in /usr/local/lib/python3.8/dist-packages (from jupyter->d2l==1.0.0-alpha1.post0) (5.3.4)\n",
            "Requirement already satisfied: jupyter-console in /usr/local/lib/python3.8/dist-packages (from jupyter->d2l==1.0.0-alpha1.post0) (6.1.0)\n",
            "Requirement already satisfied: nbconvert in /usr/local/lib/python3.8/dist-packages (from jupyter->d2l==1.0.0-alpha1.post0) (5.6.1)\n",
            "Requirement already satisfied: notebook in /usr/local/lib/python3.8/dist-packages (from jupyter->d2l==1.0.0-alpha1.post0) (5.7.16)\n",
            "Collecting qtconsole\n",
            "  Downloading qtconsole-5.4.0-py3-none-any.whl (121 kB)\n",
            "\u001b[K     |████████████████████████████████| 121 kB 375 kB/s \n",
            "\u001b[?25hRequirement already satisfied: tornado>=4.2 in /usr/local/lib/python3.8/dist-packages (from ipykernel->jupyter->d2l==1.0.0-alpha1.post0) (6.0.4)\n",
            "Requirement already satisfied: jupyter-client in /usr/local/lib/python3.8/dist-packages (from ipykernel->jupyter->d2l==1.0.0-alpha1.post0) (6.1.12)\n",
            "Requirement already satisfied: traitlets>=4.1.0 in /usr/local/lib/python3.8/dist-packages (from ipykernel->jupyter->d2l==1.0.0-alpha1.post0) (5.6.0)\n",
            "Requirement already satisfied: ipython>=5.0.0 in /usr/local/lib/python3.8/dist-packages (from ipykernel->jupyter->d2l==1.0.0-alpha1.post0) (7.9.0)\n",
            "Requirement already satisfied: backcall in /usr/local/lib/python3.8/dist-packages (from ipython>=5.0.0->ipykernel->jupyter->d2l==1.0.0-alpha1.post0) (0.2.0)\n",
            "Requirement already satisfied: pickleshare in /usr/local/lib/python3.8/dist-packages (from ipython>=5.0.0->ipykernel->jupyter->d2l==1.0.0-alpha1.post0) (0.7.5)\n",
            "Collecting jedi>=0.10\n",
            "  Downloading jedi-0.18.2-py2.py3-none-any.whl (1.6 MB)\n",
            "\u001b[K     |████████████████████████████████| 1.6 MB 1.5 MB/s \n",
            "\u001b[?25hRequirement already satisfied: decorator in /usr/local/lib/python3.8/dist-packages (from ipython>=5.0.0->ipykernel->jupyter->d2l==1.0.0-alpha1.post0) (4.4.2)\n",
            "Requirement already satisfied: prompt-toolkit<2.1.0,>=2.0.0 in /usr/local/lib/python3.8/dist-packages (from ipython>=5.0.0->ipykernel->jupyter->d2l==1.0.0-alpha1.post0) (2.0.10)\n",
            "Requirement already satisfied: pygments in /usr/local/lib/python3.8/dist-packages (from ipython>=5.0.0->ipykernel->jupyter->d2l==1.0.0-alpha1.post0) (2.6.1)\n",
            "Requirement already satisfied: setuptools>=18.5 in /usr/local/lib/python3.8/dist-packages (from ipython>=5.0.0->ipykernel->jupyter->d2l==1.0.0-alpha1.post0) (57.4.0)\n",
            "Requirement already satisfied: pexpect in /usr/local/lib/python3.8/dist-packages (from ipython>=5.0.0->ipykernel->jupyter->d2l==1.0.0-alpha1.post0) (4.8.0)\n",
            "Requirement already satisfied: parso<0.9.0,>=0.8.0 in /usr/local/lib/python3.8/dist-packages (from jedi>=0.10->ipython>=5.0.0->ipykernel->jupyter->d2l==1.0.0-alpha1.post0) (0.8.3)\n",
            "Requirement already satisfied: six>=1.9.0 in /usr/local/lib/python3.8/dist-packages (from prompt-toolkit<2.1.0,>=2.0.0->ipython>=5.0.0->ipykernel->jupyter->d2l==1.0.0-alpha1.post0) (1.15.0)\n",
            "Requirement already satisfied: wcwidth in /usr/local/lib/python3.8/dist-packages (from prompt-toolkit<2.1.0,>=2.0.0->ipython>=5.0.0->ipykernel->jupyter->d2l==1.0.0-alpha1.post0) (0.2.5)\n",
            "Requirement already satisfied: ipython-genutils~=0.2.0 in /usr/local/lib/python3.8/dist-packages (from ipywidgets->jupyter->d2l==1.0.0-alpha1.post0) (0.2.0)\n",
            "Requirement already satisfied: jupyterlab-widgets>=1.0.0 in /usr/local/lib/python3.8/dist-packages (from ipywidgets->jupyter->d2l==1.0.0-alpha1.post0) (3.0.3)\n",
            "Requirement already satisfied: widgetsnbextension~=3.6.0 in /usr/local/lib/python3.8/dist-packages (from ipywidgets->jupyter->d2l==1.0.0-alpha1.post0) (3.6.1)\n",
            "Requirement already satisfied: prometheus-client in /usr/local/lib/python3.8/dist-packages (from notebook->jupyter->d2l==1.0.0-alpha1.post0) (0.15.0)\n",
            "Requirement already satisfied: terminado>=0.8.1 in /usr/local/lib/python3.8/dist-packages (from notebook->jupyter->d2l==1.0.0-alpha1.post0) (0.13.3)\n",
            "Requirement already satisfied: nbformat in /usr/local/lib/python3.8/dist-packages (from notebook->jupyter->d2l==1.0.0-alpha1.post0) (5.7.0)\n",
            "Requirement already satisfied: jinja2<=3.0.0 in /usr/local/lib/python3.8/dist-packages (from notebook->jupyter->d2l==1.0.0-alpha1.post0) (2.11.3)\n",
            "Requirement already satisfied: pyzmq>=17 in /usr/local/lib/python3.8/dist-packages (from notebook->jupyter->d2l==1.0.0-alpha1.post0) (23.2.1)\n",
            "Requirement already satisfied: Send2Trash in /usr/local/lib/python3.8/dist-packages (from notebook->jupyter->d2l==1.0.0-alpha1.post0) (1.8.0)\n",
            "Requirement already satisfied: jupyter-core>=4.4.0 in /usr/local/lib/python3.8/dist-packages (from notebook->jupyter->d2l==1.0.0-alpha1.post0) (5.1.0)\n",
            "Requirement already satisfied: MarkupSafe>=0.23 in /usr/local/lib/python3.8/dist-packages (from jinja2<=3.0.0->notebook->jupyter->d2l==1.0.0-alpha1.post0) (2.0.1)\n",
            "Requirement already satisfied: python-dateutil>=2.1 in /usr/local/lib/python3.8/dist-packages (from jupyter-client->ipykernel->jupyter->d2l==1.0.0-alpha1.post0) (2.8.2)\n",
            "Requirement already satisfied: platformdirs>=2.5 in /usr/local/lib/python3.8/dist-packages (from jupyter-core>=4.4.0->notebook->jupyter->d2l==1.0.0-alpha1.post0) (2.5.4)\n",
            "Requirement already satisfied: mistune<2,>=0.8.1 in /usr/local/lib/python3.8/dist-packages (from nbconvert->jupyter->d2l==1.0.0-alpha1.post0) (0.8.4)\n",
            "Requirement already satisfied: bleach in /usr/local/lib/python3.8/dist-packages (from nbconvert->jupyter->d2l==1.0.0-alpha1.post0) (5.0.1)\n",
            "Requirement already satisfied: entrypoints>=0.2.2 in /usr/local/lib/python3.8/dist-packages (from nbconvert->jupyter->d2l==1.0.0-alpha1.post0) (0.4)\n",
            "Requirement already satisfied: testpath in /usr/local/lib/python3.8/dist-packages (from nbconvert->jupyter->d2l==1.0.0-alpha1.post0) (0.6.0)\n",
            "Requirement already satisfied: pandocfilters>=1.4.1 in /usr/local/lib/python3.8/dist-packages (from nbconvert->jupyter->d2l==1.0.0-alpha1.post0) (1.5.0)\n",
            "Requirement already satisfied: defusedxml in /usr/local/lib/python3.8/dist-packages (from nbconvert->jupyter->d2l==1.0.0-alpha1.post0) (0.7.1)\n",
            "Requirement already satisfied: fastjsonschema in /usr/local/lib/python3.8/dist-packages (from nbformat->notebook->jupyter->d2l==1.0.0-alpha1.post0) (2.16.2)\n",
            "Requirement already satisfied: jsonschema>=2.6 in /usr/local/lib/python3.8/dist-packages (from nbformat->notebook->jupyter->d2l==1.0.0-alpha1.post0) (4.3.3)\n",
            "Requirement already satisfied: importlib-resources>=1.4.0 in /usr/local/lib/python3.8/dist-packages (from jsonschema>=2.6->nbformat->notebook->jupyter->d2l==1.0.0-alpha1.post0) (5.10.0)\n",
            "Requirement already satisfied: attrs>=17.4.0 in /usr/local/lib/python3.8/dist-packages (from jsonschema>=2.6->nbformat->notebook->jupyter->d2l==1.0.0-alpha1.post0) (22.1.0)\n",
            "Requirement already satisfied: pyrsistent!=0.17.0,!=0.17.1,!=0.17.2,>=0.14.0 in /usr/local/lib/python3.8/dist-packages (from jsonschema>=2.6->nbformat->notebook->jupyter->d2l==1.0.0-alpha1.post0) (0.19.2)\n",
            "Requirement already satisfied: ptyprocess in /usr/local/lib/python3.8/dist-packages (from terminado>=0.8.1->notebook->jupyter->d2l==1.0.0-alpha1.post0) (0.7.0)\n",
            "Requirement already satisfied: webencodings in /usr/local/lib/python3.8/dist-packages (from bleach->nbconvert->jupyter->d2l==1.0.0-alpha1.post0) (0.5.1)\n",
            "Requirement already satisfied: pyparsing!=2.0.4,!=2.1.2,!=2.1.6,>=2.0.1 in /usr/local/lib/python3.8/dist-packages (from matplotlib->d2l==1.0.0-alpha1.post0) (3.0.9)\n",
            "Requirement already satisfied: cycler>=0.10 in /usr/local/lib/python3.8/dist-packages (from matplotlib->d2l==1.0.0-alpha1.post0) (0.11.0)\n",
            "Requirement already satisfied: kiwisolver>=1.0.1 in /usr/local/lib/python3.8/dist-packages (from matplotlib->d2l==1.0.0-alpha1.post0) (1.4.4)\n",
            "Requirement already satisfied: pytz>=2017.3 in /usr/local/lib/python3.8/dist-packages (from pandas->d2l==1.0.0-alpha1.post0) (2022.6)\n",
            "Collecting qtpy>=2.0.1\n",
            "  Downloading QtPy-2.3.0-py3-none-any.whl (83 kB)\n",
            "\u001b[K     |████████████████████████████████| 83 kB 1.8 MB/s \n",
            "\u001b[?25hRequirement already satisfied: packaging in /usr/local/lib/python3.8/dist-packages (from qtpy>=2.0.1->qtconsole->jupyter->d2l==1.0.0-alpha1.post0) (21.3)\n",
            "Requirement already satisfied: chardet<4,>=3.0.2 in /usr/local/lib/python3.8/dist-packages (from requests->d2l==1.0.0-alpha1.post0) (3.0.4)\n",
            "Requirement already satisfied: idna<3,>=2.5 in /usr/local/lib/python3.8/dist-packages (from requests->d2l==1.0.0-alpha1.post0) (2.10)\n",
            "Requirement already satisfied: certifi>=2017.4.17 in /usr/local/lib/python3.8/dist-packages (from requests->d2l==1.0.0-alpha1.post0) (2022.9.24)\n",
            "Requirement already satisfied: urllib3!=1.25.0,!=1.25.1,<1.26,>=1.21.1 in /usr/local/lib/python3.8/dist-packages (from requests->d2l==1.0.0-alpha1.post0) (1.24.3)\n",
            "Installing collected packages: jedi, qtpy, qtconsole, matplotlib-inline, jupyter, d2l\n",
            "Successfully installed d2l-1.0.0a1.post0 jedi-0.18.2 jupyter-1.0.0 matplotlib-inline-0.1.6 qtconsole-5.4.0 qtpy-2.3.0\n"
          ]
        }
      ]
    },
    {
      "cell_type": "code",
      "source": [
        "from d2l import torch as d2l\n",
        "def noisy_shift_batch_norm(X, beta, moving_mean, moving_var, eps, momentum):\n",
        "  \"\"\" NoisySSNorm with only shifting and shift noise \n",
        "  \"\"\"\n",
        "    # Use `is_grad_enabled` to determine whether we are in training mode\n",
        "    if not torch.is_grad_enabled():\n",
        "        # In prediction mode, use mean and variance obtained by moving average\n",
        "        X_hat = (X - moving_mean) / torch.sqrt(moving_var + eps)\n",
        "    else:\n",
        "        assert len(X.shape) in (2, 4)\n",
        "        if len(X.shape) == 2:\n",
        "            # When using a fully connected layer, calculate the mean and\n",
        "            # variance on the feature dimension\n",
        "            mean = X.mean(dim=0)\n",
        "            var = ((X - mean) ** 2).mean(dim=0)\n",
        "        else:\n",
        "            # When using a two-dimensional convolutional layer, calculate the\n",
        "            # mean and variance on the channel dimension (axis=1). Here we\n",
        "            # need to maintain the shape of `X`, so that the broadcasting\n",
        "            # operation can be carried out later\n",
        "            mean = X.mean(dim=(0, 2, 3), keepdim=True)\n",
        "            var = ((X - mean) ** 2).mean(dim=(0, 2, 3), keepdim=True)\n",
        "        # In training mode, the current mean and variance are used\n",
        "        X_hat = (X - mean) / torch.sqrt(var + eps)\n",
        "        # Update the mean and variance using moving average\n",
        "        moving_mean = (1.0 - momentum) * moving_mean + momentum * mean\n",
        "        moving_var = (1.0 - momentum) * moving_var + momentum * var\n",
        "    #With regularization noise\n",
        "    epsilon = torch.normal(torch.zeros_like(X), torch.ones_like(X))\n",
        "    Y =  X_hat + beta * epsilon\n",
        "    return Y, moving_mean.data, moving_var.data"
      ],
      "metadata": {
        "id": "iTKK8Uv5E81s"
      },
      "execution_count": null,
      "outputs": []
    },
    {
      "cell_type": "code",
      "source": [
        "class NoisyShiftNorm(nn.Module):\n",
        "    # `num_features`: the number of outputs for a fully connected layer\n",
        "    # or the number of output channels for a convolutional layer. `num_dims`:\n",
        "    # 2 for a fully connected layer and 4 for a convolutional layer\n",
        "    #Does batch norm with data normalized to a log normal distribution\n",
        "    def __init__(self, num_features, num_dims):\n",
        "        super().__init__()\n",
        "        if num_dims == 2:\n",
        "            shape = (1, num_features)\n",
        "        else:\n",
        "            shape = (1, num_features, 1, 1)\n",
        "        # The scale parameter and the shift parameter (model parameters) are\n",
        "        # initialized to 1 and 0, respectively\n",
        "        #beta initialization\n",
        "        # b_0 = torch.normal(torch.zeros(shape), 0.01 + torch.zeros(shape))\n",
        "        b_0 = 0.35\n",
        "        self.beta = nn.Parameter(b_0 + torch.zeros(shape))\n",
        "        # The variables that are not model parameters are initialized to 0 and\n",
        "        # 1\n",
        "        self.moving_mean = torch.zeros(shape)\n",
        "        self.moving_var = torch.ones(shape)\n",
        "\n",
        "    def forward(self, X):\n",
        "        # If `X` is not on the main memory, copy `moving_mean` and\n",
        "        # `moving_var` to the device where `X` is located\n",
        "        if self.moving_mean.device != X.device:\n",
        "            self.moving_mean = self.moving_mean.to(X.device)\n",
        "            self.moving_var = self.moving_var.to(X.device)\n",
        "        # Save the updated `moving_mean` and `moving_var`\n",
        "        Y, self.moving_mean, self.moving_var = noisy_shift_batch_norm(\n",
        "            X,  self.beta, self.moving_mean,\n",
        "            self.moving_var, eps=1e-5, momentum=0.1)\n",
        "        return Y"
      ],
      "metadata": {
        "id": "BmZ4AbNEc_11"
      },
      "execution_count": null,
      "outputs": []
    },
    {
      "cell_type": "code",
      "source": [
        "def noisy_scale_batch_norm(X, gamma, noise_scale, moving_mean, moving_var, eps, momentum):\n",
        "  \"\"\" NoisySSNorm with only scale noise and not shift noise\n",
        "  \"\"\"\n",
        "    # Use `is_grad_enabled` to determine whether we are in training mode\n",
        "    if not torch.is_grad_enabled():\n",
        "        # In prediction mode, use mean and variance obtained by moving average\n",
        "        X_hat = (X - moving_mean) / torch.sqrt(moving_var + eps)\n",
        "    else:\n",
        "        assert len(X.shape) in (2, 4)\n",
        "        if len(X.shape) == 2:\n",
        "            # When using a fully connected layer, calculate the mean and\n",
        "            # variance on the feature dimension\n",
        "            mean = X.mean(dim=0)\n",
        "            var = ((X - mean) ** 2).mean(dim=0)\n",
        "        else:\n",
        "            # When using a two-dimensional convolutional layer, calculate the\n",
        "            # mean and variance on the channel dimension (axis=1). Here we\n",
        "            # need to maintain the shape of `X`, so that the broadcasting\n",
        "            # operation can be carried out later\n",
        "            mean = X.mean(dim=(0, 2, 3), keepdim=True)\n",
        "            var = ((X - mean) ** 2).mean(dim=(0, 2, 3), keepdim=True)\n",
        "        # In training mode, the current mean and variance are used\n",
        "        X_hat = (X - mean) / torch.sqrt(var + eps)\n",
        "        # Update the mean and variance using moving average\n",
        "        moving_mean = (1.0 - momentum) * moving_mean + momentum * mean\n",
        "        moving_var = (1.0 - momentum) * moving_var + momentum * var\n",
        "    #With regularization noise\n",
        "    epsilon = torch.normal(torch.zeros_like(X), torch.ones_like(X))\n",
        "    Y =  (gamma+epsilon)*X_hat \n",
        "    return Y, moving_mean.data, moving_var.data"
      ],
      "metadata": {
        "id": "vjX1k4--PG4x"
      },
      "execution_count": null,
      "outputs": []
    },
    {
      "cell_type": "code",
      "source": [
        "class NoisyScaleNorm(nn.Module):\n",
        "    # `num_features`: the number of outputs for a fully connected layer\n",
        "    # or the number of output channels for a convolutional layer. `num_dims`:\n",
        "    # 2 for a fully connected layer and 4 for a convolutional layer\n",
        "    #Does batch norm with data normalized to a log normal distribution\n",
        "    def __init__(self, num_features, num_dims):\n",
        "        super().__init__()\n",
        "        if num_dims == 2:\n",
        "            shape = (1, num_features)\n",
        "        else:\n",
        "            shape = (1, num_features, 1, 1)\n",
        "        # The scale parameter and the shift parameter (model parameters) are\n",
        "        # initialized to 1 and 0, respectively\n",
        "        #beta initialization\n",
        "        # b_0 = torch.normal(torch.zeros(shape), 0.01 + torch.zeros(shape))\n",
        "        g_0 = 0.2\n",
        "        self.noise_scale = self.beta = nn.Parameter(g_0 + torch.zeros(shape))\n",
        "        self.gamma = nn.Parameter(g_0 + torch.ones(shape))\n",
        "        # The variables that are not model parameters are initialized to 0 and\n",
        "        # 1\n",
        "        self.moving_mean = torch.zeros(shape)\n",
        "        self.moving_var = torch.ones(shape)\n",
        "\n",
        "    def forward(self, X):\n",
        "        # If `X` is not on the main memory, copy `moving_mean` and\n",
        "        # `moving_var` to the device where `X` is located\n",
        "        if self.moving_mean.device != X.device:\n",
        "            self.moving_mean = self.moving_mean.to(X.device)\n",
        "            self.moving_var = self.moving_var.to(X.device)\n",
        "        # Save the updated `moving_mean` and `moving_var`\n",
        "        Y, self.moving_mean, self.moving_var = noisy_scale_batch_norm(\n",
        "            X, self.gamma, self.noise_scale, self.moving_mean,\n",
        "            self.moving_var, eps=1e-5, momentum=0.1)\n",
        "        return Y"
      ],
      "metadata": {
        "id": "VzeGepkzPSQX"
      },
      "execution_count": null,
      "outputs": []
    },
    {
      "cell_type": "code",
      "source": [
        "from d2l import torch as d2l\n",
        "def noisy_SS_batch_norm(X, gamma, beta, noise_scale, moving_mean, moving_var, eps, momentum):\n",
        "    # Use `is_grad_enabled` to determine whether we are in training mode\n",
        "    if not torch.is_grad_enabled():\n",
        "        # In prediction mode, use mean and variance obtained by moving average\n",
        "        X_hat = (X - moving_mean) / torch.sqrt(moving_var + eps)\n",
        "    else:\n",
        "        assert len(X.shape) in (2, 4)\n",
        "        if len(X.shape) == 2:\n",
        "            # When using a fully connected layer, calculate the mean and\n",
        "            # variance on the feature dimension\n",
        "            mean = X.mean(dim=0)\n",
        "            var = ((X - mean) ** 2).mean(dim=0)\n",
        "        else:\n",
        "            # When using a two-dimensional convolutional layer, calculate the\n",
        "            # mean and variance on the channel dimension (axis=1). Here we\n",
        "            # need to maintain the shape of `X`, so that the broadcasting\n",
        "            # operation can be carried out later\n",
        "            mean = X.mean(dim=(0, 2, 3), keepdim=True)\n",
        "            var = ((X - mean) ** 2).mean(dim=(0, 2, 3), keepdim=True)\n",
        "        # In training mode, the current mean and variance are used\n",
        "        X_hat = (X - mean) / torch.sqrt(var + eps)\n",
        "        # Update the mean and variance using moving average\n",
        "        moving_mean = (1.0 - momentum) * moving_mean + momentum * mean\n",
        "        moving_var = (1.0 - momentum) * moving_var + momentum * var\n",
        "    #With regularization noise for both scale and shift\n",
        "    epsilon1 = torch.normal(torch.zeros_like(X), torch.ones_like(X))\n",
        "    epsilon2 = torch.normal(torch.zeros_like(X), torch.ones_like(X))\n",
        "    Y =  (gamma + noise_scale*epsilon1)*X_hat + beta*epsilon2 #Noise_scale is implicit in beta 2\n",
        "    return Y, moving_mean.data, moving_var.data"
      ],
      "metadata": {
        "id": "NVleMsluRxR4"
      },
      "execution_count": null,
      "outputs": []
    },
    {
      "cell_type": "code",
      "source": [
        "class NoisySSBatchNorm(nn.Module):\n",
        "    # `num_features`: the number of outputs for a fully connected layer\n",
        "    # or the number of output channels for a convolutional layer. `num_dims`:\n",
        "    # 2 for a fully connected layer and 4 for a convolutional layer\n",
        "    #Does batch norm with data normalized to a log normal distribution\n",
        "    def __init__(self, num_features, num_dims):\n",
        "        super().__init__()\n",
        "        if num_dims == 2:\n",
        "            shape = (1, num_features)\n",
        "        else:\n",
        "            shape = (1, num_features, 1, 1)\n",
        "        # The scale parameter and the shift parameter (model parameters) are\n",
        "        # initialized to 1 and 0, respectively\n",
        "        #beta initialization\n",
        "        # b_0 = torch.normal(torch.zeros(shape), 0.01 + torch.zeros(shape))\n",
        "        g_0 = 0.2\n",
        "        b_0 = 0.2\n",
        "        self.noise_scale = self.beta = nn.Parameter(g_0 + torch.zeros(shape))\n",
        "        self.gamma = nn.Parameter(torch.ones(shape))\n",
        "        self.beta = nn.Parameter(b_0 + torch.zeros(shape))\n",
        "        # The variables that are not model parameters are initialized to 0 and\n",
        "        # 1\n",
        "        self.moving_mean = torch.zeros(shape)\n",
        "        self.moving_var = torch.ones(shape)\n",
        "\n",
        "    def forward(self, X):\n",
        "        # If `X` is not on the main memory, copy `moving_mean` and\n",
        "        # `moving_var` to the device where `X` is located\n",
        "        if self.moving_mean.device != X.device:\n",
        "            self.moving_mean = self.moving_mean.to(X.device)\n",
        "            self.moving_var = self.moving_var.to(X.device)\n",
        "        # Save the updated `moving_mean` and `moving_var`\n",
        "        Y, self.moving_mean, self.moving_var = noisy_SS_batch_norm(\n",
        "            X, self.gamma, self.beta, self.noise_scale, self.moving_mean,\n",
        "            self.moving_var, eps=1e-5, momentum=0.1)\n",
        "        return Y"
      ],
      "metadata": {
        "id": "CJTcN9IMRtKP"
      },
      "execution_count": null,
      "outputs": []
    },
    {
      "cell_type": "code",
      "source": [
        "def mean_batch_norm2(X,beta, moving_mean, momentum):\n",
        "    # Use `is_grad_enabled` to determine whether we are in training mode\n",
        "    if not torch.is_grad_enabled():\n",
        "        # In prediction mode, use mean and variance obtained by moving average\n",
        "        X_hat = (X - moving_mean)\n",
        "    else:\n",
        "        assert len(X.shape) in (2, 4)\n",
        "        if len(X.shape) == 2:\n",
        "            # When using a fully connected layer, calculate the mean and\n",
        "            # variance on the feature dimension\n",
        "            mean = X.mean(dim=0)\n",
        "        else:\n",
        "            # When using a two-dimensional convolutional layer, calculate the\n",
        "            # mean and variance on the channel dimension (axis=1). Here we\n",
        "            # need to maintain the shape of `X`, so that the broadcasting\n",
        "            # operation can be carried out later\n",
        "            mean = X.mean(dim=(0, 2, 3), keepdim=True)\n",
        "        # In training mode, the current mean and variance are used\n",
        "        X_hat = (X - mean)\n",
        "        # Update the mean and variance using moving average\n",
        "        moving_mean = (1.0 - momentum) * moving_mean + momentum * mean\n",
        "    Y =  X_hat + beta #Shift only\n",
        "    return Y, moving_mean.data"
      ],
      "metadata": {
        "id": "0McfbmIZSp34"
      },
      "execution_count": null,
      "outputs": []
    },
    {
      "cell_type": "code",
      "source": [
        "class MeanNorm2(nn.Module):\n",
        "    # `num_features`: the number of outputs for a fully connected layer\n",
        "    # or the number of output channels for a convolutional layer. `num_dims`:\n",
        "    # 2 for a fully connected layer and 4 for a convolutional layer\n",
        "    #Does batch norm with data normalized to a log normal distribution\n",
        "    def __init__(self, num_features, num_dims):\n",
        "        super().__init__()\n",
        "        if num_dims == 2:\n",
        "            shape = (1, num_features)\n",
        "        else:\n",
        "            shape = (1, num_features, 1, 1)\n",
        "        # The scale parameter and the shift parameter (model parameters) are\n",
        "        # initialized to 1 and 0, respectively\n",
        "        #beta initialization\n",
        "        # b_0 = torch.normal(torch.zeros(shape), 0.01 + torch.zeros(shape))\n",
        "        b_0 = 0\n",
        "        self.beta = nn.Parameter(b_0 + torch.zeros(shape))\n",
        "        # The variables that are not model parameters are initialized to 0 and\n",
        "        # 1\n",
        "        self.moving_mean = torch.zeros(shape)\n",
        "\n",
        "    def forward(self, X):\n",
        "        # If `X` is not on the main memory, copy `moving_mean` and\n",
        "        # `moving_var` to the device where `X` is located\n",
        "        if self.moving_mean.device != X.device:\n",
        "            self.moving_mean = self.moving_mean.to(X.device)\n",
        "        # Save the updated `moving_mean` and `moving_var`\n",
        "        Y, self.moving_mean, = mean_batch_norm2(X, self.beta, self.moving_mean,\n",
        "                                                momentum=0.1)\n",
        "        return Y"
      ],
      "metadata": {
        "id": "FdPpFqIrSq0G"
      },
      "execution_count": null,
      "outputs": []
    },
    {
      "cell_type": "code",
      "source": [
        "def var_batch_norm2(X, gamma, moving_var, eps, momentum):\n",
        "    # Use `is_grad_enabled` to determine whether we are in training mode\n",
        "    if not torch.is_grad_enabled():\n",
        "        # In prediction mode, use mean and variance obtained by moving average\n",
        "        X_hat = X / torch.sqrt(moving_var + eps)\n",
        "    else:\n",
        "        assert len(X.shape) in (2, 4)\n",
        "        if len(X.shape) == 2:\n",
        "            # When using a fully connected layer, calculate the mean and\n",
        "            # variance on the feature dimension\n",
        "            mean = X.mean(dim=0)\n",
        "            var = ((X - mean) ** 2).mean(dim=0)\n",
        "        else:\n",
        "            # When using a two-dimensional convolutional layer, calculate the\n",
        "            # mean and variance on the channel dimension (axis=1). Here we\n",
        "            # need to maintain the shape of `X`, so that the broadcasting\n",
        "            # operation can be carried out later\n",
        "            mean = X.mean(dim=(0, 2, 3), keepdim=True)\n",
        "            var = ((X - mean) ** 2).mean(dim=(0, 2, 3), keepdim=True)\n",
        "        # In training mode, the current mean and variance are used\n",
        "        X_hat = X  / torch.sqrt(var + eps)\n",
        "        # Update the mean and variance using moving average\n",
        "        moving_var = (1.0 - momentum) * moving_var + momentum * var\n",
        "    Y =  gamma*X_hat  #Shift only\n",
        "    return Y, moving_var.data"
      ],
      "metadata": {
        "id": "g_Dr0OP6TWov"
      },
      "execution_count": null,
      "outputs": []
    },
    {
      "cell_type": "code",
      "source": [
        "class VarNorm2(nn.Module):\n",
        "    # `num_features`: the number of outputs for a fully connected layer\n",
        "    # or the number of output channels for a convolutional layer. `num_dims`:\n",
        "    # 2 for a fully connected layer and 4 for a convolutional layer\n",
        "    #Does batch norm with data normalized to a log normal distribution\n",
        "    def __init__(self, num_features, num_dims):\n",
        "        super().__init__()\n",
        "        if num_dims == 2:\n",
        "            shape = (1, num_features)\n",
        "        else:\n",
        "            shape = (1, num_features, 1, 1)\n",
        "        # The scale parameter and the shift parameter (model parameters) are\n",
        "        # initialized to 1 and 0, respectively\n",
        "        #beta initialization\n",
        "        # b_0 = torch.normal(torch.zeros(shape), 0.01 + torch.zeros(shape))\n",
        "        g_0 = 0\n",
        "        self.gamma = nn.Parameter(g_0 +torch.ones(shape))\n",
        "        # The variables that are not model parameters are initialized to 0 and\n",
        "        # 1\n",
        "        self.moving_var = torch.ones(shape)\n",
        "\n",
        "    def forward(self, X):\n",
        "        # If `X` is not on the main memory, copy `moving_mean` and\n",
        "        # `moving_var` to the device where `X` is located\n",
        "        if self.moving_var.device != X.device:\n",
        "            self.moving_var = self.moving_var.to(X.device)\n",
        "        # Save the updated `moving_mean` and `moving_var`\n",
        "        Y, self.moving_var = var_batch_norm2(\n",
        "            X, self.gamma, self.moving_var, eps=1e-5, momentum=0.1)\n",
        "        return Y"
      ],
      "metadata": {
        "id": "Jh_aX2SsTauh"
      },
      "execution_count": null,
      "outputs": []
    },
    {
      "cell_type": "code",
      "source": [
        "def no_scale_no_shift_batch_norm(X, gamma, beta, moving_mean, moving_var, eps, momentum):\n",
        "    # Use `is_grad_enabled` to determine whether we are in training mode\n",
        "    if not torch.is_grad_enabled():\n",
        "        # In prediction mode, use mean and variance obtained by moving average\n",
        "        X_hat = (X - moving_mean) / torch.sqrt(moving_var + eps)\n",
        "    else:\n",
        "        assert len(X.shape) in (2, 4)\n",
        "        if len(X.shape) == 2:\n",
        "            # When using a fully connected layer, calculate the mean and\n",
        "            # variance on the feature dimension\n",
        "            mean = X.mean(dim=0)\n",
        "            var = ((X - mean) ** 2).mean(dim=0)\n",
        "        else:\n",
        "            # When using a two-dimensional convolutional layer, calculate the\n",
        "            # mean and variance on the channel dimension (axis=1). Here we\n",
        "            # need to maintain the shape of `X`, so that the broadcasting\n",
        "            # operation can be carried out later\n",
        "            mean = X.mean(dim=(0, 2, 3), keepdim=True)\n",
        "            var = ((X - mean) ** 2).mean(dim=(0, 2, 3), keepdim=True)\n",
        "        # In training mode, the current mean and variance are used\n",
        "        X_hat = (X - mean) / torch.sqrt(var + eps)\n",
        "        # Update the mean and variance using moving average\n",
        "        moving_mean = (1.0 - momentum) * moving_mean + momentum * mean\n",
        "        moving_var = (1.0 - momentum) * moving_var + momentum * var\n",
        "    Y =  X_hat  #No Scale or Shift\n",
        "    return Y, moving_mean.data, moving_var.data"
      ],
      "metadata": {
        "id": "BvpHO30dQgH_"
      },
      "execution_count": null,
      "outputs": []
    },
    {
      "cell_type": "code",
      "source": [
        "class SS_noneBatchNorm(nn.Module):\n",
        "    # `num_features`: the number of outputs for a fully connected layer\n",
        "    # or the number of output channels for a convolutional layer. `num_dims`:\n",
        "    # 2 for a fully connected layer and 4 for a convolutional layer\n",
        "    #Does batch norm with data normalized to a log normal distribution\n",
        "    def __init__(self, num_features, num_dims):\n",
        "        super().__init__()\n",
        "        if num_dims == 2:\n",
        "            shape = (1, num_features)\n",
        "        else:\n",
        "            shape = (1, num_features, 1, 1)\n",
        "        # The scale parameter and the shift parameter (model parameters) are\n",
        "        # initialized to 1 and 0, respectively\n",
        "        self.gamma = nn.Parameter(torch.ones(shape))\n",
        "        self.beta = nn.Parameter(torch.zeros(shape))\n",
        "        # The variables that are not model parameters are initialized to 0 and\n",
        "        # 1\n",
        "        self.moving_mean = torch.zeros(shape)\n",
        "        self.moving_var = torch.ones(shape)\n",
        "\n",
        "    def forward(self, X):\n",
        "        # If `X` is not on the main memory, copy `moving_mean` and\n",
        "        # `moving_var` to the device where `X` is located\n",
        "        if self.moving_mean.device != X.device:\n",
        "            self.moving_mean = self.moving_mean.to(X.device)\n",
        "            self.moving_var = self.moving_var.to(X.device)\n",
        "        # Save the updated `moving_mean` and `moving_var`\n",
        "        Y, self.moving_mean, self.moving_var = no_scale_no_shift_batch_norm(\n",
        "            X, self.gamma, self.beta, self.moving_mean,\n",
        "            self.moving_var, eps=1e-5, momentum=0.1)\n",
        "        return Y"
      ],
      "metadata": {
        "id": "w4h8cA5NLjZb"
      },
      "execution_count": null,
      "outputs": []
    },
    {
      "cell_type": "code",
      "source": [
        "def batch_norm(X, gamma, beta, moving_mean, moving_var, eps, momentum):\n",
        "    # Use `is_grad_enabled` to determine whether we are in training mode\n",
        "    if not torch.is_grad_enabled():\n",
        "        # In prediction mode, use mean and variance obtained by moving average\n",
        "        X_hat = (X - moving_mean) / torch.sqrt(moving_var + eps)\n",
        "    else:\n",
        "        assert len(X.shape) in (2, 4)\n",
        "        if len(X.shape) == 2:\n",
        "            # When using a fully connected layer, calculate the mean and\n",
        "            # variance on the feature dimension\n",
        "            mean = X.mean(dim=0)\n",
        "            var = ((X - mean) ** 2).mean(dim=0)\n",
        "        else:\n",
        "            # When using a two-dimensional convolutional layer, calculate the\n",
        "            # mean and variance on the channel dimension (axis=1). Here we\n",
        "            # need to maintain the shape of `X`, so that the broadcasting\n",
        "            # operation can be carried out later\n",
        "            mean = X.mean(dim=(0, 2, 3), keepdim=True)\n",
        "            var = ((X - mean) ** 2).mean(dim=(0, 2, 3), keepdim=True)\n",
        "        # In training mode, the current mean and variance are used\n",
        "        X_hat = (X - mean) / torch.sqrt(var + eps)\n",
        "        # Update the mean and variance using moving average\n",
        "        moving_mean = (1.0 - momentum) * moving_mean + momentum * mean\n",
        "        moving_var = (1.0 - momentum) * moving_var + momentum * var\n",
        "    Y =  gamma*X_hat + beta #Scale and Shift\n",
        "    return Y, moving_mean.data, moving_var.data"
      ],
      "metadata": {
        "id": "8DPdR3P9G8xy"
      },
      "execution_count": null,
      "outputs": []
    },
    {
      "cell_type": "code",
      "source": [
        "class BatchNorm(nn.Module):\n",
        "    # `num_features`: the number of outputs for a fully connected layer\n",
        "    # or the number of output channels for a convolutional layer. `num_dims`:\n",
        "    # 2 for a fully connected layer and 4 for a convolutional layer\n",
        "    #Does batch norm with data normalized to a log normal distribution\n",
        "    def __init__(self, num_features, num_dims):\n",
        "        super().__init__()\n",
        "        if num_dims == 2:\n",
        "            shape = (1, num_features)\n",
        "        else:\n",
        "            shape = (1, num_features, 1, 1)\n",
        "        # The scale parameter and the shift parameter (model parameters) are\n",
        "        # initialized to 1 and 0, respectively\n",
        "        self.gamma = nn.Parameter(torch.ones(shape))\n",
        "        self.beta = nn.Parameter(torch.zeros(shape))\n",
        "        # The variables that are not model parameters are initialized to 0 and\n",
        "        # 1\n",
        "        self.moving_mean = torch.zeros(shape)\n",
        "        self.moving_var = torch.ones(shape)\n",
        "\n",
        "    def forward(self, X):\n",
        "        # If `X` is not on the main memory, copy `moving_mean` and\n",
        "        # `moving_var` to the device where `X` is located\n",
        "        if self.moving_mean.device != X.device:\n",
        "            self.moving_mean = self.moving_mean.to(X.device)\n",
        "            self.moving_var = self.moving_var.to(X.device)\n",
        "        # Save the updated `moving_mean` and `moving_var`\n",
        "        Y, self.moving_mean, self.moving_var = batch_norm(\n",
        "            X, self.gamma, self.beta, self.moving_mean,\n",
        "            self.moving_var, eps=1e-5, momentum=0.1)\n",
        "        return Y"
      ],
      "metadata": {
        "id": "frlvCYoiHEPr"
      },
      "execution_count": null,
      "outputs": []
    },
    {
      "cell_type": "code",
      "source": [
        "#Load dataset\n",
        "bs = 256\n",
        "normalize = transforms.Normalize(mean=[0.485, 0.456, 0.406],\n",
        "                                     std=[0.229, 0.224, 0.225])\n",
        "train_dataset = datasets.CIFAR10(\"data\", train=True, download=True, transform=transforms.Compose([\n",
        "            transforms.ToTensor(),\n",
        "            normalize,\n",
        "        ]))\n",
        "train_loader = torch.utils.data.DataLoader(train_dataset, batch_size=bs, shuffle=True)\n",
        "\n",
        "test_dataset = datasets.CIFAR10(\"data\", train=False, download=True, transform=transforms.Compose([\n",
        "    transforms.ToTensor(), normalize\n",
        "]))\n",
        "test_loader = torch.utils.data.DataLoader(test_dataset, batch_size=bs, shuffle=False)\n",
        "\n",
        "#Device Settings\n",
        "device = torch.device(\"cuda:0\" if torch.cuda.is_available() else \"cpu\")"
      ],
      "metadata": {
        "colab": {
          "base_uri": "https://localhost:8080/",
          "height": 120,
          "referenced_widgets": [
            "2ad36a10c7814067920932e9c22de757",
            "f16f3d0fccd54078a50cfc35d5707701",
            "cbbec528544f4a74946f5a41b9a2e624",
            "743f2bdadbc745bd98bef477afcfa63e",
            "3c51a7b3ccd3440ca9e7f3c397342c9c",
            "ea6b7e68f1774750ac92324b0d033c49",
            "e42f7982f2ea4072adab021c557b8aee",
            "0b18b198df044e9aab28780cc5751791",
            "7ab5f75093174c2ebd16529ec20d8118",
            "94279666f935447abcc7120b1c8af48e",
            "90210905062e4ba0a89d81c4a3dc3055"
          ]
        },
        "id": "d9vJBX9vMleQ",
        "outputId": "91ded2ab-8f11-4eb9-fc05-77c58551f293"
      },
      "execution_count": null,
      "outputs": [
        {
          "output_type": "stream",
          "name": "stdout",
          "text": [
            "Downloading https://www.cs.toronto.edu/~kriz/cifar-10-python.tar.gz to data/cifar-10-python.tar.gz\n"
          ]
        },
        {
          "output_type": "display_data",
          "data": {
            "text/plain": [
              "  0%|          | 0/170498071 [00:00<?, ?it/s]"
            ],
            "application/vnd.jupyter.widget-view+json": {
              "version_major": 2,
              "version_minor": 0,
              "model_id": "2ad36a10c7814067920932e9c22de757"
            }
          },
          "metadata": {}
        },
        {
          "output_type": "stream",
          "name": "stdout",
          "text": [
            "Extracting data/cifar-10-python.tar.gz to data\n",
            "Files already downloaded and verified\n"
          ]
        }
      ]
    },
    {
      "cell_type": "code",
      "source": [
        "train_dataset = datasets.CIFAR10(\"data\", train=True, download=True, transform=transforms.Compose([\n",
        "            transforms.ToTensor(),\n",
        "            normalize,\n",
        "        ]))\n",
        "train_indices = list(range(1, 2001))\n",
        "train_subset = torch.utils.data.Subset(train_dataset, train_indices)\n",
        "train_loader = torch.utils.data.DataLoader(train_subset, batch_size=bs, shuffle=True)\n",
        "\n",
        "test_dataset = datasets.CIFAR10(\"data\", train=False, download=True, transform=transforms.Compose([\n",
        "    transforms.ToTensor(), normalize\n",
        "]))\n",
        "test_indices = list(range(1, 401))\n",
        "test_subset = torch.utils.data.Subset(test_dataset, test_indices)\n",
        "test_loader = torch.utils.data.DataLoader(test_subset, batch_size=bs, shuffle=False)"
      ],
      "metadata": {
        "colab": {
          "base_uri": "https://localhost:8080/"
        },
        "id": "Gxh8Sr4Ooh5T",
        "outputId": "f996d261-5c96-4359-ec7b-6786c0663fee"
      },
      "execution_count": null,
      "outputs": [
        {
          "output_type": "stream",
          "name": "stdout",
          "text": [
            "Files already downloaded and verified\n",
            "Files already downloaded and verified\n"
          ]
        }
      ]
    },
    {
      "cell_type": "code",
      "source": [
        "#Train.ipynb code \n",
        "def train(epochs, model, criterion, optimizer, train_loader, test_loader):\n",
        "    epochs_and_test_err = []\n",
        "    for epoch in range(epochs):\n",
        "        train_err = train_epoch(model, criterion, optimizer, train_loader)\n",
        "        test_err = test(model, test_loader)\n",
        "        epochs_and_test_err.append((epoch, test_err))\n",
        "        print('Epoch {:03d}/{:03d}, Train Error {:.2f}% || Test Error {:.2f}%'.format(epoch, epochs, train_err*100, test_err*100))\n",
        "    return train_err, test_err, epochs_and_test_err\n",
        "    \n",
        "def train_epoch(model, criterion, optimizer, loader):\n",
        "    total_correct = 0.\n",
        "    total_samples = 0.\n",
        "    \n",
        "    for batch_idx, (data, target) in enumerate(loader):\n",
        "        if torch.cuda.is_available():\n",
        "            data, target = data.cuda(), target.cuda()\n",
        "        len_t = len(target)\n",
        "        output = model(data)\n",
        "        loss = criterion(output, target)\n",
        "\n",
        "        for i in range(len_t):\n",
        "          \n",
        "          total_correct +=  1 if torch.argmax(output[i]) == target[i] else 0\n",
        "          total_samples += 1\n",
        "\n",
        "        optimizer.zero_grad()\n",
        "        loss.backward()\n",
        "        optimizer.step()\n",
        "\n",
        "    return 1 - total_correct/total_samples"
      ],
      "metadata": {
        "id": "YOl2DMXIEvAK"
      },
      "execution_count": null,
      "outputs": []
    },
    {
      "cell_type": "code",
      "source": [
        "#Test.ipynb code\n",
        "def test(model, loader):\n",
        "  total_correct = 0.\n",
        "  total_samples = 0.\n",
        "  model.eval()\n",
        "  with torch.no_grad():\n",
        "    for batch_idx, (data, target) in enumerate(loader):\n",
        "      if torch.cuda.is_available():\n",
        "        data, target = data.cuda(), target.cuda()\n",
        "      output = model(data)\n",
        "\n",
        "      for i, val in enumerate(target):\n",
        "        total_correct += 1 if torch.argmax(output[i]) == val else 0\n",
        "        total_samples += 1 \n",
        "\n",
        "  return 1 - total_correct/total_samples"
      ],
      "metadata": {
        "id": "F2L-ayccE7tP"
      },
      "execution_count": null,
      "outputs": []
    },
    {
      "cell_type": "code",
      "execution_count": null,
      "metadata": {
        "id": "1DKAaMBcm_6j"
      },
      "outputs": [],
      "source": [
        "#ResNet Models from https://github.com/akamaster/pytorch_resnet_cifar10/blob/master/resnet.py \n",
        "#Generic norm implementation\n",
        "import torch\n",
        "import torch.nn as nn\n",
        "import torch.nn.functional as F\n",
        "import torch.nn.init as init\n",
        "\n",
        "from torch.autograd import Variable\n",
        "\n",
        "__all__ = ['ResNet', 'resnet20', 'resnet32', 'resnet44', 'resnet56', 'resnet110', 'resnet1202']\n",
        "\n",
        "#Do I need () or not\n",
        "bn_dict = {'control' : BatchNorm, 'noisyshift': NoisyShiftNorm,'noisyscale': NoisyScaleNorm ,'noisyss': NoisySSBatchNorm, 'noisyss2' : NoisySSBatchNorm2,\n",
        "'meannorm2' : MeanNorm2, 'varnorm2': VarNorm2, 'ss_none' : SS_noneBatchNorm } \n",
        "\n",
        "\n",
        "def _weights_init(m):\n",
        "    classname = m.__class__.__name__\n",
        "    #print(classname)\n",
        "    if isinstance(m, nn.Linear) or isinstance(m, nn.Conv2d):\n",
        "        init.kaiming_normal_(m.weight)\n",
        "\n",
        "class LambdaLayer(nn.Module):\n",
        "    def __init__(self, lambd):\n",
        "        super(LambdaLayer, self).__init__()\n",
        "        self.lambd = lambd\n",
        "\n",
        "    def forward(self, x):\n",
        "        return self.lambd(x)\n",
        "\n",
        "\n",
        "class BasicBlock(nn.Module):\n",
        "    expansion = 1\n",
        "    def __init__(self, in_planes, planes, bn_type, stride=1, option='A'):\n",
        "        super(BasicBlock, self).__init__()\n",
        "        self.conv1 = nn.Conv2d(in_planes, planes, kernel_size=3, stride=stride, padding=1, bias=False)\n",
        "        self.bn1 = bn_dict[bn_type](planes, 4)\n",
        "        self.conv2 = nn.Conv2d(planes, planes, kernel_size=3, stride=1, padding=1, bias=False)\n",
        "        self.bn2 = bn_dict[bn_type](planes, 4)\n",
        "\n",
        "        self.shortcut = nn.Sequential()\n",
        "        #TO_DO: make it only usable for CIFAR10\n",
        "        if stride != 1 or in_planes != planes:\n",
        "            if option == 'A':\n",
        "                \"\"\"\n",
        "                For CIFAR10 ResNet paper uses option A.\n",
        "                \"\"\"\n",
        "                self.shortcut = LambdaLayer(lambda x:\n",
        "                                            F.pad(x[:, :, ::2, ::2], (0, 0, 0, 0, planes//4, planes//4), \"constant\", 0))\n",
        "            elif option == 'B':\n",
        "                self.shortcut = nn.Sequential(\n",
        "                     nn.Conv2d(in_planes, self.expansion * planes, kernel_size=1, stride=stride, bias=False),\n",
        "                     nn.BatchNorm2d(self.expansion * planes)\n",
        "                )\n",
        "\n",
        "    def forward(self, x):\n",
        "        out = F.relu(self.bn1(self.conv1(x)))\n",
        "        out = self.bn2(self.conv2(out))\n",
        "        out += self.shortcut(x)\n",
        "        out = F.relu(out)\n",
        "        return out\n",
        "\n",
        "\n",
        "class ResNet(nn.Module):\n",
        "    def __init__(self, block, num_blocks, bn_type, num_classes=10):\n",
        "        super(ResNet, self).__init__()\n",
        "        self.in_planes = 16\n",
        "        self.conv1 = nn.Conv2d(3, 16, kernel_size=3, stride=1, padding=1, bias=False)\n",
        "        self.bn1 = bn_dict[bn_type](16, 4)\n",
        "        self.layer1 = self._make_layer(block, 16, num_blocks[0], bn_type, stride=1)\n",
        "        self.layer2 = self._make_layer(block, 32, num_blocks[1], bn_type, stride=2)\n",
        "        self.layer3 = self._make_layer(block, 64, num_blocks[2], bn_type, stride=2)\n",
        "        self.linear = nn.Linear(64, num_classes)\n",
        "\n",
        "        self.apply(_weights_init)\n",
        "\n",
        "    def _make_layer(self, block, planes, num_blocks, bn_type, stride):\n",
        "        strides = [stride] + [1]*(num_blocks-1)\n",
        "        layers = []\n",
        "        for stride in strides:\n",
        "            layers.append(block(self.in_planes, planes, bn_type, stride))\n",
        "            self.in_planes = planes * block.expansion\n",
        "\n",
        "        return nn.Sequential(*layers)\n",
        "\n",
        "    def forward(self, x):\n",
        "        out = F.relu(self.bn1(self.conv1(x)))\n",
        "        out = self.layer1(out)\n",
        "        out = self.layer2(out)\n",
        "        out = self.layer3(out)\n",
        "        out = F.avg_pool2d(out, out.size()[3])\n",
        "        out = out.view(out.size(0), -1)\n",
        "        out = self.linear(out)\n",
        "        return out\n",
        "\n",
        "def resnet20(bn_type):\n",
        "    return ResNet(BasicBlock, [3, 3, 3], bn_type)\n",
        "\n",
        "\n",
        "def resnet32(bn_type):\n",
        "    return ResNet(BasicBlock, [5, 5, 5], bn_type)\n",
        "\n",
        "\n",
        "def resnet44(bn_type):\n",
        "    return ResNet(BasicBlock, [7, 7, 7], bn_type)\n",
        "\n",
        "\n",
        "def resnet56(bn_type):\n",
        "    return ResNet(BasicBlock, [9, 9, 9], bn_type)\n",
        "\n",
        "\n",
        "def resnet110(bn_type):\n",
        "    return ResNet(BasicBlock, [18, 18, 18], bn_type)\n",
        "\n",
        "\n",
        "def resnet1202(bn_type):\n",
        "    return ResNet(BasicBlock, [200, 200, 200], bn_type)\n",
        "\n",
        "#Number of parameters and layer testing\n",
        "# def test_net(net):\n",
        "#     import numpy as np\n",
        "#     total_params = 0\n",
        "\n",
        "#     for x in filter(lambda p: p.requires_grad, net.parameters()):\n",
        "#         total_params += np.prod(x.data.numpy().shape)\n",
        "#     print(\"Total number of params\", total_params)\n",
        "#     print(\"Total layers\", len(list(filter(lambda p: p.requires_grad and len(p.data.size())>1, net.parameters()))))\n",
        "\n",
        "\n",
        "# if __name__ == \"__main__\":\n",
        "#     for net_name in __all__:\n",
        "#         if net_name.startswith('resnet'):\n",
        "#             print(net_name)\n",
        "#             test_net(globals()[net_name]())\n",
        "#             print()"
      ]
    },
    {
      "cell_type": "markdown",
      "source": [
        "# Experiments"
      ],
      "metadata": {
        "id": "kfggjImyfjN4"
      }
    },
    {
      "cell_type": "code",
      "source": [
        "#Hyper Parameters need to think about tuning budget for these and how I will go about finding optimal LR for each\n",
        "lr = 0.01\n",
        "momentum = 0.9 \n",
        "epochs = 25\n",
        "criterion = torch.nn.CrossEntropyLoss()"
      ],
      "metadata": {
        "id": "yVpeRBmXG3o6"
      },
      "execution_count": null,
      "outputs": []
    },
    {
      "cell_type": "code",
      "source": [
        "#Experimments\n",
        "\n",
        "#We want to Run Each different norm on 22, 32, 56, 110 resnets first and observe test accuracy over 25 epochs against control\n",
        "\n",
        "#Control first \n",
        "# for each of the norms with a noise\n",
        "# we will adjust the scale and shift parameters by seeing how it performs over 10 epochs\n",
        "#We will then run the full tests with the best seeing parameters at 25 epochs\n",
        "\n",
        "#Code for Generating graph of test accuracy over training epochs\n",
        "import matplotlib.pyplot as plt\n",
        "def plot_epochs_and_accuracies(e_and_acc, plot_title):\n",
        "  x, y = zip(*e_and_acc)\n",
        "  fig1 = plt.plot(*zip(*e_and_acc))\n",
        "  plt.xlabel('Number of Epochs')\n",
        "  plt.ylabel('Test Accuracy')\n",
        "  plt.title(plot_title)\n",
        "  plt.show()"
      ],
      "metadata": {
        "id": "TodFjsNhuHPw"
      },
      "execution_count": null,
      "outputs": []
    },
    {
      "cell_type": "code",
      "source": [
        " {'control' : nn.BatchNorm2d, 'noisyshift': NoisyShiftNorm,'noisyscale': NoisyScaleNorm ,'noisyss': NoisySSBatchNorm,\n",
        "'noisymean': NoisyMeanBatchNorm, 'noisyvar' : NoisyVarBatchNorm, 'meannorm1' : MeanNorm1, \n",
        "'meannorm2' : MeanNorm2, 'varnorm1': VarNorm1, 'varnorm2': VarNorm2, 'ss_none ' : SS_noneBatchNorm , 'ss_only': SS_onlyBatchNorm}"
      ],
      "metadata": {
        "id": "ykJA9g4-zGj1"
      },
      "execution_count": null,
      "outputs": []
    },
    {
      "cell_type": "code",
      "source": [
        "model = ResNet(BasicBlock, [1, 1, 1], 'control' ).cuda()\n",
        "optimizer = torch.optim.SGD(model.parameters(), lr=lr, momentum=momentum)\n",
        "train_errs, test_errs, epochs_and_test_errs_control22 = train(30, model, criterion, optimizer, train_loader, test_loader)"
      ],
      "metadata": {
        "colab": {
          "base_uri": "https://localhost:8080/"
        },
        "id": "0N8iSUG1oOix",
        "outputId": "4bc23c44-0190-4c99-ed40-b9d4209819cd"
      },
      "execution_count": null,
      "outputs": [
        {
          "output_type": "stream",
          "name": "stdout",
          "text": [
            "Epoch 000/030, Train Error 86.95% || Test Error 87.50%\n",
            "Epoch 001/030, Train Error 80.95% || Test Error 83.50%\n",
            "Epoch 002/030, Train Error 77.95% || Test Error 79.25%\n",
            "Epoch 003/030, Train Error 72.55% || Test Error 78.00%\n",
            "Epoch 004/030, Train Error 69.20% || Test Error 74.75%\n",
            "Epoch 005/030, Train Error 68.50% || Test Error 73.50%\n",
            "Epoch 006/030, Train Error 66.60% || Test Error 73.50%\n",
            "Epoch 007/030, Train Error 65.20% || Test Error 68.75%\n",
            "Epoch 008/030, Train Error 63.10% || Test Error 68.00%\n",
            "Epoch 009/030, Train Error 62.65% || Test Error 65.75%\n",
            "Epoch 010/030, Train Error 61.30% || Test Error 66.75%\n",
            "Epoch 011/030, Train Error 60.00% || Test Error 65.00%\n",
            "Epoch 012/030, Train Error 59.05% || Test Error 65.00%\n",
            "Epoch 013/030, Train Error 59.60% || Test Error 66.25%\n",
            "Epoch 014/030, Train Error 59.30% || Test Error 63.75%\n",
            "Epoch 015/030, Train Error 57.90% || Test Error 62.50%\n",
            "Epoch 016/030, Train Error 56.35% || Test Error 62.25%\n",
            "Epoch 017/030, Train Error 56.45% || Test Error 62.25%\n",
            "Epoch 018/030, Train Error 55.35% || Test Error 63.50%\n",
            "Epoch 019/030, Train Error 53.45% || Test Error 61.75%\n",
            "Epoch 020/030, Train Error 54.30% || Test Error 61.50%\n",
            "Epoch 021/030, Train Error 52.95% || Test Error 59.25%\n",
            "Epoch 022/030, Train Error 53.00% || Test Error 60.25%\n",
            "Epoch 023/030, Train Error 51.60% || Test Error 61.75%\n",
            "Epoch 024/030, Train Error 52.00% || Test Error 62.75%\n",
            "Epoch 025/030, Train Error 50.45% || Test Error 59.50%\n",
            "Epoch 026/030, Train Error 49.65% || Test Error 62.00%\n",
            "Epoch 027/030, Train Error 49.35% || Test Error 61.25%\n",
            "Epoch 028/030, Train Error 48.20% || Test Error 60.00%\n",
            "Epoch 029/030, Train Error 47.65% || Test Error 59.25%\n"
          ]
        }
      ]
    },
    {
      "cell_type": "code",
      "source": [
        "# SS nonw ResNet 22 with beta 0 and noise scale equal 0.2\n",
        "print(\"SS None Resnet22\")\n",
        "model = ResNet(BasicBlock, [9, 9, 9], 'ss_none').cuda()\n",
        "optimizer = torch.optim.SGD(model.parameters(), lr=lr, momentum=momentum)\n",
        "train_errs, test_errs, epochs_and_test_errs_control22 = train(15, model, criterion, optimizer, train_loader, test_loader)\n",
        "\n",
        "plot_epochs_and_accuracies(epochs_and_test_errs_control22, 'SS_None Resnet 22')"
      ],
      "metadata": {
        "colab": {
          "base_uri": "https://localhost:8080/",
          "height": 567
        },
        "id": "9w6ieGHmWohW",
        "outputId": "55bdd2d8-65d2-48cd-e2ee-cbed6f6ebbeb"
      },
      "execution_count": null,
      "outputs": [
        {
          "output_type": "stream",
          "name": "stdout",
          "text": [
            "SS None Resnet22\n",
            "Epoch 000/015, Train Error 62.12% || Test Error 54.10%\n",
            "Epoch 001/015, Train Error 47.39% || Test Error 43.44%\n",
            "Epoch 002/015, Train Error 40.48% || Test Error 41.10%\n",
            "Epoch 003/015, Train Error 35.58% || Test Error 38.13%\n",
            "Epoch 004/015, Train Error 31.28% || Test Error 37.89%\n",
            "Epoch 005/015, Train Error 27.92% || Test Error 33.58%\n",
            "Epoch 006/015, Train Error 25.18% || Test Error 35.17%\n",
            "Epoch 007/015, Train Error 22.56% || Test Error 33.51%\n",
            "Epoch 008/015, Train Error 19.80% || Test Error 35.45%\n",
            "Epoch 009/015, Train Error 17.19% || Test Error 32.38%\n",
            "Epoch 010/015, Train Error 15.15% || Test Error 37.72%\n",
            "Epoch 011/015, Train Error 13.28% || Test Error 41.75%\n",
            "Epoch 012/015, Train Error 11.61% || Test Error 37.23%\n",
            "Epoch 013/015, Train Error 9.72% || Test Error 35.23%\n",
            "Epoch 014/015, Train Error 8.83% || Test Error 33.30%\n"
          ]
        },
        {
          "output_type": "display_data",
          "data": {
            "text/plain": [
              "<Figure size 432x288 with 1 Axes>"
            ],
            "image/png": "[encoded data removed]"
          },
          "metadata": {
            "needs_background": "light"
          }
        }
      ]
    },
    {
      "cell_type": "code",
      "source": [
        "#NoisySSNorm2 ResNet 22 with beta 0 and noise scale equal 0.2\n",
        "print(\"NoisySSNorm2 Resnet22\")\n",
        "model = ResNet(BasicBlock, [3, 3, 3], 'noisyss2').cuda()\n",
        "optimizer = torch.optim.SGD(model.parameters(), lr=lr, momentum=momentum)\n",
        "train_errs, test_errs, epochs_and_test_errs_control22 = train(epochs, model, criterion, optimizer, train_loader, test_loader)\n",
        "\n",
        "plot_epochs_and_accuracies(epochs_and_test_errs_control22, 'NoisySSNorm2 Resnet 22')"
      ],
      "metadata": {
        "colab": {
          "base_uri": "https://localhost:8080/",
          "height": 737
        },
        "id": "A3HEZcWFRTva",
        "outputId": "98b647de-f865-4cbf-f63a-fb5ec989eb1f"
      },
      "execution_count": null,
      "outputs": [
        {
          "output_type": "stream",
          "name": "stdout",
          "text": [
            "NoisySSNorm2 Resnet22\n",
            "Epoch 000/025, Train Error 65.60% || Test Error 57.17%\n",
            "Epoch 001/025, Train Error 51.99% || Test Error 51.65%\n",
            "Epoch 002/025, Train Error 45.70% || Test Error 47.37%\n",
            "Epoch 003/025, Train Error 41.69% || Test Error 41.28%\n",
            "Epoch 004/025, Train Error 37.49% || Test Error 39.83%\n",
            "Epoch 005/025, Train Error 34.59% || Test Error 39.99%\n",
            "Epoch 006/025, Train Error 32.01% || Test Error 33.22%\n",
            "Epoch 007/025, Train Error 29.76% || Test Error 34.36%\n",
            "Epoch 008/025, Train Error 27.84% || Test Error 31.32%\n",
            "Epoch 009/025, Train Error 26.37% || Test Error 32.04%\n",
            "Epoch 010/025, Train Error 24.65% || Test Error 33.33%\n",
            "Epoch 011/025, Train Error 23.36% || Test Error 29.61%\n",
            "Epoch 012/025, Train Error 21.96% || Test Error 25.60%\n",
            "Epoch 013/025, Train Error 20.48% || Test Error 27.07%\n",
            "Epoch 014/025, Train Error 19.39% || Test Error 29.89%\n",
            "Epoch 015/025, Train Error 18.06% || Test Error 29.28%\n",
            "Epoch 016/025, Train Error 16.92% || Test Error 27.19%\n",
            "Epoch 017/025, Train Error 15.82% || Test Error 25.09%\n",
            "Epoch 018/025, Train Error 14.76% || Test Error 24.63%\n",
            "Epoch 019/025, Train Error 13.57% || Test Error 26.29%\n",
            "Epoch 020/025, Train Error 12.72% || Test Error 24.77%\n",
            "Epoch 021/025, Train Error 11.71% || Test Error 25.59%\n",
            "Epoch 022/025, Train Error 10.70% || Test Error 26.20%\n",
            "Epoch 023/025, Train Error 10.00% || Test Error 31.77%\n",
            "Epoch 024/025, Train Error 8.80% || Test Error 26.84%\n"
          ]
        },
        {
          "output_type": "display_data",
          "data": {
            "text/plain": [
              "<Figure size 432x288 with 1 Axes>"
            ],
            "image/png": "[encoded data removed]"
          },
          "metadata": {
            "needs_background": "light"
          }
        }
      ]
    },
    {
      "cell_type": "code",
      "source": [
        "#NoisySSNorm2 ResNet 22 with beta and noise scale equal zero\n",
        "print(\"NoisySSNorm2 Resnet22\")\n",
        "model = ResNet(BasicBlock, [3, 3, 3], 'noisyss2').cuda()\n",
        "optimizer = torch.optim.SGD(model.parameters(), lr=lr, momentum=momentum)\n",
        "train_errs, test_errs, epochs_and_test_errs_control22 = train(epochs, model, criterion, optimizer, train_loader, test_loader)\n",
        "\n",
        "plot_epochs_and_accuracies(epochs_and_test_errs_control22, 'NoisySSNorm2 Resnet 22')"
      ],
      "metadata": {
        "colab": {
          "base_uri": "https://localhost:8080/",
          "height": 737
        },
        "id": "CAWZ0iYFNrhe",
        "outputId": "14f847ad-eebf-4326-aebd-48f2c600a311"
      },
      "execution_count": null,
      "outputs": [
        {
          "output_type": "stream",
          "name": "stdout",
          "text": [
            "NoisySSNorm2 Resnet22\n",
            "Epoch 000/025, Train Error 66.26% || Test Error 59.72%\n",
            "Epoch 001/025, Train Error 52.41% || Test Error 56.99%\n",
            "Epoch 002/025, Train Error 45.14% || Test Error 45.04%\n",
            "Epoch 003/025, Train Error 39.83% || Test Error 39.27%\n",
            "Epoch 004/025, Train Error 35.86% || Test Error 37.20%\n",
            "Epoch 005/025, Train Error 33.55% || Test Error 36.34%\n",
            "Epoch 006/025, Train Error 31.09% || Test Error 37.47%\n",
            "Epoch 007/025, Train Error 29.17% || Test Error 34.42%\n",
            "Epoch 008/025, Train Error 27.11% || Test Error 31.85%\n",
            "Epoch 009/025, Train Error 25.77% || Test Error 29.01%\n",
            "Epoch 010/025, Train Error 23.99% || Test Error 32.33%\n",
            "Epoch 011/025, Train Error 22.70% || Test Error 28.84%\n",
            "Epoch 012/025, Train Error 21.45% || Test Error 27.61%\n",
            "Epoch 013/025, Train Error 20.05% || Test Error 28.20%\n",
            "Epoch 014/025, Train Error 18.94% || Test Error 23.94%\n",
            "Epoch 015/025, Train Error 17.80% || Test Error 24.47%\n",
            "Epoch 016/025, Train Error 16.56% || Test Error 26.20%\n",
            "Epoch 017/025, Train Error 15.63% || Test Error 22.81%\n",
            "Epoch 018/025, Train Error 14.50% || Test Error 24.41%\n",
            "Epoch 019/025, Train Error 13.65% || Test Error 22.99%\n",
            "Epoch 020/025, Train Error 12.57% || Test Error 24.27%\n",
            "Epoch 021/025, Train Error 11.75% || Test Error 22.65%\n",
            "Epoch 022/025, Train Error 10.63% || Test Error 24.21%\n",
            "Epoch 023/025, Train Error 9.38% || Test Error 31.32%\n",
            "Epoch 024/025, Train Error 9.03% || Test Error 24.28%\n"
          ]
        },
        {
          "output_type": "display_data",
          "data": {
            "text/plain": [
              "<Figure size 432x288 with 1 Axes>"
            ],
            "image/png": "[encoded data removed]"
          },
          "metadata": {
            "needs_background": "light"
          }
        }
      ]
    },
    {
      "cell_type": "code",
      "source": [
        "#NoisySSNorm2 ResNet 22 with beta =0\n",
        "print(\"NoisySSNorm2 Resnet22\")\n",
        "model = ResNet(BasicBlock, [3, 3, 3], 'noisyss2').cuda()\n",
        "optimizer = torch.optim.SGD(model.parameters(), lr=lr, momentum=momentum)\n",
        "train_errs, test_errs, epochs_and_test_errs_control22 = train(epochs, model, criterion, optimizer, train_loader, test_loader)\n",
        "\n",
        "plot_epochs_and_accuracies(epochs_and_test_errs_control22, 'NoisySSNorm2 Resnet 22')"
      ],
      "metadata": {
        "colab": {
          "base_uri": "https://localhost:8080/",
          "height": 737
        },
        "id": "PkSpYcRhKmT8",
        "outputId": "ebfab52e-2c29-47f3-8ff8-a4d47de15955"
      },
      "execution_count": null,
      "outputs": [
        {
          "output_type": "stream",
          "name": "stdout",
          "text": [
            "NoisySSNorm2 Resnet22\n",
            "Epoch 000/025, Train Error 65.58% || Test Error 57.04%\n",
            "Epoch 001/025, Train Error 50.90% || Test Error 52.19%\n",
            "Epoch 002/025, Train Error 43.32% || Test Error 44.44%\n",
            "Epoch 003/025, Train Error 38.68% || Test Error 39.03%\n",
            "Epoch 004/025, Train Error 35.21% || Test Error 36.89%\n",
            "Epoch 005/025, Train Error 32.93% || Test Error 37.92%\n",
            "Epoch 006/025, Train Error 30.53% || Test Error 33.56%\n",
            "Epoch 007/025, Train Error 28.97% || Test Error 32.51%\n",
            "Epoch 008/025, Train Error 27.38% || Test Error 32.36%\n",
            "Epoch 009/025, Train Error 25.77% || Test Error 32.01%\n",
            "Epoch 010/025, Train Error 24.50% || Test Error 28.10%\n",
            "Epoch 011/025, Train Error 23.19% || Test Error 27.98%\n",
            "Epoch 012/025, Train Error 21.76% || Test Error 26.39%\n",
            "Epoch 013/025, Train Error 20.73% || Test Error 35.16%\n",
            "Epoch 014/025, Train Error 19.69% || Test Error 30.05%\n",
            "Epoch 015/025, Train Error 18.82% || Test Error 26.99%\n",
            "Epoch 016/025, Train Error 17.66% || Test Error 26.46%\n",
            "Epoch 017/025, Train Error 16.28% || Test Error 25.71%\n",
            "Epoch 018/025, Train Error 15.50% || Test Error 28.51%\n",
            "Epoch 019/025, Train Error 14.17% || Test Error 28.41%\n",
            "Epoch 020/025, Train Error 13.25% || Test Error 26.48%\n",
            "Epoch 021/025, Train Error 12.38% || Test Error 24.01%\n",
            "Epoch 022/025, Train Error 11.26% || Test Error 26.55%\n",
            "Epoch 023/025, Train Error 10.14% || Test Error 28.26%\n",
            "Epoch 024/025, Train Error 9.11% || Test Error 25.75%\n"
          ]
        },
        {
          "output_type": "display_data",
          "data": {
            "text/plain": [
              "<Figure size 432x288 with 1 Axes>"
            ],
            "image/png": "[encoded data removed]"
          },
          "metadata": {
            "needs_background": "light"
          }
        }
      ]
    },
    {
      "cell_type": "code",
      "source": [
        "#NoisySSNorm2 ResNet 22\n",
        "print(\"NoisySSNorm2 Resnet22\")\n",
        "model = ResNet(BasicBlock, [3, 3, 3], 'noisyss2').cuda()\n",
        "optimizer = torch.optim.SGD(model.parameters(), lr=lr, momentum=momentum)\n",
        "train_errs, test_errs, epochs_and_test_errs_control22 = train(epochs, model, criterion, optimizer, train_loader, test_loader)\n",
        "\n",
        "plot_epochs_and_accuracies(epochs_and_test_errs_control22, 'NoisySSNorm2 Resnet 22')"
      ],
      "metadata": {
        "colab": {
          "base_uri": "https://localhost:8080/",
          "height": 737
        },
        "id": "-j3UGEqhwQkN",
        "outputId": "10c04965-56d1-4c11-c394-8bd99ab3f555"
      },
      "execution_count": null,
      "outputs": [
        {
          "output_type": "stream",
          "name": "stdout",
          "text": [
            "NoisySSNorm2 Resnet22\n",
            "Epoch 000/025, Train Error 66.31% || Test Error 56.10%\n",
            "Epoch 001/025, Train Error 53.50% || Test Error 52.67%\n",
            "Epoch 002/025, Train Error 47.01% || Test Error 45.14%\n",
            "Epoch 003/025, Train Error 41.55% || Test Error 41.81%\n",
            "Epoch 004/025, Train Error 38.32% || Test Error 37.50%\n",
            "Epoch 005/025, Train Error 35.07% || Test Error 36.88%\n",
            "Epoch 006/025, Train Error 32.82% || Test Error 33.49%\n",
            "Epoch 007/025, Train Error 30.76% || Test Error 34.48%\n",
            "Epoch 008/025, Train Error 29.01% || Test Error 33.08%\n",
            "Epoch 009/025, Train Error 27.65% || Test Error 32.52%\n",
            "Epoch 010/025, Train Error 25.93% || Test Error 31.55%\n",
            "Epoch 011/025, Train Error 24.59% || Test Error 28.74%\n",
            "Epoch 012/025, Train Error 23.14% || Test Error 29.13%\n",
            "Epoch 013/025, Train Error 22.14% || Test Error 28.31%\n",
            "Epoch 014/025, Train Error 20.72% || Test Error 27.96%\n",
            "Epoch 015/025, Train Error 19.81% || Test Error 28.41%\n",
            "Epoch 016/025, Train Error 18.60% || Test Error 26.33%\n",
            "Epoch 017/025, Train Error 17.10% || Test Error 26.18%\n",
            "Epoch 018/025, Train Error 16.19% || Test Error 27.01%\n",
            "Epoch 019/025, Train Error 15.35% || Test Error 27.73%\n",
            "Epoch 020/025, Train Error 13.99% || Test Error 29.91%\n",
            "Epoch 021/025, Train Error 12.94% || Test Error 29.29%\n",
            "Epoch 022/025, Train Error 11.68% || Test Error 25.78%\n",
            "Epoch 023/025, Train Error 10.74% || Test Error 27.74%\n",
            "Epoch 024/025, Train Error 9.73% || Test Error 27.39%\n"
          ]
        },
        {
          "output_type": "display_data",
          "data": {
            "text/plain": [
              "<Figure size 432x288 with 1 Axes>"
            ],
            "image/png": "[encoded data removed]"
          },
          "metadata": {
            "needs_background": "light"
          }
        }
      ]
    },
    {
      "cell_type": "code",
      "source": [
        "#NoisySSNorm2 ResNet 56\n",
        "print(\"NoisySSNorm2 Resnet56\")\n",
        "model = ResNet(BasicBlock, [9, 9, 9], 'noisyss2').cuda()\n",
        "optimizer = torch.optim.SGD(model.parameters(), lr=lr, momentum=momentum)\n",
        "train_errs, test_errs, epochs_and_test_errs_nss56 = train(epochs, model, criterion, optimizer, train_loader, test_loader)\n",
        "\n",
        "plot_epochs_and_accuracies(epochs_and_test_errs_nss56, 'NoisySSNorm2 Resnet 22')"
      ],
      "metadata": {
        "id": "5zc97rHezUMe",
        "colab": {
          "base_uri": "https://localhost:8080/",
          "height": 657
        },
        "outputId": "5c19fbb8-db7c-4092-b904-28fc74bbbd22"
      },
      "execution_count": null,
      "outputs": [
        {
          "output_type": "stream",
          "name": "stdout",
          "text": [
            "NoisySSNorm2 Resnet56\n",
            "Epoch 000/025, Train Error 67.30% || Test Error 60.96%\n",
            "Epoch 001/025, Train Error 54.03% || Test Error 51.74%\n",
            "Epoch 002/025, Train Error 47.24% || Test Error 47.73%\n",
            "Epoch 003/025, Train Error 41.94% || Test Error 46.48%\n",
            "Epoch 004/025, Train Error 37.78% || Test Error 39.26%\n",
            "Epoch 005/025, Train Error 34.59% || Test Error 34.31%\n",
            "Epoch 006/025, Train Error 32.05% || Test Error 33.94%\n",
            "Epoch 007/025, Train Error 29.71% || Test Error 34.54%\n",
            "Epoch 008/025, Train Error 27.14% || Test Error 31.56%\n",
            "Epoch 009/025, Train Error 25.21% || Test Error 28.89%\n",
            "Epoch 010/025, Train Error 23.92% || Test Error 28.52%\n",
            "Epoch 011/025, Train Error 22.45% || Test Error 30.17%\n",
            "Epoch 012/025, Train Error 20.78% || Test Error 27.44%\n",
            "Epoch 013/025, Train Error 19.82% || Test Error 30.48%\n",
            "Epoch 014/025, Train Error 18.38% || Test Error 24.55%\n",
            "Epoch 015/025, Train Error 17.66% || Test Error 24.72%\n",
            "Epoch 016/025, Train Error 16.69% || Test Error 27.47%\n",
            "Epoch 017/025, Train Error 15.95% || Test Error 27.97%\n",
            "Epoch 018/025, Train Error 14.59% || Test Error 23.83%\n",
            "Epoch 019/025, Train Error 13.63% || Test Error 24.60%\n",
            "Epoch 020/025, Train Error 12.76% || Test Error 31.71%\n",
            "Epoch 021/025, Train Error 11.91% || Test Error 24.41%\n",
            "Epoch 022/025, Train Error 11.02% || Test Error 24.66%\n",
            "Epoch 023/025, Train Error 10.17% || Test Error 30.48%\n",
            "Epoch 024/025, Train Error 8.90% || Test Error 23.24%\n"
          ]
        },
        {
          "output_type": "error",
          "ename": "NameError",
          "evalue": "ignored",
          "traceback": [
            "\u001b[0;31m---------------------------------------------------------------------------\u001b[0m",
            "\u001b[0;31mNameError\u001b[0m                                 Traceback (most recent call last)",
            "\u001b[0;32m<ipython-input-26-f1b94687295a>\u001b[0m in \u001b[0;36m<module>\u001b[0;34m\u001b[0m\n\u001b[1;32m      5\u001b[0m \u001b[0mtrain_errs\u001b[0m\u001b[0;34m,\u001b[0m \u001b[0mtest_errs\u001b[0m\u001b[0;34m,\u001b[0m \u001b[0mepochs_and_test_errs_nss56\u001b[0m \u001b[0;34m=\u001b[0m \u001b[0mtrain\u001b[0m\u001b[0;34m(\u001b[0m\u001b[0mepochs\u001b[0m\u001b[0;34m,\u001b[0m \u001b[0mmodel\u001b[0m\u001b[0;34m,\u001b[0m \u001b[0mcriterion\u001b[0m\u001b[0;34m,\u001b[0m \u001b[0moptimizer\u001b[0m\u001b[0;34m,\u001b[0m \u001b[0mtrain_loader\u001b[0m\u001b[0;34m,\u001b[0m \u001b[0mtest_loader\u001b[0m\u001b[0;34m)\u001b[0m\u001b[0;34m\u001b[0m\u001b[0;34m\u001b[0m\u001b[0m\n\u001b[1;32m      6\u001b[0m \u001b[0;34m\u001b[0m\u001b[0m\n\u001b[0;32m----> 7\u001b[0;31m \u001b[0mplot_epochs_and_accuracies\u001b[0m\u001b[0;34m(\u001b[0m\u001b[0mepochs_and_test_errs_nss56\u001b[0m\u001b[0;34m,\u001b[0m \u001b[0;34m'NoisySSNorm2 Resnet 22'\u001b[0m\u001b[0;34m)\u001b[0m\u001b[0;34m\u001b[0m\u001b[0;34m\u001b[0m\u001b[0m\n\u001b[0m",
            "\u001b[0;31mNameError\u001b[0m: name 'plot_epochs_and_accuracies' is not defined"
          ]
        }
      ]
    },
    {
      "cell_type": "code",
      "source": [
        "#Control ResNet 22\n",
        "print(\"Control Resnet22\")\n",
        "model = ResNet(BasicBlock, [3, 3, 3], 'control').cuda()\n",
        "optimizer = torch.optim.SGD(model.parameters(), lr=lr, momentum=momentum)\n",
        "train_errs, test_errs, epochs_and_test_errs_control22 = train(epochs, model, criterion, optimizer, train_loader, test_loader)\n",
        "\n",
        "plot_epochs_and_accuracies(epochs_and_test_errs_control22, 'Control Resnet 22')"
      ],
      "metadata": {
        "colab": {
          "base_uri": "https://localhost:8080/",
          "height": 737
        },
        "id": "gcm9Bzf7uLUT",
        "outputId": "f7585198-1691-481f-8951-b7d2eb352465"
      },
      "execution_count": null,
      "outputs": [
        {
          "output_type": "stream",
          "name": "stdout",
          "text": [
            "Control Resnet22\n",
            "Epoch 000/025, Train Error 61.85% || Test Error 55.07%\n",
            "Epoch 001/025, Train Error 46.71% || Test Error 48.82%\n",
            "Epoch 002/025, Train Error 39.84% || Test Error 42.95%\n",
            "Epoch 003/025, Train Error 35.37% || Test Error 42.06%\n",
            "Epoch 004/025, Train Error 32.13% || Test Error 34.58%\n",
            "Epoch 005/025, Train Error 29.30% || Test Error 32.23%\n",
            "Epoch 006/025, Train Error 26.81% || Test Error 34.91%\n",
            "Epoch 007/025, Train Error 24.59% || Test Error 31.85%\n",
            "Epoch 008/025, Train Error 22.80% || Test Error 30.96%\n",
            "Epoch 009/025, Train Error 21.23% || Test Error 31.25%\n",
            "Epoch 010/025, Train Error 19.24% || Test Error 28.33%\n",
            "Epoch 011/025, Train Error 17.89% || Test Error 28.11%\n",
            "Epoch 012/025, Train Error 16.25% || Test Error 29.68%\n",
            "Epoch 013/025, Train Error 15.17% || Test Error 33.50%\n",
            "Epoch 014/025, Train Error 13.84% || Test Error 29.71%\n",
            "Epoch 015/025, Train Error 12.58% || Test Error 30.52%\n",
            "Epoch 016/025, Train Error 11.02% || Test Error 30.93%\n",
            "Epoch 017/025, Train Error 10.17% || Test Error 31.37%\n",
            "Epoch 018/025, Train Error 9.43% || Test Error 36.24%\n",
            "Epoch 019/025, Train Error 7.98% || Test Error 28.85%\n",
            "Epoch 020/025, Train Error 7.32% || Test Error 29.70%\n",
            "Epoch 021/025, Train Error 6.38% || Test Error 32.51%\n",
            "Epoch 022/025, Train Error 5.47% || Test Error 33.98%\n",
            "Epoch 023/025, Train Error 5.23% || Test Error 30.52%\n",
            "Epoch 024/025, Train Error 4.40% || Test Error 33.14%\n"
          ]
        },
        {
          "output_type": "display_data",
          "data": {
            "text/plain": [
              "<Figure size 432x288 with 1 Axes>"
            ],
            "image/png": "[encoded data removed]"
          },
          "metadata": {
            "needs_background": "light"
          }
        }
      ]
    },
    {
      "cell_type": "code",
      "source": [
        "#Control ResNet 56\n",
        "print(\"Control Resnet56\")\n",
        "model = ResNet(BasicBlock, [9, 9, 9], 'control').cuda()\n",
        "optimizer = torch.optim.SGD(model.parameters(), lr=lr, momentum=momentum)\n",
        "train_errs, test_errs, epochs_and_test_errs_control56 = train(epochs, model, criterion, optimizer, train_loader, test_loader)\n",
        "\n",
        "plot_epochs_and_accuracies(epochs_and_test_errs_control56, 'Control Resnet 56')"
      ],
      "metadata": {
        "colab": {
          "base_uri": "https://localhost:8080/",
          "height": 737
        },
        "id": "-RFsF-xQx6Wk",
        "outputId": "d335d957-8b61-4185-86c0-1c02887b78ba"
      },
      "execution_count": null,
      "outputs": [
        {
          "output_type": "stream",
          "name": "stdout",
          "text": [
            "Control Resnet56\n",
            "Epoch 000/025, Train Error 63.25% || Test Error 52.59%\n",
            "Epoch 001/025, Train Error 47.44% || Test Error 46.25%\n",
            "Epoch 002/025, Train Error 40.55% || Test Error 40.38%\n",
            "Epoch 003/025, Train Error 35.36% || Test Error 40.07%\n",
            "Epoch 004/025, Train Error 31.29% || Test Error 33.52%\n",
            "Epoch 005/025, Train Error 27.79% || Test Error 35.16%\n",
            "Epoch 006/025, Train Error 25.24% || Test Error 30.52%\n",
            "Epoch 007/025, Train Error 21.85% || Test Error 35.65%\n",
            "Epoch 008/025, Train Error 19.95% || Test Error 33.42%\n",
            "Epoch 009/025, Train Error 17.07% || Test Error 37.21%\n",
            "Epoch 010/025, Train Error 15.08% || Test Error 42.65%\n",
            "Epoch 011/025, Train Error 13.09% || Test Error 34.96%\n",
            "Epoch 012/025, Train Error 11.57% || Test Error 33.82%\n",
            "Epoch 013/025, Train Error 9.57% || Test Error 33.17%\n",
            "Epoch 014/025, Train Error 7.89% || Test Error 33.71%\n",
            "Epoch 015/025, Train Error 6.93% || Test Error 32.61%\n",
            "Epoch 016/025, Train Error 6.28% || Test Error 35.31%\n",
            "Epoch 017/025, Train Error 4.94% || Test Error 32.68%\n",
            "Epoch 018/025, Train Error 4.65% || Test Error 34.04%\n",
            "Epoch 019/025, Train Error 3.60% || Test Error 35.25%\n",
            "Epoch 020/025, Train Error 3.20% || Test Error 30.67%\n",
            "Epoch 021/025, Train Error 2.34% || Test Error 35.83%\n",
            "Epoch 022/025, Train Error 3.05% || Test Error 32.15%\n",
            "Epoch 023/025, Train Error 2.51% || Test Error 34.04%\n",
            "Epoch 024/025, Train Error 2.19% || Test Error 32.48%\n"
          ]
        },
        {
          "output_type": "display_data",
          "data": {
            "text/plain": [
              "<Figure size 432x288 with 1 Axes>"
            ],
            "image/png": "[encoded data removed]"
          },
          "metadata": {
            "needs_background": "light"
          }
        }
      ]
    },
    {
      "cell_type": "code",
      "source": [
        "#Noisy shift 22 beta=0.35 motivate this choice with more experiments\n",
        "print(\"Noisy Shift Resnet22\")\n",
        "model = ResNet(BasicBlock, [3, 3, 3], 'noisyshift').cuda()\n",
        "optimizer = torch.optim.SGD(model.parameters(), lr=lr, momentum=momentum)\n",
        "train_errs, test_errs, epochs_and_test_errs_control22 = train(epochs, model, criterion, optimizer, train_loader, test_loader)\n",
        "#mistakenly didnt change the names of the list\n",
        "plot_epochs_and_accuracies(epochs_and_test_errs_control22, 'Noisy Shift Resnet 22')"
      ],
      "metadata": {
        "colab": {
          "base_uri": "https://localhost:8080/",
          "height": 737
        },
        "id": "NhvpcgR9yzE2",
        "outputId": "1fa1fd37-e5b4-42b2-de12-d35959e50da7"
      },
      "execution_count": null,
      "outputs": [
        {
          "output_type": "stream",
          "name": "stdout",
          "text": [
            "Noisy Shift Resnet22\n",
            "Epoch 000/025, Train Error 66.70% || Test Error 60.78%\n",
            "Epoch 001/025, Train Error 54.28% || Test Error 50.57%\n",
            "Epoch 002/025, Train Error 48.06% || Test Error 49.53%\n",
            "Epoch 003/025, Train Error 42.91% || Test Error 42.23%\n",
            "Epoch 004/025, Train Error 39.12% || Test Error 39.87%\n",
            "Epoch 005/025, Train Error 35.93% || Test Error 39.10%\n",
            "Epoch 006/025, Train Error 33.34% || Test Error 39.12%\n",
            "Epoch 007/025, Train Error 31.53% || Test Error 37.68%\n",
            "Epoch 008/025, Train Error 29.79% || Test Error 33.73%\n",
            "Epoch 009/025, Train Error 28.27% || Test Error 30.76%\n",
            "Epoch 010/025, Train Error 27.09% || Test Error 32.39%\n",
            "Epoch 011/025, Train Error 25.69% || Test Error 29.74%\n",
            "Epoch 012/025, Train Error 24.51% || Test Error 31.60%\n",
            "Epoch 013/025, Train Error 23.13% || Test Error 27.65%\n",
            "Epoch 014/025, Train Error 22.15% || Test Error 26.77%\n",
            "Epoch 015/025, Train Error 21.08% || Test Error 26.02%\n",
            "Epoch 016/025, Train Error 20.01% || Test Error 26.93%\n",
            "Epoch 017/025, Train Error 18.94% || Test Error 25.47%\n",
            "Epoch 018/025, Train Error 18.18% || Test Error 25.91%\n",
            "Epoch 019/025, Train Error 17.28% || Test Error 28.95%\n",
            "Epoch 020/025, Train Error 16.16% || Test Error 26.48%\n",
            "Epoch 021/025, Train Error 15.36% || Test Error 25.54%\n",
            "Epoch 022/025, Train Error 14.23% || Test Error 22.34%\n",
            "Epoch 023/025, Train Error 13.55% || Test Error 22.70%\n",
            "Epoch 024/025, Train Error 12.68% || Test Error 24.82%\n"
          ]
        },
        {
          "output_type": "display_data",
          "data": {
            "text/plain": [
              "<Figure size 432x288 with 1 Axes>"
            ],
            "image/png": "[encoded data removed]"
          },
          "metadata": {
            "needs_background": "light"
          }
        }
      ]
    },
    {
      "cell_type": "code",
      "source": [
        "#Noisy shift 56 beta=0.35 maybe try again wiht higher beta\n",
        "print(\"Noisy Shift Resnet56\")\n",
        "model = ResNet(BasicBlock, [9, 9, 9], 'noisyshift').cuda()\n",
        "optimizer = torch.optim.SGD(model.parameters(), lr=lr, momentum=momentum)\n",
        "train_errs, test_errs, epochs_and_test_errs_nshift56 = train(epochs, model, criterion, optimizer, train_loader, test_loader)\n",
        "\n",
        "plot_epochs_and_accuracies(epochs_and_test_errs_nshift56, 'Noisy Shift Resnet 56')"
      ],
      "metadata": {
        "colab": {
          "base_uri": "https://localhost:8080/",
          "height": 737
        },
        "id": "k3cgdtv_zK4n",
        "outputId": "bb178420-09fe-4927-a549-0df439403cef"
      },
      "execution_count": null,
      "outputs": [
        {
          "output_type": "stream",
          "name": "stdout",
          "text": [
            "Noisy Shift Resnet56\n",
            "Epoch 000/025, Train Error 68.28% || Test Error 60.95%\n",
            "Epoch 001/025, Train Error 54.38% || Test Error 51.51%\n",
            "Epoch 002/025, Train Error 48.32% || Test Error 46.05%\n",
            "Epoch 003/025, Train Error 43.63% || Test Error 49.51%\n",
            "Epoch 004/025, Train Error 38.79% || Test Error 39.31%\n",
            "Epoch 005/025, Train Error 35.86% || Test Error 38.09%\n",
            "Epoch 006/025, Train Error 33.22% || Test Error 33.76%\n",
            "Epoch 007/025, Train Error 31.17% || Test Error 38.68%\n",
            "Epoch 008/025, Train Error 29.13% || Test Error 32.61%\n",
            "Epoch 009/025, Train Error 27.40% || Test Error 34.12%\n",
            "Epoch 010/025, Train Error 26.55% || Test Error 36.89%\n",
            "Epoch 011/025, Train Error 24.92% || Test Error 32.00%\n",
            "Epoch 012/025, Train Error 23.45% || Test Error 29.65%\n",
            "Epoch 013/025, Train Error 22.56% || Test Error 26.80%\n",
            "Epoch 014/025, Train Error 21.34% || Test Error 25.44%\n",
            "Epoch 015/025, Train Error 20.30% || Test Error 26.03%\n",
            "Epoch 016/025, Train Error 19.18% || Test Error 25.82%\n",
            "Epoch 017/025, Train Error 18.23% || Test Error 27.84%\n",
            "Epoch 018/025, Train Error 17.22% || Test Error 25.62%\n",
            "Epoch 019/025, Train Error 16.65% || Test Error 22.45%\n",
            "Epoch 020/025, Train Error 15.91% || Test Error 23.63%\n",
            "Epoch 021/025, Train Error 14.95% || Test Error 25.24%\n",
            "Epoch 022/025, Train Error 14.43% || Test Error 24.87%\n",
            "Epoch 023/025, Train Error 13.65% || Test Error 25.83%\n",
            "Epoch 024/025, Train Error 13.00% || Test Error 22.83%\n"
          ]
        },
        {
          "output_type": "display_data",
          "data": {
            "text/plain": [
              "<Figure size 432x288 with 1 Axes>"
            ],
            "image/png": "[encoded data removed]"
          },
          "metadata": {
            "needs_background": "light"
          }
        }
      ]
    },
    {
      "cell_type": "code",
      "source": [
        "#Noisy Scale 22\n",
        "print(\"Noisy Scale Resnet22\")\n",
        "model = ResNet(BasicBlock, [3, 3, 3], 'noisyscale').cuda()\n",
        "optimizer = torch.optim.SGD(model.parameters(), lr=0.5, momentum=momentum)\n",
        "train_errs, test_errs, epochs_and_test_errs_nscale22 = train(epochs, model, criterion, optimizer, train_loader, test_loader)\n",
        "\n",
        "plot_epochs_and_accuracies(epochs_and_test_errs_nscale22, 'Noisy Scale Resnet 22')"
      ],
      "metadata": {
        "colab": {
          "base_uri": "https://localhost:8080/",
          "height": 681
        },
        "id": "2Gq9DMgozQDs",
        "outputId": "f658cb01-67ed-46bd-d6bf-8eaca2a9f505"
      },
      "execution_count": null,
      "outputs": [
        {
          "output_type": "stream",
          "name": "stdout",
          "text": [
            "Noisy Scale Resnet22\n",
            "Epoch 000/025, Train Error 82.11% || Test Error 73.92%\n",
            "Epoch 001/025, Train Error 70.86% || Test Error 66.32%\n",
            "Epoch 002/025, Train Error 64.67% || Test Error 60.95%\n",
            "Epoch 003/025, Train Error 59.80% || Test Error 59.57%\n",
            "Epoch 004/025, Train Error 57.42% || Test Error 56.13%\n",
            "Epoch 005/025, Train Error 55.53% || Test Error 57.18%\n",
            "Epoch 006/025, Train Error 53.49% || Test Error 50.00%\n",
            "Epoch 007/025, Train Error 50.91% || Test Error 50.49%\n",
            "Epoch 008/025, Train Error 48.35% || Test Error 48.44%\n",
            "Epoch 009/025, Train Error 45.69% || Test Error 45.26%\n",
            "Epoch 010/025, Train Error 43.81% || Test Error 41.63%\n",
            "Epoch 011/025, Train Error 41.91% || Test Error 43.21%\n",
            "Epoch 012/025, Train Error 40.13% || Test Error 39.04%\n",
            "Epoch 013/025, Train Error 39.17% || Test Error 41.05%\n",
            "Epoch 014/025, Train Error 37.92% || Test Error 38.25%\n",
            "Epoch 015/025, Train Error 36.88% || Test Error 40.22%\n"
          ]
        },
        {
          "output_type": "error",
          "ename": "KeyboardInterrupt",
          "evalue": "ignored",
          "traceback": [
            "\u001b[0;31m---------------------------------------------------------------------------\u001b[0m",
            "\u001b[0;31mKeyboardInterrupt\u001b[0m                         Traceback (most recent call last)",
            "\u001b[0;32m<ipython-input-38-00baaf961355>\u001b[0m in \u001b[0;36m<module>\u001b[0;34m\u001b[0m\n\u001b[1;32m      3\u001b[0m \u001b[0mmodel\u001b[0m \u001b[0;34m=\u001b[0m \u001b[0mResNet\u001b[0m\u001b[0;34m(\u001b[0m\u001b[0mBasicBlock\u001b[0m\u001b[0;34m,\u001b[0m \u001b[0;34m[\u001b[0m\u001b[0;36m3\u001b[0m\u001b[0;34m,\u001b[0m \u001b[0;36m3\u001b[0m\u001b[0;34m,\u001b[0m \u001b[0;36m3\u001b[0m\u001b[0;34m]\u001b[0m\u001b[0;34m,\u001b[0m \u001b[0;34m'noisyscale'\u001b[0m\u001b[0;34m)\u001b[0m\u001b[0;34m.\u001b[0m\u001b[0mcuda\u001b[0m\u001b[0;34m(\u001b[0m\u001b[0;34m)\u001b[0m\u001b[0;34m\u001b[0m\u001b[0;34m\u001b[0m\u001b[0m\n\u001b[1;32m      4\u001b[0m \u001b[0moptimizer\u001b[0m \u001b[0;34m=\u001b[0m \u001b[0mtorch\u001b[0m\u001b[0;34m.\u001b[0m\u001b[0moptim\u001b[0m\u001b[0;34m.\u001b[0m\u001b[0mSGD\u001b[0m\u001b[0;34m(\u001b[0m\u001b[0mmodel\u001b[0m\u001b[0;34m.\u001b[0m\u001b[0mparameters\u001b[0m\u001b[0;34m(\u001b[0m\u001b[0;34m)\u001b[0m\u001b[0;34m,\u001b[0m \u001b[0mlr\u001b[0m\u001b[0;34m=\u001b[0m\u001b[0;36m0.5\u001b[0m\u001b[0;34m,\u001b[0m \u001b[0mmomentum\u001b[0m\u001b[0;34m=\u001b[0m\u001b[0mmomentum\u001b[0m\u001b[0;34m)\u001b[0m\u001b[0;34m\u001b[0m\u001b[0;34m\u001b[0m\u001b[0m\n\u001b[0;32m----> 5\u001b[0;31m \u001b[0mtrain_errs\u001b[0m\u001b[0;34m,\u001b[0m \u001b[0mtest_errs\u001b[0m\u001b[0;34m,\u001b[0m \u001b[0mepochs_and_test_errs_nscale22\u001b[0m \u001b[0;34m=\u001b[0m \u001b[0mtrain\u001b[0m\u001b[0;34m(\u001b[0m\u001b[0mepochs\u001b[0m\u001b[0;34m,\u001b[0m \u001b[0mmodel\u001b[0m\u001b[0;34m,\u001b[0m \u001b[0mcriterion\u001b[0m\u001b[0;34m,\u001b[0m \u001b[0moptimizer\u001b[0m\u001b[0;34m,\u001b[0m \u001b[0mtrain_loader\u001b[0m\u001b[0;34m,\u001b[0m \u001b[0mtest_loader\u001b[0m\u001b[0;34m)\u001b[0m\u001b[0;34m\u001b[0m\u001b[0;34m\u001b[0m\u001b[0m\n\u001b[0m\u001b[1;32m      6\u001b[0m \u001b[0;34m\u001b[0m\u001b[0m\n\u001b[1;32m      7\u001b[0m \u001b[0mplot_epochs_and_accuracies\u001b[0m\u001b[0;34m(\u001b[0m\u001b[0mepochs_and_test_errs_nscale22\u001b[0m\u001b[0;34m,\u001b[0m \u001b[0;34m'Noisy Scale Resnet 22'\u001b[0m\u001b[0;34m)\u001b[0m\u001b[0;34m\u001b[0m\u001b[0;34m\u001b[0m\u001b[0m\n",
            "\u001b[0;32m<ipython-input-20-bc75fe2f8936>\u001b[0m in \u001b[0;36mtrain\u001b[0;34m(epochs, model, criterion, optimizer, train_loader, test_loader)\u001b[0m\n\u001b[1;32m      3\u001b[0m     \u001b[0mepochs_and_test_err\u001b[0m \u001b[0;34m=\u001b[0m \u001b[0;34m[\u001b[0m\u001b[0;34m]\u001b[0m\u001b[0;34m\u001b[0m\u001b[0;34m\u001b[0m\u001b[0m\n\u001b[1;32m      4\u001b[0m     \u001b[0;32mfor\u001b[0m \u001b[0mepoch\u001b[0m \u001b[0;32min\u001b[0m \u001b[0mrange\u001b[0m\u001b[0;34m(\u001b[0m\u001b[0mepochs\u001b[0m\u001b[0;34m)\u001b[0m\u001b[0;34m:\u001b[0m\u001b[0;34m\u001b[0m\u001b[0;34m\u001b[0m\u001b[0m\n\u001b[0;32m----> 5\u001b[0;31m         \u001b[0mtrain_err\u001b[0m \u001b[0;34m=\u001b[0m \u001b[0mtrain_epoch\u001b[0m\u001b[0;34m(\u001b[0m\u001b[0mmodel\u001b[0m\u001b[0;34m,\u001b[0m \u001b[0mcriterion\u001b[0m\u001b[0;34m,\u001b[0m \u001b[0moptimizer\u001b[0m\u001b[0;34m,\u001b[0m \u001b[0mtrain_loader\u001b[0m\u001b[0;34m)\u001b[0m\u001b[0;34m\u001b[0m\u001b[0;34m\u001b[0m\u001b[0m\n\u001b[0m\u001b[1;32m      6\u001b[0m         \u001b[0mtest_err\u001b[0m \u001b[0;34m=\u001b[0m \u001b[0mtest\u001b[0m\u001b[0;34m(\u001b[0m\u001b[0mmodel\u001b[0m\u001b[0;34m,\u001b[0m \u001b[0mtest_loader\u001b[0m\u001b[0;34m)\u001b[0m\u001b[0;34m\u001b[0m\u001b[0;34m\u001b[0m\u001b[0m\n\u001b[1;32m      7\u001b[0m         \u001b[0mepochs_and_test_err\u001b[0m\u001b[0;34m.\u001b[0m\u001b[0mappend\u001b[0m\u001b[0;34m(\u001b[0m\u001b[0;34m(\u001b[0m\u001b[0mepoch\u001b[0m\u001b[0;34m,\u001b[0m \u001b[0mtest_err\u001b[0m\u001b[0;34m)\u001b[0m\u001b[0;34m)\u001b[0m\u001b[0;34m\u001b[0m\u001b[0;34m\u001b[0m\u001b[0m\n",
            "\u001b[0;32m<ipython-input-20-bc75fe2f8936>\u001b[0m in \u001b[0;36mtrain_epoch\u001b[0;34m(model, criterion, optimizer, loader)\u001b[0m\n\u001b[1;32m     13\u001b[0m     \u001b[0mtotal_samples\u001b[0m \u001b[0;34m=\u001b[0m \u001b[0;36m0.\u001b[0m\u001b[0;34m\u001b[0m\u001b[0;34m\u001b[0m\u001b[0m\n\u001b[1;32m     14\u001b[0m \u001b[0;34m\u001b[0m\u001b[0m\n\u001b[0;32m---> 15\u001b[0;31m     \u001b[0;32mfor\u001b[0m \u001b[0mbatch_idx\u001b[0m\u001b[0;34m,\u001b[0m \u001b[0;34m(\u001b[0m\u001b[0mdata\u001b[0m\u001b[0;34m,\u001b[0m \u001b[0mtarget\u001b[0m\u001b[0;34m)\u001b[0m \u001b[0;32min\u001b[0m \u001b[0menumerate\u001b[0m\u001b[0;34m(\u001b[0m\u001b[0mloader\u001b[0m\u001b[0;34m)\u001b[0m\u001b[0;34m:\u001b[0m\u001b[0;34m\u001b[0m\u001b[0;34m\u001b[0m\u001b[0m\n\u001b[0m\u001b[1;32m     16\u001b[0m         \u001b[0;32mif\u001b[0m \u001b[0mtorch\u001b[0m\u001b[0;34m.\u001b[0m\u001b[0mcuda\u001b[0m\u001b[0;34m.\u001b[0m\u001b[0mis_available\u001b[0m\u001b[0;34m(\u001b[0m\u001b[0;34m)\u001b[0m\u001b[0;34m:\u001b[0m\u001b[0;34m\u001b[0m\u001b[0;34m\u001b[0m\u001b[0m\n\u001b[1;32m     17\u001b[0m             \u001b[0mdata\u001b[0m\u001b[0;34m,\u001b[0m \u001b[0mtarget\u001b[0m \u001b[0;34m=\u001b[0m \u001b[0mdata\u001b[0m\u001b[0;34m.\u001b[0m\u001b[0mcuda\u001b[0m\u001b[0;34m(\u001b[0m\u001b[0;34m)\u001b[0m\u001b[0;34m,\u001b[0m \u001b[0mtarget\u001b[0m\u001b[0;34m.\u001b[0m\u001b[0mcuda\u001b[0m\u001b[0;34m(\u001b[0m\u001b[0;34m)\u001b[0m\u001b[0;34m\u001b[0m\u001b[0;34m\u001b[0m\u001b[0m\n",
            "\u001b[0;32m/usr/local/lib/python3.8/dist-packages/torch/utils/data/dataloader.py\u001b[0m in \u001b[0;36m__next__\u001b[0;34m(self)\u001b[0m\n\u001b[1;32m    626\u001b[0m                 \u001b[0;31m# TODO(https://github.com/pytorch/pytorch/issues/76750)\u001b[0m\u001b[0;34m\u001b[0m\u001b[0;34m\u001b[0m\u001b[0;34m\u001b[0m\u001b[0m\n\u001b[1;32m    627\u001b[0m                 \u001b[0mself\u001b[0m\u001b[0;34m.\u001b[0m\u001b[0m_reset\u001b[0m\u001b[0;34m(\u001b[0m\u001b[0;34m)\u001b[0m  \u001b[0;31m# type: ignore[call-arg]\u001b[0m\u001b[0;34m\u001b[0m\u001b[0;34m\u001b[0m\u001b[0m\n\u001b[0;32m--> 628\u001b[0;31m             \u001b[0mdata\u001b[0m \u001b[0;34m=\u001b[0m \u001b[0mself\u001b[0m\u001b[0;34m.\u001b[0m\u001b[0m_next_data\u001b[0m\u001b[0;34m(\u001b[0m\u001b[0;34m)\u001b[0m\u001b[0;34m\u001b[0m\u001b[0;34m\u001b[0m\u001b[0m\n\u001b[0m\u001b[1;32m    629\u001b[0m             \u001b[0mself\u001b[0m\u001b[0;34m.\u001b[0m\u001b[0m_num_yielded\u001b[0m \u001b[0;34m+=\u001b[0m \u001b[0;36m1\u001b[0m\u001b[0;34m\u001b[0m\u001b[0;34m\u001b[0m\u001b[0m\n\u001b[1;32m    630\u001b[0m             \u001b[0;32mif\u001b[0m \u001b[0mself\u001b[0m\u001b[0;34m.\u001b[0m\u001b[0m_dataset_kind\u001b[0m \u001b[0;34m==\u001b[0m \u001b[0m_DatasetKind\u001b[0m\u001b[0;34m.\u001b[0m\u001b[0mIterable\u001b[0m \u001b[0;32mand\u001b[0m\u001b[0;31m \u001b[0m\u001b[0;31m\\\u001b[0m\u001b[0;34m\u001b[0m\u001b[0;34m\u001b[0m\u001b[0m\n",
            "\u001b[0;32m/usr/local/lib/python3.8/dist-packages/torch/utils/data/dataloader.py\u001b[0m in \u001b[0;36m_next_data\u001b[0;34m(self)\u001b[0m\n\u001b[1;32m    669\u001b[0m     \u001b[0;32mdef\u001b[0m \u001b[0m_next_data\u001b[0m\u001b[0;34m(\u001b[0m\u001b[0mself\u001b[0m\u001b[0;34m)\u001b[0m\u001b[0;34m:\u001b[0m\u001b[0;34m\u001b[0m\u001b[0;34m\u001b[0m\u001b[0m\n\u001b[1;32m    670\u001b[0m         \u001b[0mindex\u001b[0m \u001b[0;34m=\u001b[0m \u001b[0mself\u001b[0m\u001b[0;34m.\u001b[0m\u001b[0m_next_index\u001b[0m\u001b[0;34m(\u001b[0m\u001b[0;34m)\u001b[0m  \u001b[0;31m# may raise StopIteration\u001b[0m\u001b[0;34m\u001b[0m\u001b[0;34m\u001b[0m\u001b[0m\n\u001b[0;32m--> 671\u001b[0;31m         \u001b[0mdata\u001b[0m \u001b[0;34m=\u001b[0m \u001b[0mself\u001b[0m\u001b[0;34m.\u001b[0m\u001b[0m_dataset_fetcher\u001b[0m\u001b[0;34m.\u001b[0m\u001b[0mfetch\u001b[0m\u001b[0;34m(\u001b[0m\u001b[0mindex\u001b[0m\u001b[0;34m)\u001b[0m  \u001b[0;31m# may raise StopIteration\u001b[0m\u001b[0;34m\u001b[0m\u001b[0;34m\u001b[0m\u001b[0m\n\u001b[0m\u001b[1;32m    672\u001b[0m         \u001b[0;32mif\u001b[0m \u001b[0mself\u001b[0m\u001b[0;34m.\u001b[0m\u001b[0m_pin_memory\u001b[0m\u001b[0;34m:\u001b[0m\u001b[0;34m\u001b[0m\u001b[0;34m\u001b[0m\u001b[0m\n\u001b[1;32m    673\u001b[0m             \u001b[0mdata\u001b[0m \u001b[0;34m=\u001b[0m \u001b[0m_utils\u001b[0m\u001b[0;34m.\u001b[0m\u001b[0mpin_memory\u001b[0m\u001b[0;34m.\u001b[0m\u001b[0mpin_memory\u001b[0m\u001b[0;34m(\u001b[0m\u001b[0mdata\u001b[0m\u001b[0;34m,\u001b[0m \u001b[0mself\u001b[0m\u001b[0;34m.\u001b[0m\u001b[0m_pin_memory_device\u001b[0m\u001b[0;34m)\u001b[0m\u001b[0;34m\u001b[0m\u001b[0;34m\u001b[0m\u001b[0m\n",
            "\u001b[0;32m/usr/local/lib/python3.8/dist-packages/torch/utils/data/_utils/fetch.py\u001b[0m in \u001b[0;36mfetch\u001b[0;34m(self, possibly_batched_index)\u001b[0m\n\u001b[1;32m     56\u001b[0m                 \u001b[0mdata\u001b[0m \u001b[0;34m=\u001b[0m \u001b[0mself\u001b[0m\u001b[0;34m.\u001b[0m\u001b[0mdataset\u001b[0m\u001b[0;34m.\u001b[0m\u001b[0m__getitems__\u001b[0m\u001b[0;34m(\u001b[0m\u001b[0mpossibly_batched_index\u001b[0m\u001b[0;34m)\u001b[0m\u001b[0;34m\u001b[0m\u001b[0;34m\u001b[0m\u001b[0m\n\u001b[1;32m     57\u001b[0m             \u001b[0;32melse\u001b[0m\u001b[0;34m:\u001b[0m\u001b[0;34m\u001b[0m\u001b[0;34m\u001b[0m\u001b[0m\n\u001b[0;32m---> 58\u001b[0;31m                 \u001b[0mdata\u001b[0m \u001b[0;34m=\u001b[0m \u001b[0;34m[\u001b[0m\u001b[0mself\u001b[0m\u001b[0;34m.\u001b[0m\u001b[0mdataset\u001b[0m\u001b[0;34m[\u001b[0m\u001b[0midx\u001b[0m\u001b[0;34m]\u001b[0m \u001b[0;32mfor\u001b[0m \u001b[0midx\u001b[0m \u001b[0;32min\u001b[0m \u001b[0mpossibly_batched_index\u001b[0m\u001b[0;34m]\u001b[0m\u001b[0;34m\u001b[0m\u001b[0;34m\u001b[0m\u001b[0m\n\u001b[0m\u001b[1;32m     59\u001b[0m         \u001b[0;32melse\u001b[0m\u001b[0;34m:\u001b[0m\u001b[0;34m\u001b[0m\u001b[0;34m\u001b[0m\u001b[0m\n\u001b[1;32m     60\u001b[0m             \u001b[0mdata\u001b[0m \u001b[0;34m=\u001b[0m \u001b[0mself\u001b[0m\u001b[0;34m.\u001b[0m\u001b[0mdataset\u001b[0m\u001b[0;34m[\u001b[0m\u001b[0mpossibly_batched_index\u001b[0m\u001b[0;34m]\u001b[0m\u001b[0;34m\u001b[0m\u001b[0;34m\u001b[0m\u001b[0m\n",
            "\u001b[0;32m/usr/local/lib/python3.8/dist-packages/torch/utils/data/_utils/fetch.py\u001b[0m in \u001b[0;36m<listcomp>\u001b[0;34m(.0)\u001b[0m\n\u001b[1;32m     56\u001b[0m                 \u001b[0mdata\u001b[0m \u001b[0;34m=\u001b[0m \u001b[0mself\u001b[0m\u001b[0;34m.\u001b[0m\u001b[0mdataset\u001b[0m\u001b[0;34m.\u001b[0m\u001b[0m__getitems__\u001b[0m\u001b[0;34m(\u001b[0m\u001b[0mpossibly_batched_index\u001b[0m\u001b[0;34m)\u001b[0m\u001b[0;34m\u001b[0m\u001b[0;34m\u001b[0m\u001b[0m\n\u001b[1;32m     57\u001b[0m             \u001b[0;32melse\u001b[0m\u001b[0;34m:\u001b[0m\u001b[0;34m\u001b[0m\u001b[0;34m\u001b[0m\u001b[0m\n\u001b[0;32m---> 58\u001b[0;31m                 \u001b[0mdata\u001b[0m \u001b[0;34m=\u001b[0m \u001b[0;34m[\u001b[0m\u001b[0mself\u001b[0m\u001b[0;34m.\u001b[0m\u001b[0mdataset\u001b[0m\u001b[0;34m[\u001b[0m\u001b[0midx\u001b[0m\u001b[0;34m]\u001b[0m \u001b[0;32mfor\u001b[0m \u001b[0midx\u001b[0m \u001b[0;32min\u001b[0m \u001b[0mpossibly_batched_index\u001b[0m\u001b[0;34m]\u001b[0m\u001b[0;34m\u001b[0m\u001b[0;34m\u001b[0m\u001b[0m\n\u001b[0m\u001b[1;32m     59\u001b[0m         \u001b[0;32melse\u001b[0m\u001b[0;34m:\u001b[0m\u001b[0;34m\u001b[0m\u001b[0;34m\u001b[0m\u001b[0m\n\u001b[1;32m     60\u001b[0m             \u001b[0mdata\u001b[0m \u001b[0;34m=\u001b[0m \u001b[0mself\u001b[0m\u001b[0;34m.\u001b[0m\u001b[0mdataset\u001b[0m\u001b[0;34m[\u001b[0m\u001b[0mpossibly_batched_index\u001b[0m\u001b[0;34m]\u001b[0m\u001b[0;34m\u001b[0m\u001b[0;34m\u001b[0m\u001b[0m\n",
            "\u001b[0;32m/usr/local/lib/python3.8/dist-packages/torchvision/datasets/cifar.py\u001b[0m in \u001b[0;36m__getitem__\u001b[0;34m(self, index)\u001b[0m\n\u001b[1;32m    113\u001b[0m         \u001b[0;31m# doing this so that it is consistent with all other datasets\u001b[0m\u001b[0;34m\u001b[0m\u001b[0;34m\u001b[0m\u001b[0;34m\u001b[0m\u001b[0m\n\u001b[1;32m    114\u001b[0m         \u001b[0;31m# to return a PIL Image\u001b[0m\u001b[0;34m\u001b[0m\u001b[0;34m\u001b[0m\u001b[0;34m\u001b[0m\u001b[0m\n\u001b[0;32m--> 115\u001b[0;31m         \u001b[0mimg\u001b[0m \u001b[0;34m=\u001b[0m \u001b[0mImage\u001b[0m\u001b[0;34m.\u001b[0m\u001b[0mfromarray\u001b[0m\u001b[0;34m(\u001b[0m\u001b[0mimg\u001b[0m\u001b[0;34m)\u001b[0m\u001b[0;34m\u001b[0m\u001b[0;34m\u001b[0m\u001b[0m\n\u001b[0m\u001b[1;32m    116\u001b[0m \u001b[0;34m\u001b[0m\u001b[0m\n\u001b[1;32m    117\u001b[0m         \u001b[0;32mif\u001b[0m \u001b[0mself\u001b[0m\u001b[0;34m.\u001b[0m\u001b[0mtransform\u001b[0m \u001b[0;32mis\u001b[0m \u001b[0;32mnot\u001b[0m \u001b[0;32mNone\u001b[0m\u001b[0;34m:\u001b[0m\u001b[0;34m\u001b[0m\u001b[0;34m\u001b[0m\u001b[0m\n",
            "\u001b[0;32m/usr/local/lib/python3.8/dist-packages/PIL/Image.py\u001b[0m in \u001b[0;36mfromarray\u001b[0;34m(obj, mode)\u001b[0m\n\u001b[1;32m   2729\u001b[0m     \u001b[0;32mif\u001b[0m \u001b[0mstrides\u001b[0m \u001b[0;32mis\u001b[0m \u001b[0;32mnot\u001b[0m \u001b[0;32mNone\u001b[0m\u001b[0;34m:\u001b[0m\u001b[0;34m\u001b[0m\u001b[0;34m\u001b[0m\u001b[0m\n\u001b[1;32m   2730\u001b[0m         \u001b[0;32mif\u001b[0m \u001b[0mhasattr\u001b[0m\u001b[0;34m(\u001b[0m\u001b[0mobj\u001b[0m\u001b[0;34m,\u001b[0m \u001b[0;34m\"tobytes\"\u001b[0m\u001b[0;34m)\u001b[0m\u001b[0;34m:\u001b[0m\u001b[0;34m\u001b[0m\u001b[0;34m\u001b[0m\u001b[0m\n\u001b[0;32m-> 2731\u001b[0;31m             \u001b[0mobj\u001b[0m \u001b[0;34m=\u001b[0m \u001b[0mobj\u001b[0m\u001b[0;34m.\u001b[0m\u001b[0mtobytes\u001b[0m\u001b[0;34m(\u001b[0m\u001b[0;34m)\u001b[0m\u001b[0;34m\u001b[0m\u001b[0;34m\u001b[0m\u001b[0m\n\u001b[0m\u001b[1;32m   2732\u001b[0m         \u001b[0;32melse\u001b[0m\u001b[0;34m:\u001b[0m\u001b[0;34m\u001b[0m\u001b[0;34m\u001b[0m\u001b[0m\n\u001b[1;32m   2733\u001b[0m             \u001b[0mobj\u001b[0m \u001b[0;34m=\u001b[0m \u001b[0mobj\u001b[0m\u001b[0;34m.\u001b[0m\u001b[0mtostring\u001b[0m\u001b[0;34m(\u001b[0m\u001b[0;34m)\u001b[0m\u001b[0;34m\u001b[0m\u001b[0;34m\u001b[0m\u001b[0m\n",
            "\u001b[0;31mKeyboardInterrupt\u001b[0m: "
          ]
        }
      ]
    },
    {
      "cell_type": "code",
      "source": [
        "#Noisy Scale 56 just an ablation seemed to tjust rain slower wait on this\n",
        "print(\"Noisy Scale Resnet56\")\n",
        "model = ResNet(BasicBlock, [9, 9, 9], 'noisyscale').cuda()\n",
        "optimizer = torch.optim.SGD(model.parameters(), lr=lr, momentum=momentum)\n",
        "train_errs, test_errs, epochs_and_test_errs_nscale56 = train(epochs, model, criterion, optimizer, train_loader, test_loader)\n",
        "\n",
        "plot_epochs_and_accuracies(epochs_and_test_errs_nscale56, 'Noisy Scale Resnet 56')"
      ],
      "metadata": {
        "id": "o61gkmUszePP",
        "colab": {
          "base_uri": "https://localhost:8080/",
          "height": 834
        },
        "outputId": "2a2b5e49-5a78-40d6-ddd5-3ccedb877d15"
      },
      "execution_count": null,
      "outputs": [
        {
          "output_type": "stream",
          "name": "stdout",
          "text": [
            "Noisy Scale Resnet56\n",
            "Epoch 000/025, Train Error 78.68% || Test Error 73.74%\n",
            "Epoch 001/025, Train Error 70.27% || Test Error 69.10%\n",
            "Epoch 002/025, Train Error 65.21% || Test Error 63.69%\n",
            "Epoch 003/025, Train Error 61.80% || Test Error 60.63%\n",
            "Epoch 004/025, Train Error 59.51% || Test Error 57.09%\n",
            "Epoch 005/025, Train Error 57.25% || Test Error 57.04%\n",
            "Epoch 006/025, Train Error 55.12% || Test Error 56.21%\n",
            "Epoch 007/025, Train Error 54.24% || Test Error 52.07%\n",
            "Epoch 008/025, Train Error 52.72% || Test Error 51.25%\n",
            "Epoch 009/025, Train Error 51.06% || Test Error 49.49%\n",
            "Epoch 010/025, Train Error 49.62% || Test Error 49.56%\n",
            "Epoch 011/025, Train Error 48.51% || Test Error 47.50%\n",
            "Epoch 012/025, Train Error 46.52% || Test Error 48.70%\n",
            "Epoch 013/025, Train Error 46.21% || Test Error 45.02%\n",
            "Epoch 014/025, Train Error 44.87% || Test Error 44.68%\n",
            "Epoch 015/025, Train Error 43.62% || Test Error 42.35%\n",
            "Epoch 016/025, Train Error 42.60% || Test Error 42.73%\n",
            "Epoch 017/025, Train Error 42.46% || Test Error 43.51%\n",
            "Epoch 018/025, Train Error 41.52% || Test Error 41.79%\n",
            "Epoch 019/025, Train Error 40.37% || Test Error 39.38%\n",
            "Epoch 020/025, Train Error 39.79% || Test Error 39.45%\n",
            "Epoch 021/025, Train Error 39.26% || Test Error 37.87%\n",
            "Epoch 022/025, Train Error 37.99% || Test Error 40.64%\n"
          ]
        },
        {
          "output_type": "error",
          "ename": "KeyboardInterrupt",
          "evalue": "ignored",
          "traceback": [
            "\u001b[0;31m---------------------------------------------------------------------------\u001b[0m",
            "\u001b[0;31mKeyboardInterrupt\u001b[0m                         Traceback (most recent call last)",
            "\u001b[0;32m<ipython-input-37-cdb9fd304ed0>\u001b[0m in \u001b[0;36m<module>\u001b[0;34m\u001b[0m\n\u001b[1;32m      3\u001b[0m \u001b[0mmodel\u001b[0m \u001b[0;34m=\u001b[0m \u001b[0mResNet\u001b[0m\u001b[0;34m(\u001b[0m\u001b[0mBasicBlock\u001b[0m\u001b[0;34m,\u001b[0m \u001b[0;34m[\u001b[0m\u001b[0;36m9\u001b[0m\u001b[0;34m,\u001b[0m \u001b[0;36m9\u001b[0m\u001b[0;34m,\u001b[0m \u001b[0;36m9\u001b[0m\u001b[0;34m]\u001b[0m\u001b[0;34m,\u001b[0m \u001b[0;34m'noisyscale'\u001b[0m\u001b[0;34m)\u001b[0m\u001b[0;34m.\u001b[0m\u001b[0mcuda\u001b[0m\u001b[0;34m(\u001b[0m\u001b[0;34m)\u001b[0m\u001b[0;34m\u001b[0m\u001b[0;34m\u001b[0m\u001b[0m\n\u001b[1;32m      4\u001b[0m \u001b[0moptimizer\u001b[0m \u001b[0;34m=\u001b[0m \u001b[0mtorch\u001b[0m\u001b[0;34m.\u001b[0m\u001b[0moptim\u001b[0m\u001b[0;34m.\u001b[0m\u001b[0mSGD\u001b[0m\u001b[0;34m(\u001b[0m\u001b[0mmodel\u001b[0m\u001b[0;34m.\u001b[0m\u001b[0mparameters\u001b[0m\u001b[0;34m(\u001b[0m\u001b[0;34m)\u001b[0m\u001b[0;34m,\u001b[0m \u001b[0mlr\u001b[0m\u001b[0;34m=\u001b[0m\u001b[0mlr\u001b[0m\u001b[0;34m,\u001b[0m \u001b[0mmomentum\u001b[0m\u001b[0;34m=\u001b[0m\u001b[0mmomentum\u001b[0m\u001b[0;34m)\u001b[0m\u001b[0;34m\u001b[0m\u001b[0;34m\u001b[0m\u001b[0m\n\u001b[0;32m----> 5\u001b[0;31m \u001b[0mtrain_errs\u001b[0m\u001b[0;34m,\u001b[0m \u001b[0mtest_errs\u001b[0m\u001b[0;34m,\u001b[0m \u001b[0mepochs_and_test_errs_nscale56\u001b[0m \u001b[0;34m=\u001b[0m \u001b[0mtrain\u001b[0m\u001b[0;34m(\u001b[0m\u001b[0mepochs\u001b[0m\u001b[0;34m,\u001b[0m \u001b[0mmodel\u001b[0m\u001b[0;34m,\u001b[0m \u001b[0mcriterion\u001b[0m\u001b[0;34m,\u001b[0m \u001b[0moptimizer\u001b[0m\u001b[0;34m,\u001b[0m \u001b[0mtrain_loader\u001b[0m\u001b[0;34m,\u001b[0m \u001b[0mtest_loader\u001b[0m\u001b[0;34m)\u001b[0m\u001b[0;34m\u001b[0m\u001b[0;34m\u001b[0m\u001b[0m\n\u001b[0m\u001b[1;32m      6\u001b[0m \u001b[0;34m\u001b[0m\u001b[0m\n\u001b[1;32m      7\u001b[0m \u001b[0mplot_epochs_and_accuracies\u001b[0m\u001b[0;34m(\u001b[0m\u001b[0mepochs_and_test_errs_nscale56\u001b[0m\u001b[0;34m,\u001b[0m \u001b[0;34m'Noisy Scale Resnet 56'\u001b[0m\u001b[0;34m)\u001b[0m\u001b[0;34m\u001b[0m\u001b[0;34m\u001b[0m\u001b[0m\n",
            "\u001b[0;32m<ipython-input-20-bc75fe2f8936>\u001b[0m in \u001b[0;36mtrain\u001b[0;34m(epochs, model, criterion, optimizer, train_loader, test_loader)\u001b[0m\n\u001b[1;32m      3\u001b[0m     \u001b[0mepochs_and_test_err\u001b[0m \u001b[0;34m=\u001b[0m \u001b[0;34m[\u001b[0m\u001b[0;34m]\u001b[0m\u001b[0;34m\u001b[0m\u001b[0;34m\u001b[0m\u001b[0m\n\u001b[1;32m      4\u001b[0m     \u001b[0;32mfor\u001b[0m \u001b[0mepoch\u001b[0m \u001b[0;32min\u001b[0m \u001b[0mrange\u001b[0m\u001b[0;34m(\u001b[0m\u001b[0mepochs\u001b[0m\u001b[0;34m)\u001b[0m\u001b[0;34m:\u001b[0m\u001b[0;34m\u001b[0m\u001b[0;34m\u001b[0m\u001b[0m\n\u001b[0;32m----> 5\u001b[0;31m         \u001b[0mtrain_err\u001b[0m \u001b[0;34m=\u001b[0m \u001b[0mtrain_epoch\u001b[0m\u001b[0;34m(\u001b[0m\u001b[0mmodel\u001b[0m\u001b[0;34m,\u001b[0m \u001b[0mcriterion\u001b[0m\u001b[0;34m,\u001b[0m \u001b[0moptimizer\u001b[0m\u001b[0;34m,\u001b[0m \u001b[0mtrain_loader\u001b[0m\u001b[0;34m)\u001b[0m\u001b[0;34m\u001b[0m\u001b[0;34m\u001b[0m\u001b[0m\n\u001b[0m\u001b[1;32m      6\u001b[0m         \u001b[0mtest_err\u001b[0m \u001b[0;34m=\u001b[0m \u001b[0mtest\u001b[0m\u001b[0;34m(\u001b[0m\u001b[0mmodel\u001b[0m\u001b[0;34m,\u001b[0m \u001b[0mtest_loader\u001b[0m\u001b[0;34m)\u001b[0m\u001b[0;34m\u001b[0m\u001b[0;34m\u001b[0m\u001b[0m\n\u001b[1;32m      7\u001b[0m         \u001b[0mepochs_and_test_err\u001b[0m\u001b[0;34m.\u001b[0m\u001b[0mappend\u001b[0m\u001b[0;34m(\u001b[0m\u001b[0;34m(\u001b[0m\u001b[0mepoch\u001b[0m\u001b[0;34m,\u001b[0m \u001b[0mtest_err\u001b[0m\u001b[0;34m)\u001b[0m\u001b[0;34m)\u001b[0m\u001b[0;34m\u001b[0m\u001b[0;34m\u001b[0m\u001b[0m\n",
            "\u001b[0;32m<ipython-input-20-bc75fe2f8936>\u001b[0m in \u001b[0;36mtrain_epoch\u001b[0;34m(model, criterion, optimizer, loader)\u001b[0m\n\u001b[1;32m     13\u001b[0m     \u001b[0mtotal_samples\u001b[0m \u001b[0;34m=\u001b[0m \u001b[0;36m0.\u001b[0m\u001b[0;34m\u001b[0m\u001b[0;34m\u001b[0m\u001b[0m\n\u001b[1;32m     14\u001b[0m \u001b[0;34m\u001b[0m\u001b[0m\n\u001b[0;32m---> 15\u001b[0;31m     \u001b[0;32mfor\u001b[0m \u001b[0mbatch_idx\u001b[0m\u001b[0;34m,\u001b[0m \u001b[0;34m(\u001b[0m\u001b[0mdata\u001b[0m\u001b[0;34m,\u001b[0m \u001b[0mtarget\u001b[0m\u001b[0;34m)\u001b[0m \u001b[0;32min\u001b[0m \u001b[0menumerate\u001b[0m\u001b[0;34m(\u001b[0m\u001b[0mloader\u001b[0m\u001b[0;34m)\u001b[0m\u001b[0;34m:\u001b[0m\u001b[0;34m\u001b[0m\u001b[0;34m\u001b[0m\u001b[0m\n\u001b[0m\u001b[1;32m     16\u001b[0m         \u001b[0;32mif\u001b[0m \u001b[0mtorch\u001b[0m\u001b[0;34m.\u001b[0m\u001b[0mcuda\u001b[0m\u001b[0;34m.\u001b[0m\u001b[0mis_available\u001b[0m\u001b[0;34m(\u001b[0m\u001b[0;34m)\u001b[0m\u001b[0;34m:\u001b[0m\u001b[0;34m\u001b[0m\u001b[0;34m\u001b[0m\u001b[0m\n\u001b[1;32m     17\u001b[0m             \u001b[0mdata\u001b[0m\u001b[0;34m,\u001b[0m \u001b[0mtarget\u001b[0m \u001b[0;34m=\u001b[0m \u001b[0mdata\u001b[0m\u001b[0;34m.\u001b[0m\u001b[0mcuda\u001b[0m\u001b[0;34m(\u001b[0m\u001b[0;34m)\u001b[0m\u001b[0;34m,\u001b[0m \u001b[0mtarget\u001b[0m\u001b[0;34m.\u001b[0m\u001b[0mcuda\u001b[0m\u001b[0;34m(\u001b[0m\u001b[0;34m)\u001b[0m\u001b[0;34m\u001b[0m\u001b[0;34m\u001b[0m\u001b[0m\n",
            "\u001b[0;32m/usr/local/lib/python3.8/dist-packages/torch/utils/data/dataloader.py\u001b[0m in \u001b[0;36m__next__\u001b[0;34m(self)\u001b[0m\n\u001b[1;32m    626\u001b[0m                 \u001b[0;31m# TODO(https://github.com/pytorch/pytorch/issues/76750)\u001b[0m\u001b[0;34m\u001b[0m\u001b[0;34m\u001b[0m\u001b[0;34m\u001b[0m\u001b[0m\n\u001b[1;32m    627\u001b[0m                 \u001b[0mself\u001b[0m\u001b[0;34m.\u001b[0m\u001b[0m_reset\u001b[0m\u001b[0;34m(\u001b[0m\u001b[0;34m)\u001b[0m  \u001b[0;31m# type: ignore[call-arg]\u001b[0m\u001b[0;34m\u001b[0m\u001b[0;34m\u001b[0m\u001b[0m\n\u001b[0;32m--> 628\u001b[0;31m             \u001b[0mdata\u001b[0m \u001b[0;34m=\u001b[0m \u001b[0mself\u001b[0m\u001b[0;34m.\u001b[0m\u001b[0m_next_data\u001b[0m\u001b[0;34m(\u001b[0m\u001b[0;34m)\u001b[0m\u001b[0;34m\u001b[0m\u001b[0;34m\u001b[0m\u001b[0m\n\u001b[0m\u001b[1;32m    629\u001b[0m             \u001b[0mself\u001b[0m\u001b[0;34m.\u001b[0m\u001b[0m_num_yielded\u001b[0m \u001b[0;34m+=\u001b[0m \u001b[0;36m1\u001b[0m\u001b[0;34m\u001b[0m\u001b[0;34m\u001b[0m\u001b[0m\n\u001b[1;32m    630\u001b[0m             \u001b[0;32mif\u001b[0m \u001b[0mself\u001b[0m\u001b[0;34m.\u001b[0m\u001b[0m_dataset_kind\u001b[0m \u001b[0;34m==\u001b[0m \u001b[0m_DatasetKind\u001b[0m\u001b[0;34m.\u001b[0m\u001b[0mIterable\u001b[0m \u001b[0;32mand\u001b[0m\u001b[0;31m \u001b[0m\u001b[0;31m\\\u001b[0m\u001b[0;34m\u001b[0m\u001b[0;34m\u001b[0m\u001b[0m\n",
            "\u001b[0;32m/usr/local/lib/python3.8/dist-packages/torch/utils/data/dataloader.py\u001b[0m in \u001b[0;36m_next_data\u001b[0;34m(self)\u001b[0m\n\u001b[1;32m    669\u001b[0m     \u001b[0;32mdef\u001b[0m \u001b[0m_next_data\u001b[0m\u001b[0;34m(\u001b[0m\u001b[0mself\u001b[0m\u001b[0;34m)\u001b[0m\u001b[0;34m:\u001b[0m\u001b[0;34m\u001b[0m\u001b[0;34m\u001b[0m\u001b[0m\n\u001b[1;32m    670\u001b[0m         \u001b[0mindex\u001b[0m \u001b[0;34m=\u001b[0m \u001b[0mself\u001b[0m\u001b[0;34m.\u001b[0m\u001b[0m_next_index\u001b[0m\u001b[0;34m(\u001b[0m\u001b[0;34m)\u001b[0m  \u001b[0;31m# may raise StopIteration\u001b[0m\u001b[0;34m\u001b[0m\u001b[0;34m\u001b[0m\u001b[0m\n\u001b[0;32m--> 671\u001b[0;31m         \u001b[0mdata\u001b[0m \u001b[0;34m=\u001b[0m \u001b[0mself\u001b[0m\u001b[0;34m.\u001b[0m\u001b[0m_dataset_fetcher\u001b[0m\u001b[0;34m.\u001b[0m\u001b[0mfetch\u001b[0m\u001b[0;34m(\u001b[0m\u001b[0mindex\u001b[0m\u001b[0;34m)\u001b[0m  \u001b[0;31m# may raise StopIteration\u001b[0m\u001b[0;34m\u001b[0m\u001b[0;34m\u001b[0m\u001b[0m\n\u001b[0m\u001b[1;32m    672\u001b[0m         \u001b[0;32mif\u001b[0m \u001b[0mself\u001b[0m\u001b[0;34m.\u001b[0m\u001b[0m_pin_memory\u001b[0m\u001b[0;34m:\u001b[0m\u001b[0;34m\u001b[0m\u001b[0;34m\u001b[0m\u001b[0m\n\u001b[1;32m    673\u001b[0m             \u001b[0mdata\u001b[0m \u001b[0;34m=\u001b[0m \u001b[0m_utils\u001b[0m\u001b[0;34m.\u001b[0m\u001b[0mpin_memory\u001b[0m\u001b[0;34m.\u001b[0m\u001b[0mpin_memory\u001b[0m\u001b[0;34m(\u001b[0m\u001b[0mdata\u001b[0m\u001b[0;34m,\u001b[0m \u001b[0mself\u001b[0m\u001b[0;34m.\u001b[0m\u001b[0m_pin_memory_device\u001b[0m\u001b[0;34m)\u001b[0m\u001b[0;34m\u001b[0m\u001b[0;34m\u001b[0m\u001b[0m\n",
            "\u001b[0;32m/usr/local/lib/python3.8/dist-packages/torch/utils/data/_utils/fetch.py\u001b[0m in \u001b[0;36mfetch\u001b[0;34m(self, possibly_batched_index)\u001b[0m\n\u001b[1;32m     56\u001b[0m                 \u001b[0mdata\u001b[0m \u001b[0;34m=\u001b[0m \u001b[0mself\u001b[0m\u001b[0;34m.\u001b[0m\u001b[0mdataset\u001b[0m\u001b[0;34m.\u001b[0m\u001b[0m__getitems__\u001b[0m\u001b[0;34m(\u001b[0m\u001b[0mpossibly_batched_index\u001b[0m\u001b[0;34m)\u001b[0m\u001b[0;34m\u001b[0m\u001b[0;34m\u001b[0m\u001b[0m\n\u001b[1;32m     57\u001b[0m             \u001b[0;32melse\u001b[0m\u001b[0;34m:\u001b[0m\u001b[0;34m\u001b[0m\u001b[0;34m\u001b[0m\u001b[0m\n\u001b[0;32m---> 58\u001b[0;31m                 \u001b[0mdata\u001b[0m \u001b[0;34m=\u001b[0m \u001b[0;34m[\u001b[0m\u001b[0mself\u001b[0m\u001b[0;34m.\u001b[0m\u001b[0mdataset\u001b[0m\u001b[0;34m[\u001b[0m\u001b[0midx\u001b[0m\u001b[0;34m]\u001b[0m \u001b[0;32mfor\u001b[0m \u001b[0midx\u001b[0m \u001b[0;32min\u001b[0m \u001b[0mpossibly_batched_index\u001b[0m\u001b[0;34m]\u001b[0m\u001b[0;34m\u001b[0m\u001b[0;34m\u001b[0m\u001b[0m\n\u001b[0m\u001b[1;32m     59\u001b[0m         \u001b[0;32melse\u001b[0m\u001b[0;34m:\u001b[0m\u001b[0;34m\u001b[0m\u001b[0;34m\u001b[0m\u001b[0m\n\u001b[1;32m     60\u001b[0m             \u001b[0mdata\u001b[0m \u001b[0;34m=\u001b[0m \u001b[0mself\u001b[0m\u001b[0;34m.\u001b[0m\u001b[0mdataset\u001b[0m\u001b[0;34m[\u001b[0m\u001b[0mpossibly_batched_index\u001b[0m\u001b[0;34m]\u001b[0m\u001b[0;34m\u001b[0m\u001b[0;34m\u001b[0m\u001b[0m\n",
            "\u001b[0;32m/usr/local/lib/python3.8/dist-packages/torch/utils/data/_utils/fetch.py\u001b[0m in \u001b[0;36m<listcomp>\u001b[0;34m(.0)\u001b[0m\n\u001b[1;32m     56\u001b[0m                 \u001b[0mdata\u001b[0m \u001b[0;34m=\u001b[0m \u001b[0mself\u001b[0m\u001b[0;34m.\u001b[0m\u001b[0mdataset\u001b[0m\u001b[0;34m.\u001b[0m\u001b[0m__getitems__\u001b[0m\u001b[0;34m(\u001b[0m\u001b[0mpossibly_batched_index\u001b[0m\u001b[0;34m)\u001b[0m\u001b[0;34m\u001b[0m\u001b[0;34m\u001b[0m\u001b[0m\n\u001b[1;32m     57\u001b[0m             \u001b[0;32melse\u001b[0m\u001b[0;34m:\u001b[0m\u001b[0;34m\u001b[0m\u001b[0;34m\u001b[0m\u001b[0m\n\u001b[0;32m---> 58\u001b[0;31m                 \u001b[0mdata\u001b[0m \u001b[0;34m=\u001b[0m \u001b[0;34m[\u001b[0m\u001b[0mself\u001b[0m\u001b[0;34m.\u001b[0m\u001b[0mdataset\u001b[0m\u001b[0;34m[\u001b[0m\u001b[0midx\u001b[0m\u001b[0;34m]\u001b[0m \u001b[0;32mfor\u001b[0m \u001b[0midx\u001b[0m \u001b[0;32min\u001b[0m \u001b[0mpossibly_batched_index\u001b[0m\u001b[0;34m]\u001b[0m\u001b[0;34m\u001b[0m\u001b[0;34m\u001b[0m\u001b[0m\n\u001b[0m\u001b[1;32m     59\u001b[0m         \u001b[0;32melse\u001b[0m\u001b[0;34m:\u001b[0m\u001b[0;34m\u001b[0m\u001b[0;34m\u001b[0m\u001b[0m\n\u001b[1;32m     60\u001b[0m             \u001b[0mdata\u001b[0m \u001b[0;34m=\u001b[0m \u001b[0mself\u001b[0m\u001b[0;34m.\u001b[0m\u001b[0mdataset\u001b[0m\u001b[0;34m[\u001b[0m\u001b[0mpossibly_batched_index\u001b[0m\u001b[0;34m]\u001b[0m\u001b[0;34m\u001b[0m\u001b[0;34m\u001b[0m\u001b[0m\n",
            "\u001b[0;32m/usr/local/lib/python3.8/dist-packages/torchvision/datasets/cifar.py\u001b[0m in \u001b[0;36m__getitem__\u001b[0;34m(self, index)\u001b[0m\n\u001b[1;32m    116\u001b[0m \u001b[0;34m\u001b[0m\u001b[0m\n\u001b[1;32m    117\u001b[0m         \u001b[0;32mif\u001b[0m \u001b[0mself\u001b[0m\u001b[0;34m.\u001b[0m\u001b[0mtransform\u001b[0m \u001b[0;32mis\u001b[0m \u001b[0;32mnot\u001b[0m \u001b[0;32mNone\u001b[0m\u001b[0;34m:\u001b[0m\u001b[0;34m\u001b[0m\u001b[0;34m\u001b[0m\u001b[0m\n\u001b[0;32m--> 118\u001b[0;31m             \u001b[0mimg\u001b[0m \u001b[0;34m=\u001b[0m \u001b[0mself\u001b[0m\u001b[0;34m.\u001b[0m\u001b[0mtransform\u001b[0m\u001b[0;34m(\u001b[0m\u001b[0mimg\u001b[0m\u001b[0;34m)\u001b[0m\u001b[0;34m\u001b[0m\u001b[0;34m\u001b[0m\u001b[0m\n\u001b[0m\u001b[1;32m    119\u001b[0m \u001b[0;34m\u001b[0m\u001b[0m\n\u001b[1;32m    120\u001b[0m         \u001b[0;32mif\u001b[0m \u001b[0mself\u001b[0m\u001b[0;34m.\u001b[0m\u001b[0mtarget_transform\u001b[0m \u001b[0;32mis\u001b[0m \u001b[0;32mnot\u001b[0m \u001b[0;32mNone\u001b[0m\u001b[0;34m:\u001b[0m\u001b[0;34m\u001b[0m\u001b[0;34m\u001b[0m\u001b[0m\n",
            "\u001b[0;32m/usr/local/lib/python3.8/dist-packages/torchvision/transforms/transforms.py\u001b[0m in \u001b[0;36m__call__\u001b[0;34m(self, img)\u001b[0m\n\u001b[1;32m     93\u001b[0m     \u001b[0;32mdef\u001b[0m \u001b[0m__call__\u001b[0m\u001b[0;34m(\u001b[0m\u001b[0mself\u001b[0m\u001b[0;34m,\u001b[0m \u001b[0mimg\u001b[0m\u001b[0;34m)\u001b[0m\u001b[0;34m:\u001b[0m\u001b[0;34m\u001b[0m\u001b[0;34m\u001b[0m\u001b[0m\n\u001b[1;32m     94\u001b[0m         \u001b[0;32mfor\u001b[0m \u001b[0mt\u001b[0m \u001b[0;32min\u001b[0m \u001b[0mself\u001b[0m\u001b[0;34m.\u001b[0m\u001b[0mtransforms\u001b[0m\u001b[0;34m:\u001b[0m\u001b[0;34m\u001b[0m\u001b[0;34m\u001b[0m\u001b[0m\n\u001b[0;32m---> 95\u001b[0;31m             \u001b[0mimg\u001b[0m \u001b[0;34m=\u001b[0m \u001b[0mt\u001b[0m\u001b[0;34m(\u001b[0m\u001b[0mimg\u001b[0m\u001b[0;34m)\u001b[0m\u001b[0;34m\u001b[0m\u001b[0;34m\u001b[0m\u001b[0m\n\u001b[0m\u001b[1;32m     96\u001b[0m         \u001b[0;32mreturn\u001b[0m \u001b[0mimg\u001b[0m\u001b[0;34m\u001b[0m\u001b[0;34m\u001b[0m\u001b[0m\n\u001b[1;32m     97\u001b[0m \u001b[0;34m\u001b[0m\u001b[0m\n",
            "\u001b[0;32m/usr/local/lib/python3.8/dist-packages/torch/nn/modules/module.py\u001b[0m in \u001b[0;36m_call_impl\u001b[0;34m(self, *input, **kwargs)\u001b[0m\n\u001b[1;32m   1188\u001b[0m         if not (self._backward_hooks or self._forward_hooks or self._forward_pre_hooks or _global_backward_hooks\n\u001b[1;32m   1189\u001b[0m                 or _global_forward_hooks or _global_forward_pre_hooks):\n\u001b[0;32m-> 1190\u001b[0;31m             \u001b[0;32mreturn\u001b[0m \u001b[0mforward_call\u001b[0m\u001b[0;34m(\u001b[0m\u001b[0;34m*\u001b[0m\u001b[0minput\u001b[0m\u001b[0;34m,\u001b[0m \u001b[0;34m**\u001b[0m\u001b[0mkwargs\u001b[0m\u001b[0;34m)\u001b[0m\u001b[0;34m\u001b[0m\u001b[0;34m\u001b[0m\u001b[0m\n\u001b[0m\u001b[1;32m   1191\u001b[0m         \u001b[0;31m# Do not call functions when jit is used\u001b[0m\u001b[0;34m\u001b[0m\u001b[0;34m\u001b[0m\u001b[0;34m\u001b[0m\u001b[0m\n\u001b[1;32m   1192\u001b[0m         \u001b[0mfull_backward_hooks\u001b[0m\u001b[0;34m,\u001b[0m \u001b[0mnon_full_backward_hooks\u001b[0m \u001b[0;34m=\u001b[0m \u001b[0;34m[\u001b[0m\u001b[0;34m]\u001b[0m\u001b[0;34m,\u001b[0m \u001b[0;34m[\u001b[0m\u001b[0;34m]\u001b[0m\u001b[0;34m\u001b[0m\u001b[0;34m\u001b[0m\u001b[0m\n",
            "\u001b[0;32m/usr/local/lib/python3.8/dist-packages/torchvision/transforms/transforms.py\u001b[0m in \u001b[0;36mforward\u001b[0;34m(self, tensor)\u001b[0m\n\u001b[1;32m    268\u001b[0m             \u001b[0mTensor\u001b[0m\u001b[0;34m:\u001b[0m \u001b[0mNormalized\u001b[0m \u001b[0mTensor\u001b[0m \u001b[0mimage\u001b[0m\u001b[0;34m.\u001b[0m\u001b[0;34m\u001b[0m\u001b[0;34m\u001b[0m\u001b[0m\n\u001b[1;32m    269\u001b[0m         \"\"\"\n\u001b[0;32m--> 270\u001b[0;31m         \u001b[0;32mreturn\u001b[0m \u001b[0mF\u001b[0m\u001b[0;34m.\u001b[0m\u001b[0mnormalize\u001b[0m\u001b[0;34m(\u001b[0m\u001b[0mtensor\u001b[0m\u001b[0;34m,\u001b[0m \u001b[0mself\u001b[0m\u001b[0;34m.\u001b[0m\u001b[0mmean\u001b[0m\u001b[0;34m,\u001b[0m \u001b[0mself\u001b[0m\u001b[0;34m.\u001b[0m\u001b[0mstd\u001b[0m\u001b[0;34m,\u001b[0m \u001b[0mself\u001b[0m\u001b[0;34m.\u001b[0m\u001b[0minplace\u001b[0m\u001b[0;34m)\u001b[0m\u001b[0;34m\u001b[0m\u001b[0;34m\u001b[0m\u001b[0m\n\u001b[0m\u001b[1;32m    271\u001b[0m \u001b[0;34m\u001b[0m\u001b[0m\n\u001b[1;32m    272\u001b[0m     \u001b[0;32mdef\u001b[0m \u001b[0m__repr__\u001b[0m\u001b[0;34m(\u001b[0m\u001b[0mself\u001b[0m\u001b[0;34m)\u001b[0m \u001b[0;34m->\u001b[0m \u001b[0mstr\u001b[0m\u001b[0;34m:\u001b[0m\u001b[0;34m\u001b[0m\u001b[0;34m\u001b[0m\u001b[0m\n",
            "\u001b[0;32m/usr/local/lib/python3.8/dist-packages/torchvision/transforms/functional.py\u001b[0m in \u001b[0;36mnormalize\u001b[0;34m(tensor, mean, std, inplace)\u001b[0m\n\u001b[1;32m    358\u001b[0m         \u001b[0;32mraise\u001b[0m \u001b[0mTypeError\u001b[0m\u001b[0;34m(\u001b[0m\u001b[0;34mf\"img should be Tensor Image. Got {type(tensor)}\"\u001b[0m\u001b[0;34m)\u001b[0m\u001b[0;34m\u001b[0m\u001b[0;34m\u001b[0m\u001b[0m\n\u001b[1;32m    359\u001b[0m \u001b[0;34m\u001b[0m\u001b[0m\n\u001b[0;32m--> 360\u001b[0;31m     \u001b[0;32mreturn\u001b[0m \u001b[0mF_t\u001b[0m\u001b[0;34m.\u001b[0m\u001b[0mnormalize\u001b[0m\u001b[0;34m(\u001b[0m\u001b[0mtensor\u001b[0m\u001b[0;34m,\u001b[0m \u001b[0mmean\u001b[0m\u001b[0;34m=\u001b[0m\u001b[0mmean\u001b[0m\u001b[0;34m,\u001b[0m \u001b[0mstd\u001b[0m\u001b[0;34m=\u001b[0m\u001b[0mstd\u001b[0m\u001b[0;34m,\u001b[0m \u001b[0minplace\u001b[0m\u001b[0;34m=\u001b[0m\u001b[0minplace\u001b[0m\u001b[0;34m)\u001b[0m\u001b[0;34m\u001b[0m\u001b[0;34m\u001b[0m\u001b[0m\n\u001b[0m\u001b[1;32m    361\u001b[0m \u001b[0;34m\u001b[0m\u001b[0m\n\u001b[1;32m    362\u001b[0m \u001b[0;34m\u001b[0m\u001b[0m\n",
            "\u001b[0;32m/usr/local/lib/python3.8/dist-packages/torchvision/transforms/functional_tensor.py\u001b[0m in \u001b[0;36mnormalize\u001b[0;34m(tensor, mean, std, inplace)\u001b[0m\n\u001b[1;32m    932\u001b[0m     \u001b[0mmean\u001b[0m \u001b[0;34m=\u001b[0m \u001b[0mtorch\u001b[0m\u001b[0;34m.\u001b[0m\u001b[0mas_tensor\u001b[0m\u001b[0;34m(\u001b[0m\u001b[0mmean\u001b[0m\u001b[0;34m,\u001b[0m \u001b[0mdtype\u001b[0m\u001b[0;34m=\u001b[0m\u001b[0mdtype\u001b[0m\u001b[0;34m,\u001b[0m \u001b[0mdevice\u001b[0m\u001b[0;34m=\u001b[0m\u001b[0mtensor\u001b[0m\u001b[0;34m.\u001b[0m\u001b[0mdevice\u001b[0m\u001b[0;34m)\u001b[0m\u001b[0;34m\u001b[0m\u001b[0;34m\u001b[0m\u001b[0m\n\u001b[1;32m    933\u001b[0m     \u001b[0mstd\u001b[0m \u001b[0;34m=\u001b[0m \u001b[0mtorch\u001b[0m\u001b[0;34m.\u001b[0m\u001b[0mas_tensor\u001b[0m\u001b[0;34m(\u001b[0m\u001b[0mstd\u001b[0m\u001b[0;34m,\u001b[0m \u001b[0mdtype\u001b[0m\u001b[0;34m=\u001b[0m\u001b[0mdtype\u001b[0m\u001b[0;34m,\u001b[0m \u001b[0mdevice\u001b[0m\u001b[0;34m=\u001b[0m\u001b[0mtensor\u001b[0m\u001b[0;34m.\u001b[0m\u001b[0mdevice\u001b[0m\u001b[0;34m)\u001b[0m\u001b[0;34m\u001b[0m\u001b[0;34m\u001b[0m\u001b[0m\n\u001b[0;32m--> 934\u001b[0;31m     \u001b[0;32mif\u001b[0m \u001b[0;34m(\u001b[0m\u001b[0mstd\u001b[0m \u001b[0;34m==\u001b[0m \u001b[0;36m0\u001b[0m\u001b[0;34m)\u001b[0m\u001b[0;34m.\u001b[0m\u001b[0many\u001b[0m\u001b[0;34m(\u001b[0m\u001b[0;34m)\u001b[0m\u001b[0;34m:\u001b[0m\u001b[0;34m\u001b[0m\u001b[0;34m\u001b[0m\u001b[0m\n\u001b[0m\u001b[1;32m    935\u001b[0m         \u001b[0;32mraise\u001b[0m \u001b[0mValueError\u001b[0m\u001b[0;34m(\u001b[0m\u001b[0;34mf\"std evaluated to zero after conversion to {dtype}, leading to division by zero.\"\u001b[0m\u001b[0;34m)\u001b[0m\u001b[0;34m\u001b[0m\u001b[0;34m\u001b[0m\u001b[0m\n\u001b[1;32m    936\u001b[0m     \u001b[0;32mif\u001b[0m \u001b[0mmean\u001b[0m\u001b[0;34m.\u001b[0m\u001b[0mndim\u001b[0m \u001b[0;34m==\u001b[0m \u001b[0;36m1\u001b[0m\u001b[0;34m:\u001b[0m\u001b[0;34m\u001b[0m\u001b[0;34m\u001b[0m\u001b[0m\n",
            "\u001b[0;31mKeyboardInterrupt\u001b[0m: "
          ]
        }
      ]
    },
    {
      "cell_type": "code",
      "source": [
        "#Noisy SS Batch Norm 22 beta too small to prevent overfitting need bigger beta\n",
        "print(\"Noisy Scale and Shift Resnet22\")\n",
        "model = ResNet(BasicBlock, [3, 3, 3], 'noisyss').cuda()\n",
        "optimizer = torch.optim.SGD(model.parameters(), lr=lr, momentum=momentum)\n",
        "train_errs, test_errs, epochs_and_test_errs_nss22 = train(epochs, model, criterion, optimizer, train_loader, test_loader)\n",
        "\n",
        "plot_epochs_and_accuracies(epochs_and_test_errs_nss22, 'Noisy Scale and Shift Resnet 22')"
      ],
      "metadata": {
        "colab": {
          "base_uri": "https://localhost:8080/",
          "height": 737
        },
        "id": "VJK_34F00cLi",
        "outputId": "6ca061ea-85fc-48c6-e889-838ff2eed951"
      },
      "execution_count": null,
      "outputs": [
        {
          "output_type": "stream",
          "name": "stdout",
          "text": [
            "Noisy Scale and Shift Resnet22\n",
            "Epoch 000/025, Train Error 65.75% || Test Error 57.72%\n",
            "Epoch 001/025, Train Error 52.36% || Test Error 48.83%\n",
            "Epoch 002/025, Train Error 46.36% || Test Error 46.46%\n",
            "Epoch 003/025, Train Error 40.88% || Test Error 42.36%\n",
            "Epoch 004/025, Train Error 37.14% || Test Error 43.52%\n",
            "Epoch 005/025, Train Error 34.35% || Test Error 37.23%\n",
            "Epoch 006/025, Train Error 31.86% || Test Error 38.37%\n",
            "Epoch 007/025, Train Error 29.52% || Test Error 34.01%\n",
            "Epoch 008/025, Train Error 27.84% || Test Error 35.54%\n",
            "Epoch 009/025, Train Error 25.92% || Test Error 31.53%\n",
            "Epoch 010/025, Train Error 24.58% || Test Error 27.84%\n",
            "Epoch 011/025, Train Error 23.02% || Test Error 31.94%\n",
            "Epoch 012/025, Train Error 21.59% || Test Error 31.18%\n",
            "Epoch 013/025, Train Error 20.62% || Test Error 26.82%\n",
            "Epoch 014/025, Train Error 19.37% || Test Error 27.65%\n",
            "Epoch 015/025, Train Error 18.11% || Test Error 26.84%\n",
            "Epoch 016/025, Train Error 17.14% || Test Error 28.45%\n",
            "Epoch 017/025, Train Error 15.74% || Test Error 28.38%\n",
            "Epoch 018/025, Train Error 14.77% || Test Error 25.79%\n",
            "Epoch 019/025, Train Error 13.85% || Test Error 29.87%\n",
            "Epoch 020/025, Train Error 12.71% || Test Error 25.57%\n",
            "Epoch 021/025, Train Error 12.20% || Test Error 26.21%\n",
            "Epoch 022/025, Train Error 11.19% || Test Error 25.75%\n",
            "Epoch 023/025, Train Error 9.92% || Test Error 27.94%\n",
            "Epoch 024/025, Train Error 8.96% || Test Error 24.40%\n"
          ]
        },
        {
          "output_type": "display_data",
          "data": {
            "text/plain": [
              "<Figure size 432x288 with 1 Axes>"
            ],
            "image/png": "[encoded data removed]"
          },
          "metadata": {
            "needs_background": "light"
          }
        }
      ]
    },
    {
      "cell_type": "code",
      "source": [
        "#Noisy SS 56 have this as an ablation if its interesting\n",
        "print(\"Noisy Scale and Shift Resnet56\")\n",
        "model = ResNet(BasicBlock, [9, 9, 9], 'noisyss').cuda()\n",
        "optimizer = torch.optim.SGD(model.parameters(), lr=lr, momentum=momentum)\n",
        "train_errs, test_errs, epochs_and_test_errs_nss56 = train(epochs, model, criterion, optimizer, train_loader, test_loader)\n",
        "\n",
        "plot_epochs_and_accuracies(epochs_and_test_errs_nss56, 'Noisy Scale and Shift Resnet 56')"
      ],
      "metadata": {
        "id": "WvcegmEH098w"
      },
      "execution_count": null,
      "outputs": []
    },
    {
      "cell_type": "code",
      "source": [
        "#Noisy norm 22\n",
        "print(\"NoisyNorm Resnet22\")\n",
        "model = ResNet(BasicBlock, [3, 3, 3], 'noisy').cuda()\n",
        "optimizer = torch.optim.SGD(model.parameters(), lr=lr, momentum=momentum)\n",
        "train_errs, test_errs, epochs_and_test_errs_noisy22 = train(epochs, model, criterion, optimizer, train_loader, test_loader)\n",
        "\n",
        "plot_epochs_and_accuracies(epochs_and_test_errs_noisy22, 'NoisyNorm Resnet 22')\n",
        "\n"
      ],
      "metadata": {
        "colab": {
          "base_uri": "https://localhost:8080/",
          "height": 737
        },
        "id": "1FAMR_y49uwS",
        "outputId": "f650dc0a-2ade-4019-918a-c1b940f2641a"
      },
      "execution_count": null,
      "outputs": [
        {
          "output_type": "stream",
          "name": "stdout",
          "text": [
            "NoisyNorm Resnet22\n",
            "Epoch 000/025, Train Error 61.16% || Test Error 51.80%\n",
            "Epoch 001/025, Train Error 46.77% || Test Error 44.31%\n",
            "Epoch 002/025, Train Error 40.61% || Test Error 47.67%\n",
            "Epoch 003/025, Train Error 35.67% || Test Error 40.45%\n",
            "Epoch 004/025, Train Error 32.16% || Test Error 34.90%\n",
            "Epoch 005/025, Train Error 29.55% || Test Error 32.02%\n",
            "Epoch 006/025, Train Error 27.06% || Test Error 33.79%\n",
            "Epoch 007/025, Train Error 24.68% || Test Error 30.60%\n",
            "Epoch 008/025, Train Error 22.81% || Test Error 29.78%\n",
            "Epoch 009/025, Train Error 21.01% || Test Error 30.11%\n",
            "Epoch 010/025, Train Error 19.44% || Test Error 28.02%\n",
            "Epoch 011/025, Train Error 17.96% || Test Error 28.27%\n",
            "Epoch 012/025, Train Error 16.29% || Test Error 27.73%\n",
            "Epoch 013/025, Train Error 15.07% || Test Error 29.81%\n",
            "Epoch 014/025, Train Error 13.56% || Test Error 32.80%\n",
            "Epoch 015/025, Train Error 12.63% || Test Error 28.18%\n",
            "Epoch 016/025, Train Error 11.06% || Test Error 28.12%\n",
            "Epoch 017/025, Train Error 9.78% || Test Error 30.85%\n",
            "Epoch 018/025, Train Error 9.09% || Test Error 29.26%\n",
            "Epoch 019/025, Train Error 7.59% || Test Error 28.39%\n",
            "Epoch 020/025, Train Error 6.60% || Test Error 32.14%\n",
            "Epoch 021/025, Train Error 5.94% || Test Error 32.64%\n",
            "Epoch 022/025, Train Error 5.32% || Test Error 29.96%\n",
            "Epoch 023/025, Train Error 4.57% || Test Error 39.60%\n",
            "Epoch 024/025, Train Error 3.81% || Test Error 29.71%\n"
          ]
        },
        {
          "output_type": "display_data",
          "data": {
            "text/plain": [
              "<Figure size 432x288 with 1 Axes>"
            ],
            "image/png": "[encoded data removed]"
          },
          "metadata": {
            "needs_background": "light"
          }
        }
      ]
    },
    {
      "cell_type": "code",
      "source": [
        "#Noisy norm 56\n",
        "print(\"NoisyNorm Resnet56\")\n",
        "model = ResNet(BasicBlock, [9, 9, 9], 'noisy').cuda()\n",
        "optimizer = torch.optim.SGD(model.parameters(), lr=lr, momentum=momentum)\n",
        "train_errs, test_errs, epochs_and_test_errs_noisy56 = train(epochs, model, criterion, optimizer, train_loader, test_loader)\n",
        "\n",
        "plot_epochs_and_accuracies(epochs_and_test_errs_noisy56, 'NoisyNorm Resnet 22')\n",
        "\n"
      ],
      "metadata": {
        "colab": {
          "base_uri": "https://localhost:8080/",
          "height": 737
        },
        "id": "BLzWNwt8_WDI",
        "outputId": "4a597014-4697-4101-c359-98731529d920"
      },
      "execution_count": null,
      "outputs": [
        {
          "output_type": "stream",
          "name": "stdout",
          "text": [
            "NoisyNorm Resnet56\n",
            "Epoch 000/025, Train Error 62.87% || Test Error 55.71%\n",
            "Epoch 001/025, Train Error 47.84% || Test Error 47.39%\n",
            "Epoch 002/025, Train Error 40.41% || Test Error 39.53%\n",
            "Epoch 003/025, Train Error 35.55% || Test Error 38.23%\n",
            "Epoch 004/025, Train Error 31.63% || Test Error 34.45%\n",
            "Epoch 005/025, Train Error 28.39% || Test Error 38.58%\n",
            "Epoch 006/025, Train Error 25.26% || Test Error 35.03%\n",
            "Epoch 007/025, Train Error 22.81% || Test Error 35.82%\n",
            "Epoch 008/025, Train Error 20.61% || Test Error 32.93%\n",
            "Epoch 009/025, Train Error 17.92% || Test Error 33.16%\n",
            "Epoch 010/025, Train Error 16.34% || Test Error 30.88%\n",
            "Epoch 011/025, Train Error 13.78% || Test Error 39.37%\n",
            "Epoch 012/025, Train Error 12.26% || Test Error 33.99%\n",
            "Epoch 013/025, Train Error 10.76% || Test Error 34.84%\n",
            "Epoch 014/025, Train Error 8.64% || Test Error 36.59%\n",
            "Epoch 015/025, Train Error 7.47% || Test Error 32.26%\n",
            "Epoch 016/025, Train Error 6.06% || Test Error 35.89%\n",
            "Epoch 017/025, Train Error 5.88% || Test Error 29.88%\n",
            "Epoch 018/025, Train Error 5.11% || Test Error 33.09%\n",
            "Epoch 019/025, Train Error 4.35% || Test Error 29.69%\n",
            "Epoch 020/025, Train Error 3.27% || Test Error 33.59%\n",
            "Epoch 021/025, Train Error 3.22% || Test Error 33.06%\n",
            "Epoch 022/025, Train Error 3.10% || Test Error 32.41%\n",
            "Epoch 023/025, Train Error 2.57% || Test Error 33.14%\n",
            "Epoch 024/025, Train Error 2.29% || Test Error 29.62%\n"
          ]
        },
        {
          "output_type": "display_data",
          "data": {
            "text/plain": [
              "<Figure size 432x288 with 1 Axes>"
            ],
            "image/png": "[encoded data removed]"
          },
          "metadata": {
            "needs_background": "light"
          }
        }
      ]
    },
    {
      "cell_type": "code",
      "source": [
        "#Noisy norm 2 where we add noise to the scale term as well maybe higher maybe also to shift Noisy Norm 2"
      ],
      "metadata": {
        "id": "4kJp48LdL2W7"
      },
      "execution_count": null,
      "outputs": []
    },
    {
      "cell_type": "code",
      "source": [
        "#Meannorm2 22\n",
        "print(\"MeanNorm Resnet22\")\n",
        "model = ResNet(BasicBlock, [3, 3, 3], 'meannorm2').cuda()\n",
        "optimizer = torch.optim.SGD(model.parameters(), lr=lr, momentum=momentum)\n",
        "train_errs, test_errs, epochs_and_test_errs_m2_22 = train(epochs, model, criterion, optimizer, train_loader, test_loader)\n",
        "\n",
        "plot_epochs_and_accuracies(epochs_and_test_errs_m2_22, 'MeanNorm Resnet 22')"
      ],
      "metadata": {
        "colab": {
          "base_uri": "https://localhost:8080/",
          "height": 737
        },
        "id": "WFS63v6BFRHR",
        "outputId": "170dc1db-5895-4696-cf30-09518eda63ba"
      },
      "execution_count": null,
      "outputs": [
        {
          "output_type": "stream",
          "name": "stdout",
          "text": [
            "MeanNorm Resnet22\n",
            "Epoch 000/025, Train Error 66.62% || Test Error 55.79%\n",
            "Epoch 001/025, Train Error 49.05% || Test Error 44.81%\n",
            "Epoch 002/025, Train Error 40.53% || Test Error 43.24%\n",
            "Epoch 003/025, Train Error 35.53% || Test Error 36.15%\n",
            "Epoch 004/025, Train Error 31.39% || Test Error 32.63%\n",
            "Epoch 005/025, Train Error 28.23% || Test Error 32.10%\n",
            "Epoch 006/025, Train Error 25.74% || Test Error 33.10%\n",
            "Epoch 007/025, Train Error 23.68% || Test Error 30.31%\n",
            "Epoch 008/025, Train Error 21.52% || Test Error 32.65%\n",
            "Epoch 009/025, Train Error 19.95% || Test Error 27.58%\n",
            "Epoch 010/025, Train Error 18.08% || Test Error 29.52%\n",
            "Epoch 011/025, Train Error 16.92% || Test Error 28.92%\n",
            "Epoch 012/025, Train Error 15.46% || Test Error 30.31%\n",
            "Epoch 013/025, Train Error 15.12% || Test Error 32.29%\n",
            "Epoch 014/025, Train Error 13.96% || Test Error 29.54%\n",
            "Epoch 015/025, Train Error 12.44% || Test Error 31.26%\n",
            "Epoch 016/025, Train Error 11.88% || Test Error 26.32%\n",
            "Epoch 017/025, Train Error 11.46% || Test Error 26.31%\n",
            "Epoch 018/025, Train Error 10.98% || Test Error 35.48%\n",
            "Epoch 019/025, Train Error 10.49% || Test Error 31.74%\n",
            "Epoch 020/025, Train Error 9.34% || Test Error 30.71%\n",
            "Epoch 021/025, Train Error 9.44% || Test Error 30.80%\n",
            "Epoch 022/025, Train Error 9.28% || Test Error 29.09%\n",
            "Epoch 023/025, Train Error 8.50% || Test Error 29.22%\n",
            "Epoch 024/025, Train Error 8.36% || Test Error 26.83%\n"
          ]
        },
        {
          "output_type": "display_data",
          "data": {
            "text/plain": [
              "<Figure size 432x288 with 1 Axes>"
            ],
            "image/png": "[encoded data removed]"
          },
          "metadata": {
            "needs_background": "light"
          }
        }
      ]
    },
    {
      "cell_type": "code",
      "source": [
        "#Meannorm2 56\n",
        "print(\"MeanNorm Resnet56\")\n",
        "model = ResNet(BasicBlock, [9, 9, 9], 'meannorm2').cuda()\n",
        "optimizer = torch.optim.SGD(model.parameters(), lr=lr, momentum=momentum)\n",
        "train_errs, test_errs, epochs_and_test_errs_m2_22 = train(epochs, model, criterion, optimizer, train_loader, test_loader)\n",
        "\n",
        "plot_epochs_and_accuracies(epochs_and_test_errs_m2_22, 'MeanNorm Resnet 56')"
      ],
      "metadata": {
        "id": "_c7iOEY4FT-f"
      },
      "execution_count": null,
      "outputs": []
    },
    {
      "cell_type": "code",
      "source": [
        "#varnorm2 22\n",
        "print(\"VarNorm Resnet22\")\n",
        "model = ResNet(BasicBlock, [3, 3, 3], 'varnorm2').cuda()\n",
        "optimizer = torch.optim.SGD(model.parameters(), lr=lr, momentum=momentum)\n",
        "train_errs, test_errs, epochs_and_test_errs_var_22 = train(epochs, model, criterion, optimizer, train_loader, test_loader)\n",
        "\n",
        "plot_epochs_and_accuracies(epochs_and_test_errs_var_22, 'VarNorm Resnet 22')"
      ],
      "metadata": {
        "id": "GXZh5UapFWs-",
        "colab": {
          "base_uri": "https://localhost:8080/",
          "height": 737
        },
        "outputId": "35accabe-a25b-433c-8bc5-cfdf10081120"
      },
      "execution_count": null,
      "outputs": [
        {
          "output_type": "stream",
          "name": "stdout",
          "text": [
            "VarNorm Resnet22\n",
            "Epoch 000/025, Train Error 72.48% || Test Error 70.00%\n",
            "Epoch 001/025, Train Error 60.00% || Test Error 56.32%\n",
            "Epoch 002/025, Train Error 53.72% || Test Error 66.86%\n",
            "Epoch 003/025, Train Error 49.35% || Test Error 56.99%\n",
            "Epoch 004/025, Train Error 44.49% || Test Error 54.22%\n",
            "Epoch 005/025, Train Error 41.09% || Test Error 45.02%\n",
            "Epoch 006/025, Train Error 38.42% || Test Error 49.39%\n",
            "Epoch 007/025, Train Error 36.19% || Test Error 45.47%\n",
            "Epoch 008/025, Train Error 34.46% || Test Error 52.38%\n",
            "Epoch 009/025, Train Error 32.83% || Test Error 43.42%\n",
            "Epoch 010/025, Train Error 31.22% || Test Error 44.31%\n",
            "Epoch 011/025, Train Error 29.51% || Test Error 44.83%\n",
            "Epoch 012/025, Train Error 28.35% || Test Error 45.82%\n",
            "Epoch 013/025, Train Error 27.17% || Test Error 33.85%\n",
            "Epoch 014/025, Train Error 25.96% || Test Error 37.92%\n",
            "Epoch 015/025, Train Error 24.44% || Test Error 44.72%\n",
            "Epoch 016/025, Train Error 23.65% || Test Error 37.17%\n",
            "Epoch 017/025, Train Error 22.92% || Test Error 32.87%\n",
            "Epoch 018/025, Train Error 22.24% || Test Error 31.93%\n",
            "Epoch 019/025, Train Error 21.25% || Test Error 27.98%\n",
            "Epoch 020/025, Train Error 20.35% || Test Error 35.58%\n",
            "Epoch 021/025, Train Error 19.96% || Test Error 49.99%\n",
            "Epoch 022/025, Train Error 18.93% || Test Error 31.99%\n",
            "Epoch 023/025, Train Error 18.09% || Test Error 34.36%\n",
            "Epoch 024/025, Train Error 17.54% || Test Error 34.43%\n"
          ]
        },
        {
          "output_type": "display_data",
          "data": {
            "text/plain": [
              "<Figure size 432x288 with 1 Axes>"
            ],
            "image/png": "[encoded data removed]"
          },
          "metadata": {
            "needs_background": "light"
          }
        }
      ]
    },
    {
      "cell_type": "code",
      "source": [
        "#varnorm2 56\n",
        "print(\"VarNorm Resnet56\")\n",
        "model = ResNet(BasicBlock, [9, 9, 9], 'varnorm2').cuda()\n",
        "optimizer = torch.optim.SGD(model.parameters(), lr=lr, momentum=momentum)\n",
        "train_errs, test_errs, epochs_and_test_errs_noisy56 = train(epochs, model, criterion, optimizer, train_loader, test_loader)\n",
        "\n",
        "plot_epochs_and_accuracies(epochs_and_test_errs_noisy56, 'VarNorm Resnet 56')"
      ],
      "metadata": {
        "id": "HV0aFGpcFajL"
      },
      "execution_count": null,
      "outputs": []
    },
    {
      "cell_type": "code",
      "source": [],
      "metadata": {
        "id": "kG1a3NI6WjOm"
      },
      "execution_count": null,
      "outputs": []
    },
    {
      "cell_type": "code",
      "source": [
        "#SS_none batch norm  will need this after\n",
        "epochs =10 \n"
      ],
      "metadata": {
        "id": "vowrmyRQ1w5u"
      },
      "execution_count": null,
      "outputs": []
    },
    {
      "cell_type": "code",
      "source": [
        "#SS_ only is just a simple linear layer"
      ],
      "metadata": {
        "id": "7YT3yByCEoqv"
      },
      "execution_count": null,
      "outputs": []
    },
    {
      "cell_type": "code",
      "source": [
        "#These are ablations of noisy norm"
      ],
      "metadata": {
        "id": "sInFMbF1CyKw"
      },
      "execution_count": null,
      "outputs": []
    },
    {
      "cell_type": "code",
      "source": [
        "#Noisy Mean batch norm 22"
      ],
      "metadata": {
        "id": "iIYVgXpo1SFm"
      },
      "execution_count": null,
      "outputs": []
    },
    {
      "cell_type": "code",
      "source": [
        "#Noisy Mean batch norm 56"
      ],
      "metadata": {
        "id": "vPsRBm451ic7"
      },
      "execution_count": null,
      "outputs": []
    },
    {
      "cell_type": "code",
      "source": [
        "#Noisy var batch norm 22"
      ],
      "metadata": {
        "id": "06Sau85C1ltW"
      },
      "execution_count": null,
      "outputs": []
    },
    {
      "cell_type": "code",
      "source": [
        "#Noisy var batch norm 56"
      ],
      "metadata": {
        "id": "JGvp2lDY1tZO"
      },
      "execution_count": null,
      "outputs": []
    },
    {
      "cell_type": "code",
      "source": [
        "#SS_only"
      ],
      "metadata": {
        "id": "GxAGZFYx6tsL"
      },
      "execution_count": null,
      "outputs": []
    },
    {
      "cell_type": "code",
      "source": [
        "#Variance and norm ablations"
      ],
      "metadata": {
        "id": "fePl-bYf6xCI"
      },
      "execution_count": null,
      "outputs": []
    },
    {
      "cell_type": "code",
      "source": [
        " {'control' : nn.BatchNorm2d, 'noisyshift': NoisyShiftNorm,'noisyscale': NoisyScaleNorm ,'noisyss': NoisySSBatchNorm,\n",
        "'noisymean': NoisyMeanBatchNorm, 'noisyvar' : NoisyVarBatchNorm, 'meannorm1' : MeanNorm1, \n",
        "'meannorm2' : MeanNorm2, 'varnorm1': VarNorm1, 'varnorm2': VarNorm2, 'ss_none ' : SS_noneBatchNorm , 'ss_only': SS_onlyBatchNorm}"
      ],
      "metadata": {
        "id": "KkBgkGAi6sVq"
      },
      "execution_count": null,
      "outputs": []
    },
    {
      "cell_type": "code",
      "source": [
        "#Gauss beta=0.4\n",
        "model = ResNet(BasicBlock, [7, 7, 7], 'gauss').cuda()\n",
        "optimizer = torch.optim.SGD(model.parameters(), lr=lr, momentum=momentum)\n",
        "train_errs, test_errs, epochs_and_test_errs = train(epochs, model, criterion, optimizer, train_loader, test_loader)"
      ],
      "metadata": {
        "colab": {
          "base_uri": "https://localhost:8080/"
        },
        "id": "AOISRswkF5_L",
        "outputId": "9e4ce8af-e7d6-48a2-ec5e-72a97ac6ab17"
      },
      "execution_count": null,
      "outputs": [
        {
          "output_type": "stream",
          "name": "stdout",
          "text": [
            "Epoch 000/015, Train Error 71.21% || Test Error 62.08%\n",
            "Epoch 001/015, Train Error 57.61% || Test Error 55.10%\n",
            "Epoch 002/015, Train Error 51.57% || Test Error 48.79%\n",
            "Epoch 003/015, Train Error 46.79% || Test Error 47.24%\n",
            "Epoch 004/015, Train Error 43.51% || Test Error 43.79%\n",
            "Epoch 005/015, Train Error 39.86% || Test Error 39.29%\n",
            "Epoch 006/015, Train Error 36.82% || Test Error 36.31%\n",
            "Epoch 007/015, Train Error 34.51% || Test Error 36.12%\n",
            "Epoch 008/015, Train Error 32.34% || Test Error 33.43%\n",
            "Epoch 009/015, Train Error 30.21% || Test Error 33.18%\n",
            "Epoch 010/015, Train Error 29.20% || Test Error 31.84%\n",
            "Epoch 011/015, Train Error 27.70% || Test Error 30.54%\n",
            "Epoch 012/015, Train Error 25.98% || Test Error 28.74%\n",
            "Epoch 013/015, Train Error 25.48% || Test Error 31.74%\n",
            "Epoch 014/015, Train Error 23.93% || Test Error 27.70%\n"
          ]
        }
      ]
    },
    {
      "cell_type": "code",
      "source": [
        "#Control\n",
        "model = ResNet(BasicBlock, [7, 7, 7], 'control').cuda()\n",
        "optimizer = torch.optim.SGD(model.parameters(), lr=lr, momentum=momentum)\n",
        "train_errs, test_errs, epochs_and_test_errs = train(epochs, model, criterion, optimizer, train_loader, test_loader)"
      ],
      "metadata": {
        "colab": {
          "base_uri": "https://localhost:8080/"
        },
        "id": "RucVmO6xXriC",
        "outputId": "420dff6b-1585-4f4d-8866-5b0ea2331348"
      },
      "execution_count": null,
      "outputs": [
        {
          "output_type": "stream",
          "name": "stdout",
          "text": [
            "Epoch 000/010, Train Error 62.56% || Test Error 51.57%\n",
            "Epoch 001/010, Train Error 47.41% || Test Error 46.80%\n",
            "Epoch 002/010, Train Error 40.16% || Test Error 42.49%\n",
            "Epoch 003/010, Train Error 34.99% || Test Error 36.40%\n",
            "Epoch 004/010, Train Error 30.70% || Test Error 38.53%\n",
            "Epoch 005/010, Train Error 27.29% || Test Error 35.41%\n",
            "Epoch 006/010, Train Error 24.38% || Test Error 34.10%\n",
            "Epoch 007/010, Train Error 21.94% || Test Error 28.87%\n",
            "Epoch 008/010, Train Error 19.53% || Test Error 29.22%\n",
            "Epoch 009/010, Train Error 17.70% || Test Error 28.79%\n"
          ]
        }
      ]
    },
    {
      "cell_type": "code",
      "source": [
        "#Noisy Gauss with beta initialized to 0.05\n",
        "model = ResNet(BasicBlock, [7, 7, 7], 'gauss').cuda()\n",
        "optimizer = torch.optim.SGD(model.parameters(), lr=lr, momentum=momentum)\n",
        "train_errs, test_errs, epochs_and_test_errs = train(epochs, model, criterion, optimizer, train_loader, test_loader)"
      ],
      "metadata": {
        "colab": {
          "base_uri": "https://localhost:8080/"
        },
        "id": "7FrCWOq7dHPA",
        "outputId": "5b018cc0-7a78-4365-f5fa-5160497bc008"
      },
      "execution_count": null,
      "outputs": [
        {
          "output_type": "stream",
          "name": "stdout",
          "text": [
            "Epoch 000/015, Train Error 64.16% || Test Error 54.70%\n",
            "Epoch 001/015, Train Error 49.04% || Test Error 52.07%\n",
            "Epoch 002/015, Train Error 42.89% || Test Error 41.32%\n",
            "Epoch 003/015, Train Error 37.39% || Test Error 51.75%\n",
            "Epoch 004/015, Train Error 33.24% || Test Error 35.99%\n",
            "Epoch 005/015, Train Error 29.91% || Test Error 37.02%\n",
            "Epoch 006/015, Train Error 27.09% || Test Error 32.23%\n",
            "Epoch 007/015, Train Error 24.46% || Test Error 30.66%\n",
            "Epoch 008/015, Train Error 22.08% || Test Error 36.13%\n",
            "Epoch 009/015, Train Error 19.95% || Test Error 29.93%\n",
            "Epoch 010/015, Train Error 18.28% || Test Error 29.41%\n",
            "Epoch 011/015, Train Error 16.54% || Test Error 36.40%\n",
            "Epoch 012/015, Train Error 14.60% || Test Error 31.72%\n",
            "Epoch 013/015, Train Error 13.29% || Test Error 31.25%\n",
            "Epoch 014/015, Train Error 11.39% || Test Error 33.28%\n"
          ]
        }
      ]
    },
    {
      "cell_type": "code",
      "source": [
        "#Noisy Gauss with beta initialized to 0.5\n",
        "model = ResNet(BasicBlock, [7, 7, 7], 'gauss').cuda()\n",
        "optimizer = torch.optim.SGD(model.parameters(), lr=lr, momentum=momentum)\n",
        "train_errs, test_errs, epochs_and_test_errs = train(epochs, model, criterion, optimizer, train_loader, test_loader)"
      ],
      "metadata": {
        "colab": {
          "base_uri": "https://localhost:8080/"
        },
        "id": "_87AK2cZqqGZ",
        "outputId": "ad2b5888-90c9-46a0-8ffb-67d8b495519c"
      },
      "execution_count": null,
      "outputs": [
        {
          "output_type": "stream",
          "name": "stdout",
          "text": [
            "Epoch 000/015, Train Error 71.65% || Test Error 69.09%\n",
            "Epoch 001/015, Train Error 58.79% || Test Error 56.10%\n",
            "Epoch 002/015, Train Error 52.46% || Test Error 52.59%\n",
            "Epoch 003/015, Train Error 48.54% || Test Error 48.73%\n",
            "Epoch 004/015, Train Error 44.96% || Test Error 47.21%\n",
            "Epoch 005/015, Train Error 41.24% || Test Error 41.34%\n",
            "Epoch 006/015, Train Error 38.35% || Test Error 37.80%\n",
            "Epoch 007/015, Train Error 36.55% || Test Error 36.93%\n",
            "Epoch 008/015, Train Error 34.24% || Test Error 37.32%\n",
            "Epoch 009/015, Train Error 32.31% || Test Error 36.27%\n",
            "Epoch 010/015, Train Error 31.15% || Test Error 35.37%\n",
            "Epoch 011/015, Train Error 29.50% || Test Error 31.60%\n",
            "Epoch 012/015, Train Error 28.62% || Test Error 31.30%\n",
            "Epoch 013/015, Train Error 27.66% || Test Error 28.03%\n",
            "Epoch 014/015, Train Error 26.32% || Test Error 27.35%\n"
          ]
        }
      ]
    },
    {
      "cell_type": "code",
      "source": [
        "#Noisy Gauss with beta initialized to 0.4\n",
        "model = ResNet(BasicBlock, [7, 7, 7], 'gauss').cuda()\n",
        "optimizer = torch.optim.SGD(model.parameters(), lr=lr, momentum=momentum)\n",
        "train_errs, test_errs, epochs_and_test_errs = train(epochs, model, criterion, optimizer, train_loader, test_loader)"
      ],
      "metadata": {
        "colab": {
          "base_uri": "https://localhost:8080/"
        },
        "id": "fkAYKRLAsiq8",
        "outputId": "e5d73e53-cf3a-4b34-f303-096f77e32759"
      },
      "execution_count": null,
      "outputs": [
        {
          "output_type": "stream",
          "name": "stdout",
          "text": [
            "Epoch 000/015, Train Error 70.78% || Test Error 61.90%\n",
            "Epoch 001/015, Train Error 56.68% || Test Error 57.52%\n",
            "Epoch 002/015, Train Error 49.88% || Test Error 50.92%\n",
            "Epoch 003/015, Train Error 45.40% || Test Error 41.73%\n",
            "Epoch 004/015, Train Error 41.52% || Test Error 43.20%\n",
            "Epoch 005/015, Train Error 38.44% || Test Error 38.43%\n",
            "Epoch 006/015, Train Error 35.40% || Test Error 36.65%\n",
            "Epoch 007/015, Train Error 33.29% || Test Error 35.22%\n",
            "Epoch 008/015, Train Error 31.49% || Test Error 35.40%\n",
            "Epoch 009/015, Train Error 30.19% || Test Error 32.37%\n",
            "Epoch 010/015, Train Error 28.18% || Test Error 32.66%\n",
            "Epoch 011/015, Train Error 27.11% || Test Error 32.35%\n",
            "Epoch 012/015, Train Error 25.41% || Test Error 29.48%\n",
            "Epoch 013/015, Train Error 24.44% || Test Error 28.97%\n",
            "Epoch 014/015, Train Error 23.72% || Test Error 27.78%\n"
          ]
        }
      ]
    },
    {
      "cell_type": "code",
      "source": [
        "#Noisy Gauss with beta initialized to 0.2\n",
        "model = ResNet(BasicBlock, [18, 18, 18], 'gauss').cuda()\n",
        "optimizer = torch.optim.SGD(model.parameters(), lr=lr, momentum=momentum)\n",
        "train_errs, test_errs, epochs_and_test_errs = train(epochs, model, criterion, optimizer, train_loader, test_loader"
      ],
      "metadata": {
        "id": "81JXHzfw1694"
      },
      "execution_count": null,
      "outputs": []
    },
    {
      "cell_type": "code",
      "source": [
        "#MeanNorm only to see if the noise is actually regularizing any thing\n",
        "model = ResNet(BasicBlock, [7, 7, 7], 'mean').cuda()\n",
        "optimizer = torch.optim.SGD(model.parameters(), lr=lr, momentum=momentum)\n",
        "train_errs, test_errs, epochs_and_test_errs = train(epochs, model, criterion, optimizer, train_loader, test_loader)"
      ],
      "metadata": {
        "colab": {
          "base_uri": "https://localhost:8080/"
        },
        "id": "4_pht6CEgdP5",
        "outputId": "20f6ff0b-d056-4e71-8543-52f8d6b52896"
      },
      "execution_count": null,
      "outputs": [
        {
          "output_type": "stream",
          "name": "stdout",
          "text": [
            "Epoch 000/010, Train Error 61.60% || Test Error 51.52%\n",
            "Epoch 001/010, Train Error 46.46% || Test Error 47.37%\n",
            "Epoch 002/010, Train Error 39.01% || Test Error 39.69%\n",
            "Epoch 003/010, Train Error 33.28% || Test Error 35.75%\n",
            "Epoch 004/010, Train Error 29.39% || Test Error 33.59%\n",
            "Epoch 005/010, Train Error 26.54% || Test Error 34.68%\n",
            "Epoch 006/010, Train Error 23.48% || Test Error 34.49%\n",
            "Epoch 007/010, Train Error 20.70% || Test Error 29.70%\n",
            "Epoch 008/010, Train Error 18.45% || Test Error 30.42%\n",
            "Epoch 009/010, Train Error 16.66% || Test Error 35.78%\n"
          ]
        }
      ]
    },
    {
      "cell_type": "code",
      "source": [
        "#beta intialized to be 0.25 \n",
        "model = ResNet(BasicBlock, [7, 7, 7], 'gauss').cuda()\n",
        "optimizer = torch.optim.SGD(model.parameters(), lr=lr, momentum=momentum)\n",
        "train_errs, test_errs, epochs_and_test_errs = train(epochs, model, criterion, optimizer, train_loader, test_loader)"
      ],
      "metadata": {
        "colab": {
          "base_uri": "https://localhost:8080/"
        },
        "id": "T-B-Mt2zaym-",
        "outputId": "13ad88b4-88c6-489e-97ca-9047d3cc5ac6"
      },
      "execution_count": null,
      "outputs": [
        {
          "output_type": "stream",
          "name": "stdout",
          "text": [
            "Epoch 000/015, Train Error 65.43% || Test Error 56.85%\n",
            "Epoch 001/015, Train Error 51.97% || Test Error 48.45%\n",
            "Epoch 002/015, Train Error 45.03% || Test Error 48.62%\n",
            "Epoch 003/015, Train Error 40.06% || Test Error 40.48%\n",
            "Epoch 004/015, Train Error 35.83% || Test Error 37.17%\n",
            "Epoch 005/015, Train Error 32.52% || Test Error 37.15%\n",
            "Epoch 006/015, Train Error 29.95% || Test Error 32.12%\n",
            "Epoch 007/015, Train Error 27.95% || Test Error 33.70%\n",
            "Epoch 008/015, Train Error 25.78% || Test Error 29.54%\n",
            "Epoch 009/015, Train Error 24.10% || Test Error 30.49%\n",
            "Epoch 010/015, Train Error 22.63% || Test Error 26.80%\n",
            "Epoch 011/015, Train Error 21.07% || Test Error 26.05%\n",
            "Epoch 012/015, Train Error 19.96% || Test Error 30.99%\n",
            "Epoch 013/015, Train Error 18.70% || Test Error 25.13%\n",
            "Epoch 014/015, Train Error 17.40% || Test Error 26.35%\n"
          ]
        }
      ]
    },
    {
      "cell_type": "code",
      "source": [
        "model = ResNet(BasicBlock, [7, 7, 7], 'control').cuda()\n",
        "optimizer = torch.optim.SGD(model.parameters(), lr=lr, momentum=momentum)\n",
        "train_errs, test_errs, epochs_and_test_errs = train(epochs, model, criterion, optimizer, train_loader, test_loader)"
      ],
      "metadata": {
        "colab": {
          "base_uri": "https://localhost:8080/"
        },
        "id": "QzXMxuXCgnOs",
        "outputId": "43337591-a51f-49bf-d7e5-7acac59a33d1"
      },
      "execution_count": null,
      "outputs": [
        {
          "output_type": "stream",
          "name": "stdout",
          "text": [
            "Epoch 000/015, Train Error 75.65% || Test Error 66.52%\n",
            "Epoch 001/015, Train Error 64.33% || Test Error 59.74%\n",
            "Epoch 002/015, Train Error 57.53% || Test Error 54.37%\n",
            "Epoch 003/015, Train Error 53.38% || Test Error 51.82%\n",
            "Epoch 004/015, Train Error 48.94% || Test Error 47.78%\n",
            "Epoch 005/015, Train Error 45.87% || Test Error 43.11%\n",
            "Epoch 006/015, Train Error 42.34% || Test Error 40.81%\n",
            "Epoch 007/015, Train Error 39.51% || Test Error 37.80%\n",
            "Epoch 008/015, Train Error 36.33% || Test Error 42.53%\n",
            "Epoch 009/015, Train Error 35.18% || Test Error 43.72%\n",
            "Epoch 010/015, Train Error 33.28% || Test Error 32.56%\n",
            "Epoch 011/015, Train Error 31.37% || Test Error 33.12%\n",
            "Epoch 012/015, Train Error 30.37% || Test Error 30.14%\n",
            "Epoch 013/015, Train Error 29.19% || Test Error 30.49%\n",
            "Epoch 014/015, Train Error 27.53% || Test Error 28.99%\n"
          ]
        }
      ]
    },
    {
      "cell_type": "code",
      "source": [
        "#Noisy Gauss with beta initialized to 0.4 \n",
        "model = ResNet(BasicBlock, [18, 18, 18], 'gauss').cuda()\n",
        "optimizer = torch.optim.SGD(model.parameters(), lr=lr, momentum=momentum)\n",
        "train_errs, test_errs, epochs_and_test_errs = train(epochs, model, criterion, optimizer, train_loader, test_loader)"
      ],
      "metadata": {
        "colab": {
          "base_uri": "https://localhost:8080/"
        },
        "id": "-NXxEnSDz8zq",
        "outputId": "618d09b8-3612-47a0-b387-259fe6fb797b"
      },
      "execution_count": null,
      "outputs": [
        {
          "output_type": "stream",
          "name": "stdout",
          "text": [
            "Epoch 000/015, Train Error 89.21% || Test Error 87.13%\n",
            "Epoch 001/015, Train Error 77.08% || Test Error 71.47%\n",
            "Epoch 002/015, Train Error 67.17% || Test Error 64.51%\n",
            "Epoch 003/015, Train Error 60.16% || Test Error 62.58%\n",
            "Epoch 004/015, Train Error 55.03% || Test Error 53.74%\n",
            "Epoch 005/015, Train Error 51.41% || Test Error 51.69%\n",
            "Epoch 006/015, Train Error 47.41% || Test Error 52.08%\n",
            "Epoch 007/015, Train Error 44.03% || Test Error 44.66%\n",
            "Epoch 008/015, Train Error 40.47% || Test Error 54.93%\n",
            "Epoch 009/015, Train Error 37.11% || Test Error 43.72%\n",
            "Epoch 010/015, Train Error 33.78% || Test Error 45.03%\n",
            "Epoch 011/015, Train Error 30.79% || Test Error 37.95%\n",
            "Epoch 012/015, Train Error 28.20% || Test Error 33.20%\n",
            "Epoch 013/015, Train Error 25.89% || Test Error 40.20%\n",
            "Epoch 014/015, Train Error 23.76% || Test Error 30.97%\n"
          ]
        }
      ]
    },
    {
      "cell_type": "code",
      "source": [
        "model = ResNet(BasicBlock, [18, 18, 18], 'control').cuda()\n",
        "optimizer = torch.optim.SGD(model.parameters(), lr=lr, momentum=momentum)\n",
        "train_errs, test_errs, epochs_and_test_errs = train(epochs, model, criterion, optimizer, train_loader, test_loader)"
      ],
      "metadata": {
        "colab": {
          "base_uri": "https://localhost:8080/"
        },
        "id": "mHIy3oFtx4gg",
        "outputId": "d086f8fb-a693-4071-eefd-946edf39ca32"
      },
      "execution_count": null,
      "outputs": [
        {
          "output_type": "stream",
          "name": "stdout",
          "text": [
            "Epoch 000/015, Train Error 68.81% || Test Error 57.12%\n",
            "Epoch 001/015, Train Error 89.53% || Test Error 90.00%\n",
            "Epoch 002/015, Train Error 90.24% || Test Error 89.57%\n",
            "Epoch 003/015, Train Error 89.71% || Test Error 90.01%\n",
            "Epoch 004/015, Train Error 83.72% || Test Error 77.41%\n",
            "Epoch 005/015, Train Error 73.33% || Test Error 69.52%\n",
            "Epoch 006/015, Train Error 67.78% || Test Error 64.62%\n",
            "Epoch 007/015, Train Error 63.87% || Test Error 61.49%\n",
            "Epoch 008/015, Train Error 60.27% || Test Error 58.93%\n",
            "Epoch 009/015, Train Error 55.95% || Test Error 55.67%\n",
            "Epoch 010/015, Train Error 54.02% || Test Error 52.78%\n",
            "Epoch 011/015, Train Error 51.83% || Test Error 54.33%\n",
            "Epoch 012/015, Train Error 50.00% || Test Error 50.10%\n",
            "Epoch 013/015, Train Error 48.82% || Test Error 50.04%\n",
            "Epoch 014/015, Train Error 46.60% || Test Error 46.12%\n"
          ]
        }
      ]
    },
    {
      "cell_type": "code",
      "source": [
        "lr = 0.1\n",
        "model = ResNet(BasicBlock, [18, 18, 18], 'pred').cuda()\n",
        "optimizer = torch.optim.SGD(model.parameters(), lr=lr, momentum=momentum)\n",
        "train_errs, test_errs, epochs_and_test_errs = train(epochs, model, criterion, optimizer, train_loader, test_loader)"
      ],
      "metadata": {
        "colab": {
          "base_uri": "https://localhost:8080/",
          "height": 426
        },
        "id": "FkeHrC4gyrFR",
        "outputId": "6d1ec78c-0ce7-41a5-e1ff-3dacbd7a8972"
      },
      "execution_count": null,
      "outputs": [
        {
          "output_type": "stream",
          "name": "stdout",
          "text": [
            "Epoch 000/015, Train Error 89.26% || Test Error 87.26%\n",
            "Epoch 001/015, Train Error 87.95% || Test Error 85.98%\n",
            "Epoch 002/015, Train Error 87.74% || Test Error 87.97%\n"
          ]
        },
        {
          "output_type": "error",
          "ename": "KeyboardInterrupt",
          "evalue": "ignored",
          "traceback": [
            "\u001b[0;31m---------------------------------------------------------------------------\u001b[0m",
            "\u001b[0;31mKeyboardInterrupt\u001b[0m                         Traceback (most recent call last)",
            "\u001b[0;32m<ipython-input-56-1551f690041f>\u001b[0m in \u001b[0;36m<module>\u001b[0;34m\u001b[0m\n\u001b[1;32m      2\u001b[0m \u001b[0mmodel\u001b[0m \u001b[0;34m=\u001b[0m \u001b[0mResNet\u001b[0m\u001b[0;34m(\u001b[0m\u001b[0mBasicBlock\u001b[0m\u001b[0;34m,\u001b[0m \u001b[0;34m[\u001b[0m\u001b[0;36m18\u001b[0m\u001b[0;34m,\u001b[0m \u001b[0;36m18\u001b[0m\u001b[0;34m,\u001b[0m \u001b[0;36m18\u001b[0m\u001b[0;34m]\u001b[0m\u001b[0;34m,\u001b[0m \u001b[0;34m'pred'\u001b[0m\u001b[0;34m)\u001b[0m\u001b[0;34m.\u001b[0m\u001b[0mcuda\u001b[0m\u001b[0;34m(\u001b[0m\u001b[0;34m)\u001b[0m\u001b[0;34m\u001b[0m\u001b[0;34m\u001b[0m\u001b[0m\n\u001b[1;32m      3\u001b[0m \u001b[0moptimizer\u001b[0m \u001b[0;34m=\u001b[0m \u001b[0mtorch\u001b[0m\u001b[0;34m.\u001b[0m\u001b[0moptim\u001b[0m\u001b[0;34m.\u001b[0m\u001b[0mSGD\u001b[0m\u001b[0;34m(\u001b[0m\u001b[0mmodel\u001b[0m\u001b[0;34m.\u001b[0m\u001b[0mparameters\u001b[0m\u001b[0;34m(\u001b[0m\u001b[0;34m)\u001b[0m\u001b[0;34m,\u001b[0m \u001b[0mlr\u001b[0m\u001b[0;34m=\u001b[0m\u001b[0mlr\u001b[0m\u001b[0;34m,\u001b[0m \u001b[0mmomentum\u001b[0m\u001b[0;34m=\u001b[0m\u001b[0mmomentum\u001b[0m\u001b[0;34m)\u001b[0m\u001b[0;34m\u001b[0m\u001b[0;34m\u001b[0m\u001b[0m\n\u001b[0;32m----> 4\u001b[0;31m \u001b[0mtrain_errs\u001b[0m\u001b[0;34m,\u001b[0m \u001b[0mtest_errs\u001b[0m\u001b[0;34m,\u001b[0m \u001b[0mepochs_and_test_errs\u001b[0m \u001b[0;34m=\u001b[0m \u001b[0mtrain\u001b[0m\u001b[0;34m(\u001b[0m\u001b[0mepochs\u001b[0m\u001b[0;34m,\u001b[0m \u001b[0mmodel\u001b[0m\u001b[0;34m,\u001b[0m \u001b[0mcriterion\u001b[0m\u001b[0;34m,\u001b[0m \u001b[0moptimizer\u001b[0m\u001b[0;34m,\u001b[0m \u001b[0mtrain_loader\u001b[0m\u001b[0;34m,\u001b[0m \u001b[0mtest_loader\u001b[0m\u001b[0;34m)\u001b[0m\u001b[0;34m\u001b[0m\u001b[0;34m\u001b[0m\u001b[0m\n\u001b[0m",
            "\u001b[0;32m<ipython-input-12-bc75fe2f8936>\u001b[0m in \u001b[0;36mtrain\u001b[0;34m(epochs, model, criterion, optimizer, train_loader, test_loader)\u001b[0m\n\u001b[1;32m      3\u001b[0m     \u001b[0mepochs_and_test_err\u001b[0m \u001b[0;34m=\u001b[0m \u001b[0;34m[\u001b[0m\u001b[0;34m]\u001b[0m\u001b[0;34m\u001b[0m\u001b[0;34m\u001b[0m\u001b[0m\n\u001b[1;32m      4\u001b[0m     \u001b[0;32mfor\u001b[0m \u001b[0mepoch\u001b[0m \u001b[0;32min\u001b[0m \u001b[0mrange\u001b[0m\u001b[0;34m(\u001b[0m\u001b[0mepochs\u001b[0m\u001b[0;34m)\u001b[0m\u001b[0;34m:\u001b[0m\u001b[0;34m\u001b[0m\u001b[0;34m\u001b[0m\u001b[0m\n\u001b[0;32m----> 5\u001b[0;31m         \u001b[0mtrain_err\u001b[0m \u001b[0;34m=\u001b[0m \u001b[0mtrain_epoch\u001b[0m\u001b[0;34m(\u001b[0m\u001b[0mmodel\u001b[0m\u001b[0;34m,\u001b[0m \u001b[0mcriterion\u001b[0m\u001b[0;34m,\u001b[0m \u001b[0moptimizer\u001b[0m\u001b[0;34m,\u001b[0m \u001b[0mtrain_loader\u001b[0m\u001b[0;34m)\u001b[0m\u001b[0;34m\u001b[0m\u001b[0;34m\u001b[0m\u001b[0m\n\u001b[0m\u001b[1;32m      6\u001b[0m         \u001b[0mtest_err\u001b[0m \u001b[0;34m=\u001b[0m \u001b[0mtest\u001b[0m\u001b[0;34m(\u001b[0m\u001b[0mmodel\u001b[0m\u001b[0;34m,\u001b[0m \u001b[0mtest_loader\u001b[0m\u001b[0;34m)\u001b[0m\u001b[0;34m\u001b[0m\u001b[0;34m\u001b[0m\u001b[0m\n\u001b[1;32m      7\u001b[0m         \u001b[0mepochs_and_test_err\u001b[0m\u001b[0;34m.\u001b[0m\u001b[0mappend\u001b[0m\u001b[0;34m(\u001b[0m\u001b[0;34m(\u001b[0m\u001b[0mepoch\u001b[0m\u001b[0;34m,\u001b[0m \u001b[0mtest_err\u001b[0m\u001b[0;34m)\u001b[0m\u001b[0;34m)\u001b[0m\u001b[0;34m\u001b[0m\u001b[0;34m\u001b[0m\u001b[0m\n",
            "\u001b[0;32m<ipython-input-12-bc75fe2f8936>\u001b[0m in \u001b[0;36mtrain_epoch\u001b[0;34m(model, criterion, optimizer, loader)\u001b[0m\n\u001b[1;32m     13\u001b[0m     \u001b[0mtotal_samples\u001b[0m \u001b[0;34m=\u001b[0m \u001b[0;36m0.\u001b[0m\u001b[0;34m\u001b[0m\u001b[0;34m\u001b[0m\u001b[0m\n\u001b[1;32m     14\u001b[0m \u001b[0;34m\u001b[0m\u001b[0m\n\u001b[0;32m---> 15\u001b[0;31m     \u001b[0;32mfor\u001b[0m \u001b[0mbatch_idx\u001b[0m\u001b[0;34m,\u001b[0m \u001b[0;34m(\u001b[0m\u001b[0mdata\u001b[0m\u001b[0;34m,\u001b[0m \u001b[0mtarget\u001b[0m\u001b[0;34m)\u001b[0m \u001b[0;32min\u001b[0m \u001b[0menumerate\u001b[0m\u001b[0;34m(\u001b[0m\u001b[0mloader\u001b[0m\u001b[0;34m)\u001b[0m\u001b[0;34m:\u001b[0m\u001b[0;34m\u001b[0m\u001b[0;34m\u001b[0m\u001b[0m\n\u001b[0m\u001b[1;32m     16\u001b[0m         \u001b[0;32mif\u001b[0m \u001b[0mtorch\u001b[0m\u001b[0;34m.\u001b[0m\u001b[0mcuda\u001b[0m\u001b[0;34m.\u001b[0m\u001b[0mis_available\u001b[0m\u001b[0;34m(\u001b[0m\u001b[0;34m)\u001b[0m\u001b[0;34m:\u001b[0m\u001b[0;34m\u001b[0m\u001b[0;34m\u001b[0m\u001b[0m\n\u001b[1;32m     17\u001b[0m             \u001b[0mdata\u001b[0m\u001b[0;34m,\u001b[0m \u001b[0mtarget\u001b[0m \u001b[0;34m=\u001b[0m \u001b[0mdata\u001b[0m\u001b[0;34m.\u001b[0m\u001b[0mcuda\u001b[0m\u001b[0;34m(\u001b[0m\u001b[0;34m)\u001b[0m\u001b[0;34m,\u001b[0m \u001b[0mtarget\u001b[0m\u001b[0;34m.\u001b[0m\u001b[0mcuda\u001b[0m\u001b[0;34m(\u001b[0m\u001b[0;34m)\u001b[0m\u001b[0;34m\u001b[0m\u001b[0;34m\u001b[0m\u001b[0m\n",
            "\u001b[0;32m/usr/local/lib/python3.8/dist-packages/torch/utils/data/dataloader.py\u001b[0m in \u001b[0;36m__next__\u001b[0;34m(self)\u001b[0m\n\u001b[1;32m    679\u001b[0m                 \u001b[0;31m# TODO(https://github.com/pytorch/pytorch/issues/76750)\u001b[0m\u001b[0;34m\u001b[0m\u001b[0;34m\u001b[0m\u001b[0;34m\u001b[0m\u001b[0m\n\u001b[1;32m    680\u001b[0m                 \u001b[0mself\u001b[0m\u001b[0;34m.\u001b[0m\u001b[0m_reset\u001b[0m\u001b[0;34m(\u001b[0m\u001b[0;34m)\u001b[0m  \u001b[0;31m# type: ignore[call-arg]\u001b[0m\u001b[0;34m\u001b[0m\u001b[0;34m\u001b[0m\u001b[0m\n\u001b[0;32m--> 681\u001b[0;31m             \u001b[0mdata\u001b[0m \u001b[0;34m=\u001b[0m \u001b[0mself\u001b[0m\u001b[0;34m.\u001b[0m\u001b[0m_next_data\u001b[0m\u001b[0;34m(\u001b[0m\u001b[0;34m)\u001b[0m\u001b[0;34m\u001b[0m\u001b[0;34m\u001b[0m\u001b[0m\n\u001b[0m\u001b[1;32m    682\u001b[0m             \u001b[0mself\u001b[0m\u001b[0;34m.\u001b[0m\u001b[0m_num_yielded\u001b[0m \u001b[0;34m+=\u001b[0m \u001b[0;36m1\u001b[0m\u001b[0;34m\u001b[0m\u001b[0;34m\u001b[0m\u001b[0m\n\u001b[1;32m    683\u001b[0m             \u001b[0;32mif\u001b[0m \u001b[0mself\u001b[0m\u001b[0;34m.\u001b[0m\u001b[0m_dataset_kind\u001b[0m \u001b[0;34m==\u001b[0m \u001b[0m_DatasetKind\u001b[0m\u001b[0;34m.\u001b[0m\u001b[0mIterable\u001b[0m \u001b[0;32mand\u001b[0m\u001b[0;31m \u001b[0m\u001b[0;31m\\\u001b[0m\u001b[0;34m\u001b[0m\u001b[0;34m\u001b[0m\u001b[0m\n",
            "\u001b[0;32m/usr/local/lib/python3.8/dist-packages/torch/utils/data/dataloader.py\u001b[0m in \u001b[0;36m_next_data\u001b[0;34m(self)\u001b[0m\n\u001b[1;32m    719\u001b[0m     \u001b[0;32mdef\u001b[0m \u001b[0m_next_data\u001b[0m\u001b[0;34m(\u001b[0m\u001b[0mself\u001b[0m\u001b[0;34m)\u001b[0m\u001b[0;34m:\u001b[0m\u001b[0;34m\u001b[0m\u001b[0;34m\u001b[0m\u001b[0m\n\u001b[1;32m    720\u001b[0m         \u001b[0mindex\u001b[0m \u001b[0;34m=\u001b[0m \u001b[0mself\u001b[0m\u001b[0;34m.\u001b[0m\u001b[0m_next_index\u001b[0m\u001b[0;34m(\u001b[0m\u001b[0;34m)\u001b[0m  \u001b[0;31m# may raise StopIteration\u001b[0m\u001b[0;34m\u001b[0m\u001b[0;34m\u001b[0m\u001b[0m\n\u001b[0;32m--> 721\u001b[0;31m         \u001b[0mdata\u001b[0m \u001b[0;34m=\u001b[0m \u001b[0mself\u001b[0m\u001b[0;34m.\u001b[0m\u001b[0m_dataset_fetcher\u001b[0m\u001b[0;34m.\u001b[0m\u001b[0mfetch\u001b[0m\u001b[0;34m(\u001b[0m\u001b[0mindex\u001b[0m\u001b[0;34m)\u001b[0m  \u001b[0;31m# may raise StopIteration\u001b[0m\u001b[0;34m\u001b[0m\u001b[0;34m\u001b[0m\u001b[0m\n\u001b[0m\u001b[1;32m    722\u001b[0m         \u001b[0;32mif\u001b[0m \u001b[0mself\u001b[0m\u001b[0;34m.\u001b[0m\u001b[0m_pin_memory\u001b[0m\u001b[0;34m:\u001b[0m\u001b[0;34m\u001b[0m\u001b[0;34m\u001b[0m\u001b[0m\n\u001b[1;32m    723\u001b[0m             \u001b[0mdata\u001b[0m \u001b[0;34m=\u001b[0m \u001b[0m_utils\u001b[0m\u001b[0;34m.\u001b[0m\u001b[0mpin_memory\u001b[0m\u001b[0;34m.\u001b[0m\u001b[0mpin_memory\u001b[0m\u001b[0;34m(\u001b[0m\u001b[0mdata\u001b[0m\u001b[0;34m,\u001b[0m \u001b[0mself\u001b[0m\u001b[0;34m.\u001b[0m\u001b[0m_pin_memory_device\u001b[0m\u001b[0;34m)\u001b[0m\u001b[0;34m\u001b[0m\u001b[0;34m\u001b[0m\u001b[0m\n",
            "\u001b[0;32m/usr/local/lib/python3.8/dist-packages/torch/utils/data/_utils/fetch.py\u001b[0m in \u001b[0;36mfetch\u001b[0;34m(self, possibly_batched_index)\u001b[0m\n\u001b[1;32m     47\u001b[0m     \u001b[0;32mdef\u001b[0m \u001b[0mfetch\u001b[0m\u001b[0;34m(\u001b[0m\u001b[0mself\u001b[0m\u001b[0;34m,\u001b[0m \u001b[0mpossibly_batched_index\u001b[0m\u001b[0;34m)\u001b[0m\u001b[0;34m:\u001b[0m\u001b[0;34m\u001b[0m\u001b[0;34m\u001b[0m\u001b[0m\n\u001b[1;32m     48\u001b[0m         \u001b[0;32mif\u001b[0m \u001b[0mself\u001b[0m\u001b[0;34m.\u001b[0m\u001b[0mauto_collation\u001b[0m\u001b[0;34m:\u001b[0m\u001b[0;34m\u001b[0m\u001b[0;34m\u001b[0m\u001b[0m\n\u001b[0;32m---> 49\u001b[0;31m             \u001b[0mdata\u001b[0m \u001b[0;34m=\u001b[0m \u001b[0;34m[\u001b[0m\u001b[0mself\u001b[0m\u001b[0;34m.\u001b[0m\u001b[0mdataset\u001b[0m\u001b[0;34m[\u001b[0m\u001b[0midx\u001b[0m\u001b[0;34m]\u001b[0m \u001b[0;32mfor\u001b[0m \u001b[0midx\u001b[0m \u001b[0;32min\u001b[0m \u001b[0mpossibly_batched_index\u001b[0m\u001b[0;34m]\u001b[0m\u001b[0;34m\u001b[0m\u001b[0;34m\u001b[0m\u001b[0m\n\u001b[0m\u001b[1;32m     50\u001b[0m         \u001b[0;32melse\u001b[0m\u001b[0;34m:\u001b[0m\u001b[0;34m\u001b[0m\u001b[0;34m\u001b[0m\u001b[0m\n\u001b[1;32m     51\u001b[0m             \u001b[0mdata\u001b[0m \u001b[0;34m=\u001b[0m \u001b[0mself\u001b[0m\u001b[0;34m.\u001b[0m\u001b[0mdataset\u001b[0m\u001b[0;34m[\u001b[0m\u001b[0mpossibly_batched_index\u001b[0m\u001b[0;34m]\u001b[0m\u001b[0;34m\u001b[0m\u001b[0;34m\u001b[0m\u001b[0m\n",
            "\u001b[0;32m/usr/local/lib/python3.8/dist-packages/torch/utils/data/_utils/fetch.py\u001b[0m in \u001b[0;36m<listcomp>\u001b[0;34m(.0)\u001b[0m\n\u001b[1;32m     47\u001b[0m     \u001b[0;32mdef\u001b[0m \u001b[0mfetch\u001b[0m\u001b[0;34m(\u001b[0m\u001b[0mself\u001b[0m\u001b[0;34m,\u001b[0m \u001b[0mpossibly_batched_index\u001b[0m\u001b[0;34m)\u001b[0m\u001b[0;34m:\u001b[0m\u001b[0;34m\u001b[0m\u001b[0;34m\u001b[0m\u001b[0m\n\u001b[1;32m     48\u001b[0m         \u001b[0;32mif\u001b[0m \u001b[0mself\u001b[0m\u001b[0;34m.\u001b[0m\u001b[0mauto_collation\u001b[0m\u001b[0;34m:\u001b[0m\u001b[0;34m\u001b[0m\u001b[0;34m\u001b[0m\u001b[0m\n\u001b[0;32m---> 49\u001b[0;31m             \u001b[0mdata\u001b[0m \u001b[0;34m=\u001b[0m \u001b[0;34m[\u001b[0m\u001b[0mself\u001b[0m\u001b[0;34m.\u001b[0m\u001b[0mdataset\u001b[0m\u001b[0;34m[\u001b[0m\u001b[0midx\u001b[0m\u001b[0;34m]\u001b[0m \u001b[0;32mfor\u001b[0m \u001b[0midx\u001b[0m \u001b[0;32min\u001b[0m \u001b[0mpossibly_batched_index\u001b[0m\u001b[0;34m]\u001b[0m\u001b[0;34m\u001b[0m\u001b[0;34m\u001b[0m\u001b[0m\n\u001b[0m\u001b[1;32m     50\u001b[0m         \u001b[0;32melse\u001b[0m\u001b[0;34m:\u001b[0m\u001b[0;34m\u001b[0m\u001b[0;34m\u001b[0m\u001b[0m\n\u001b[1;32m     51\u001b[0m             \u001b[0mdata\u001b[0m \u001b[0;34m=\u001b[0m \u001b[0mself\u001b[0m\u001b[0;34m.\u001b[0m\u001b[0mdataset\u001b[0m\u001b[0;34m[\u001b[0m\u001b[0mpossibly_batched_index\u001b[0m\u001b[0;34m]\u001b[0m\u001b[0;34m\u001b[0m\u001b[0;34m\u001b[0m\u001b[0m\n",
            "\u001b[0;32m/usr/local/lib/python3.8/dist-packages/torchvision/datasets/cifar.py\u001b[0m in \u001b[0;36m__getitem__\u001b[0;34m(self, index)\u001b[0m\n\u001b[1;32m    116\u001b[0m \u001b[0;34m\u001b[0m\u001b[0m\n\u001b[1;32m    117\u001b[0m         \u001b[0;32mif\u001b[0m \u001b[0mself\u001b[0m\u001b[0;34m.\u001b[0m\u001b[0mtransform\u001b[0m \u001b[0;32mis\u001b[0m \u001b[0;32mnot\u001b[0m \u001b[0;32mNone\u001b[0m\u001b[0;34m:\u001b[0m\u001b[0;34m\u001b[0m\u001b[0;34m\u001b[0m\u001b[0m\n\u001b[0;32m--> 118\u001b[0;31m             \u001b[0mimg\u001b[0m \u001b[0;34m=\u001b[0m \u001b[0mself\u001b[0m\u001b[0;34m.\u001b[0m\u001b[0mtransform\u001b[0m\u001b[0;34m(\u001b[0m\u001b[0mimg\u001b[0m\u001b[0;34m)\u001b[0m\u001b[0;34m\u001b[0m\u001b[0;34m\u001b[0m\u001b[0m\n\u001b[0m\u001b[1;32m    119\u001b[0m \u001b[0;34m\u001b[0m\u001b[0m\n\u001b[1;32m    120\u001b[0m         \u001b[0;32mif\u001b[0m \u001b[0mself\u001b[0m\u001b[0;34m.\u001b[0m\u001b[0mtarget_transform\u001b[0m \u001b[0;32mis\u001b[0m \u001b[0;32mnot\u001b[0m \u001b[0;32mNone\u001b[0m\u001b[0;34m:\u001b[0m\u001b[0;34m\u001b[0m\u001b[0;34m\u001b[0m\u001b[0m\n",
            "\u001b[0;32m/usr/local/lib/python3.8/dist-packages/torchvision/transforms/transforms.py\u001b[0m in \u001b[0;36m__call__\u001b[0;34m(self, img)\u001b[0m\n\u001b[1;32m     92\u001b[0m     \u001b[0;32mdef\u001b[0m \u001b[0m__call__\u001b[0m\u001b[0;34m(\u001b[0m\u001b[0mself\u001b[0m\u001b[0;34m,\u001b[0m \u001b[0mimg\u001b[0m\u001b[0;34m)\u001b[0m\u001b[0;34m:\u001b[0m\u001b[0;34m\u001b[0m\u001b[0;34m\u001b[0m\u001b[0m\n\u001b[1;32m     93\u001b[0m         \u001b[0;32mfor\u001b[0m \u001b[0mt\u001b[0m \u001b[0;32min\u001b[0m \u001b[0mself\u001b[0m\u001b[0;34m.\u001b[0m\u001b[0mtransforms\u001b[0m\u001b[0;34m:\u001b[0m\u001b[0;34m\u001b[0m\u001b[0;34m\u001b[0m\u001b[0m\n\u001b[0;32m---> 94\u001b[0;31m             \u001b[0mimg\u001b[0m \u001b[0;34m=\u001b[0m \u001b[0mt\u001b[0m\u001b[0;34m(\u001b[0m\u001b[0mimg\u001b[0m\u001b[0;34m)\u001b[0m\u001b[0;34m\u001b[0m\u001b[0;34m\u001b[0m\u001b[0m\n\u001b[0m\u001b[1;32m     95\u001b[0m         \u001b[0;32mreturn\u001b[0m \u001b[0mimg\u001b[0m\u001b[0;34m\u001b[0m\u001b[0;34m\u001b[0m\u001b[0m\n\u001b[1;32m     96\u001b[0m \u001b[0;34m\u001b[0m\u001b[0m\n",
            "\u001b[0;32m/usr/local/lib/python3.8/dist-packages/torch/nn/modules/module.py\u001b[0m in \u001b[0;36m_call_impl\u001b[0;34m(self, *input, **kwargs)\u001b[0m\n\u001b[1;32m   1128\u001b[0m         if not (self._backward_hooks or self._forward_hooks or self._forward_pre_hooks or _global_backward_hooks\n\u001b[1;32m   1129\u001b[0m                 or _global_forward_hooks or _global_forward_pre_hooks):\n\u001b[0;32m-> 1130\u001b[0;31m             \u001b[0;32mreturn\u001b[0m \u001b[0mforward_call\u001b[0m\u001b[0;34m(\u001b[0m\u001b[0;34m*\u001b[0m\u001b[0minput\u001b[0m\u001b[0;34m,\u001b[0m \u001b[0;34m**\u001b[0m\u001b[0mkwargs\u001b[0m\u001b[0;34m)\u001b[0m\u001b[0;34m\u001b[0m\u001b[0;34m\u001b[0m\u001b[0m\n\u001b[0m\u001b[1;32m   1131\u001b[0m         \u001b[0;31m# Do not call functions when jit is used\u001b[0m\u001b[0;34m\u001b[0m\u001b[0;34m\u001b[0m\u001b[0;34m\u001b[0m\u001b[0m\n\u001b[1;32m   1132\u001b[0m         \u001b[0mfull_backward_hooks\u001b[0m\u001b[0;34m,\u001b[0m \u001b[0mnon_full_backward_hooks\u001b[0m \u001b[0;34m=\u001b[0m \u001b[0;34m[\u001b[0m\u001b[0;34m]\u001b[0m\u001b[0;34m,\u001b[0m \u001b[0;34m[\u001b[0m\u001b[0;34m]\u001b[0m\u001b[0;34m\u001b[0m\u001b[0;34m\u001b[0m\u001b[0m\n",
            "\u001b[0;32m/usr/local/lib/python3.8/dist-packages/torchvision/transforms/transforms.py\u001b[0m in \u001b[0;36mforward\u001b[0;34m(self, tensor)\u001b[0m\n\u001b[1;32m    267\u001b[0m             \u001b[0mTensor\u001b[0m\u001b[0;34m:\u001b[0m \u001b[0mNormalized\u001b[0m \u001b[0mTensor\u001b[0m \u001b[0mimage\u001b[0m\u001b[0;34m.\u001b[0m\u001b[0;34m\u001b[0m\u001b[0;34m\u001b[0m\u001b[0m\n\u001b[1;32m    268\u001b[0m         \"\"\"\n\u001b[0;32m--> 269\u001b[0;31m         \u001b[0;32mreturn\u001b[0m \u001b[0mF\u001b[0m\u001b[0;34m.\u001b[0m\u001b[0mnormalize\u001b[0m\u001b[0;34m(\u001b[0m\u001b[0mtensor\u001b[0m\u001b[0;34m,\u001b[0m \u001b[0mself\u001b[0m\u001b[0;34m.\u001b[0m\u001b[0mmean\u001b[0m\u001b[0;34m,\u001b[0m \u001b[0mself\u001b[0m\u001b[0;34m.\u001b[0m\u001b[0mstd\u001b[0m\u001b[0;34m,\u001b[0m \u001b[0mself\u001b[0m\u001b[0;34m.\u001b[0m\u001b[0minplace\u001b[0m\u001b[0;34m)\u001b[0m\u001b[0;34m\u001b[0m\u001b[0;34m\u001b[0m\u001b[0m\n\u001b[0m\u001b[1;32m    270\u001b[0m \u001b[0;34m\u001b[0m\u001b[0m\n\u001b[1;32m    271\u001b[0m     \u001b[0;32mdef\u001b[0m \u001b[0m__repr__\u001b[0m\u001b[0;34m(\u001b[0m\u001b[0mself\u001b[0m\u001b[0;34m)\u001b[0m \u001b[0;34m->\u001b[0m \u001b[0mstr\u001b[0m\u001b[0;34m:\u001b[0m\u001b[0;34m\u001b[0m\u001b[0;34m\u001b[0m\u001b[0m\n",
            "\u001b[0;32m/usr/local/lib/python3.8/dist-packages/torchvision/transforms/functional.py\u001b[0m in \u001b[0;36mnormalize\u001b[0;34m(tensor, mean, std, inplace)\u001b[0m\n\u001b[1;32m    358\u001b[0m         \u001b[0;32mraise\u001b[0m \u001b[0mTypeError\u001b[0m\u001b[0;34m(\u001b[0m\u001b[0;34mf\"img should be Tensor Image. Got {type(tensor)}\"\u001b[0m\u001b[0;34m)\u001b[0m\u001b[0;34m\u001b[0m\u001b[0;34m\u001b[0m\u001b[0m\n\u001b[1;32m    359\u001b[0m \u001b[0;34m\u001b[0m\u001b[0m\n\u001b[0;32m--> 360\u001b[0;31m     \u001b[0;32mreturn\u001b[0m \u001b[0mF_t\u001b[0m\u001b[0;34m.\u001b[0m\u001b[0mnormalize\u001b[0m\u001b[0;34m(\u001b[0m\u001b[0mtensor\u001b[0m\u001b[0;34m,\u001b[0m \u001b[0mmean\u001b[0m\u001b[0;34m=\u001b[0m\u001b[0mmean\u001b[0m\u001b[0;34m,\u001b[0m \u001b[0mstd\u001b[0m\u001b[0;34m=\u001b[0m\u001b[0mstd\u001b[0m\u001b[0;34m,\u001b[0m \u001b[0minplace\u001b[0m\u001b[0;34m=\u001b[0m\u001b[0minplace\u001b[0m\u001b[0;34m)\u001b[0m\u001b[0;34m\u001b[0m\u001b[0;34m\u001b[0m\u001b[0m\n\u001b[0m\u001b[1;32m    361\u001b[0m \u001b[0;34m\u001b[0m\u001b[0m\n\u001b[1;32m    362\u001b[0m \u001b[0;34m\u001b[0m\u001b[0m\n",
            "\u001b[0;32m/usr/local/lib/python3.8/dist-packages/torchvision/transforms/functional_tensor.py\u001b[0m in \u001b[0;36mnormalize\u001b[0;34m(tensor, mean, std, inplace)\u001b[0m\n\u001b[1;32m    946\u001b[0m \u001b[0;34m\u001b[0m\u001b[0m\n\u001b[1;32m    947\u001b[0m     \u001b[0;32mif\u001b[0m \u001b[0;32mnot\u001b[0m \u001b[0minplace\u001b[0m\u001b[0;34m:\u001b[0m\u001b[0;34m\u001b[0m\u001b[0;34m\u001b[0m\u001b[0m\n\u001b[0;32m--> 948\u001b[0;31m         \u001b[0mtensor\u001b[0m \u001b[0;34m=\u001b[0m \u001b[0mtensor\u001b[0m\u001b[0;34m.\u001b[0m\u001b[0mclone\u001b[0m\u001b[0;34m(\u001b[0m\u001b[0;34m)\u001b[0m\u001b[0;34m\u001b[0m\u001b[0;34m\u001b[0m\u001b[0m\n\u001b[0m\u001b[1;32m    949\u001b[0m \u001b[0;34m\u001b[0m\u001b[0m\n\u001b[1;32m    950\u001b[0m     \u001b[0mdtype\u001b[0m \u001b[0;34m=\u001b[0m \u001b[0mtensor\u001b[0m\u001b[0;34m.\u001b[0m\u001b[0mdtype\u001b[0m\u001b[0;34m\u001b[0m\u001b[0;34m\u001b[0m\u001b[0m\n",
            "\u001b[0;31mKeyboardInterrupt\u001b[0m: "
          ]
        }
      ]
    },
    {
      "cell_type": "code",
      "source": [
        "#Evaluation Test Loop for different models\n",
        "criterion = torch.nn.CrossEntropyLoss()\n",
        "model = ResNet(BasicBlock, [7, 7, 7], 'pred').cuda()\n",
        "optimizer = torch.optim.SGD(model.parameters(), lr=lr, momentum=momentum)\n",
        "train_errs, test_errs, epochs_and_test_errs = train(epochs, model, criterion, optimizer, train_loader, test_loader)"
      ],
      "metadata": {
        "colab": {
          "base_uri": "https://localhost:8080/"
        },
        "id": "HvSVQ7A4X4pC",
        "outputId": "2f7e77a1-f4d7-433b-f4c8-3a712897dede"
      },
      "execution_count": null,
      "outputs": [
        {
          "output_type": "stream",
          "name": "stdout",
          "text": [
            "Epoch 000/015, Train Error 68.71% || Test Error 58.53%\n",
            "Epoch 001/015, Train Error 53.51% || Test Error 50.33%\n",
            "Epoch 002/015, Train Error 48.70% || Test Error 48.92%\n",
            "Epoch 003/015, Train Error 44.40% || Test Error 41.84%\n",
            "Epoch 004/015, Train Error 40.40% || Test Error 40.03%\n",
            "Epoch 005/015, Train Error 38.46% || Test Error 39.29%\n",
            "Epoch 006/015, Train Error 36.62% || Test Error 38.34%\n",
            "Epoch 007/015, Train Error 37.22% || Test Error 38.98%\n",
            "Epoch 008/015, Train Error 35.56% || Test Error 37.72%\n",
            "Epoch 009/015, Train Error 34.88% || Test Error 35.36%\n",
            "Epoch 010/015, Train Error 33.77% || Test Error 33.16%\n",
            "Epoch 011/015, Train Error 31.71% || Test Error 34.22%\n",
            "Epoch 012/015, Train Error 31.53% || Test Error 31.59%\n",
            "Epoch 013/015, Train Error 29.96% || Test Error 30.90%\n",
            "Epoch 014/015, Train Error 32.41% || Test Error 41.53%\n"
          ]
        }
      ]
    },
    {
      "cell_type": "code",
      "source": [
        "#pred with mean assumed to be zeor and variance assumed to be 1\n",
        "criterion = torch.nn.CrossEntropyLoss()\n",
        "model = ResNet(BasicBlock, [7, 7, 7], 'pred').cuda()\n",
        "optimizer = torch.optim.SGD(model.parameters(), lr=lr, momentum=momentum)\n",
        "train_errs, test_errs, epochs_and_test_errs = train(epochs, model, criterion, optimizer, train_loader, test_loader)"
      ],
      "metadata": {
        "colab": {
          "base_uri": "https://localhost:8080/"
        },
        "id": "ltW0ufLwx8-S",
        "outputId": "50e7ee2d-1225-4862-c4f3-2b1fe690cb11"
      },
      "execution_count": null,
      "outputs": [
        {
          "output_type": "stream",
          "name": "stdout",
          "text": [
            "Epoch 000/015, Train Error 66.50% || Test Error 54.64%\n",
            "Epoch 001/015, Train Error 51.77% || Test Error 49.62%\n",
            "Epoch 002/015, Train Error 45.94% || Test Error 44.21%\n",
            "Epoch 003/015, Train Error 42.16% || Test Error 41.89%\n",
            "Epoch 004/015, Train Error 39.04% || Test Error 39.86%\n",
            "Epoch 005/015, Train Error 37.49% || Test Error 39.20%\n",
            "Epoch 006/015, Train Error 36.17% || Test Error 36.17%\n",
            "Epoch 008/015, Train Error 33.07% || Test Error 35.42%\n",
            "Epoch 009/015, Train Error 33.37% || Test Error 35.32%\n",
            "Epoch 010/015, Train Error 33.30% || Test Error 33.88%\n",
            "Epoch 011/015, Train Error 32.57% || Test Error 39.61%\n",
            "Epoch 012/015, Train Error 33.87% || Test Error 33.66%\n",
            "Epoch 013/015, Train Error 29.79% || Test Error 30.67%\n",
            "Epoch 014/015, Train Error 27.55% || Test Error 29.32%\n"
          ]
        }
      ]
    },
    {
      "cell_type": "code",
      "source": [
        "#Evaluation Test Loop for different models\n",
        "criterion = torch.nn.CrossEntropyLoss()\n",
        "model = ResNet(BasicBlock, [3, 3, 3], 'pred').cuda()\n",
        "optimizer = torch.optim.SGD(model.parameters(), lr=lr, momentum=momentum)\n",
        "train_errs, test_errs, epochs_and_test_errs = train(epochs, model, criterion, optimizer, train_loader, test_loader)"
      ],
      "metadata": {
        "colab": {
          "base_uri": "https://localhost:8080/"
        },
        "id": "9nasjBijGfo5",
        "outputId": "50a9c832-3bbe-4e47-8c90-8feca80965ad"
      },
      "execution_count": null,
      "outputs": [
        {
          "output_type": "stream",
          "name": "stdout",
          "text": [
            "Epoch 000/010, Train Error 87.56% || Test Error 84.47%\n",
            "Epoch 001/010, Train Error 78.75% || Test Error 73.17%\n",
            "Epoch 002/010, Train Error 71.82% || Test Error 67.82%\n",
            "Epoch 003/010, Train Error 66.70% || Test Error 63.77%\n",
            "Epoch 004/010, Train Error 62.97% || Test Error 60.37%\n",
            "Epoch 005/010, Train Error 60.21% || Test Error 61.16%\n",
            "Epoch 006/010, Train Error 58.40% || Test Error 57.37%\n",
            "Epoch 007/010, Train Error 56.19% || Test Error 56.96%\n",
            "Epoch 008/010, Train Error 54.64% || Test Error 53.12%\n",
            "Epoch 009/010, Train Error 53.38% || Test Error 51.82%\n"
          ]
        }
      ]
    }
  ]
}