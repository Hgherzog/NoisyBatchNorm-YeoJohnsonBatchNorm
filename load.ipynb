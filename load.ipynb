{
  "nbformat": 4,
  "nbformat_minor": 0,
  "metadata": {
    "colab": {
      "provenance": [],
      "authorship_tag": "ABX9TyN82666TrAfXpcVADaqVX+n",
      "include_colab_link": true
    },
    "kernelspec": {
      "name": "python3",
      "display_name": "Python 3"
    },
    "language_info": {
      "name": "python"
    }
  },
  "cells": [
    {
      "cell_type": "markdown",
      "metadata": {
        "id": "view-in-github",
        "colab_type": "text"
      },
      "source": [
        "<a href=\"https://colab.research.google.com/github/Hgherzog/NoisyBatchNorm-YeoJohnsonBatchNorm/blob/main/load.ipynb\" target=\"_parent\"><img src=\"https://colab.research.google.com/assets/colab-badge.svg\" alt=\"Open In Colab\"/></a>"
      ]
    },
    {
      "cell_type": "code",
      "execution_count": null,
      "metadata": {
        "id": "84UxF8FFvo3D"
      },
      "outputs": [],
      "source": [
        "#Load the CIFAR-10 train and test data\n",
        "train_dataset = datasets.CIFAR10(\"data\", train=True, download=True, transform=transforms.Compose([\n",
        "            transforms.ToTensor(),\n",
        "            normalize,\n",
        "        ]))\n",
        "train_indices = list(range(1, 2001))\n",
        "train_subset = torch.utils.data.Subset(train_dataset, train_indices)\n",
        "# train_loader = torch.utils.data.DataLoader(train_subset, batch_size=bs, shuffle=True)\n",
        "train_loader = torch.utils.data.DataLoader(train_dataset, batch_size=bs, shuffle=True)\n",
        "\n",
        "test_dataset = datasets.CIFAR10(\"data\", train=False, download=True, transform=transforms.Compose([\n",
        "    transforms.ToTensor(), normalize\n",
        "]))\n",
        "test_indices = list(range(1, 401))\n",
        "test_subset = torch.utils.data.Subset(test_dataset, test_indices)\n",
        "# test_loader = torch.utils.data.DataLoader(test_subset, batch_size=bs, shuffle=False)\n",
        "test_loader = torch.utils.data.DataLoader(test_dataset, batch_size=bs, shuffle=False)"
      ]
    }
  ]
}