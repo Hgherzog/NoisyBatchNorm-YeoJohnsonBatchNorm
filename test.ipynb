{
  "nbformat": 4,
  "nbformat_minor": 0,
  "metadata": {
    "colab": {
      "provenance": [],
      "authorship_tag": "ABX9TyNRGZcz7cHyfVoHbnFiCS1j",
      "include_colab_link": true
    },
    "kernelspec": {
      "name": "python3",
      "display_name": "Python 3"
    },
    "language_info": {
      "name": "python"
    }
  },
  "cells": [
    {
      "cell_type": "markdown",
      "metadata": {
        "id": "view-in-github",
        "colab_type": "text"
      },
      "source": [
        "<a href=\"https://colab.research.google.com/github/Hgherzog/NoisyBatchNorm-YeoJohnsonBatchNorm/blob/main/test.ipynb\" target=\"_parent\"><img src=\"https://colab.research.google.com/assets/colab-badge.svg\" alt=\"Open In Colab\"/></a>"
      ]
    },
    {
      "cell_type": "code",
      "execution_count": null,
      "metadata": {
        "id": "5fbxxNfKvjTR"
      },
      "outputs": [],
      "source": [
        "def test(model, loader):\n",
        "  \"\"\" Returns the test error of the model predicting on the given dataset\n",
        "  \"\"\"\n",
        "  total_correct = 0.\n",
        "  total_samples = 0.\n",
        "  model.eval()\n",
        "  with torch.no_grad():\n",
        "    for batch_idx, (data, target) in enumerate(loader):\n",
        "      if torch.cuda.is_available():\n",
        "        data, target = data.cuda(), target.cuda()\n",
        "      output = model(data)\n",
        "\n",
        "      for i, val in enumerate(target):\n",
        "        total_correct += 1 if torch.argmax(output[i]) == val else 0\n",
        "        total_samples += 1 \n",
        "\n",
        "  return 1 - total_correct/total_samples"
      ]
    }
  ]
}