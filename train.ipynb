{
  "nbformat": 4,
  "nbformat_minor": 0,
  "metadata": {
    "colab": {
      "provenance": [],
      "authorship_tag": "ABX9TyP1Gc93bOirWX5CcOd2TTH2",
      "include_colab_link": true
    },
    "kernelspec": {
      "name": "python3",
      "display_name": "Python 3"
    },
    "language_info": {
      "name": "python"
    }
  },
  "cells": [
    {
      "cell_type": "markdown",
      "metadata": {
        "id": "view-in-github",
        "colab_type": "text"
      },
      "source": [
        "<a href=\"https://colab.research.google.com/github/Hgherzog/NoisyBatchNorm-YeoJohnsonBatchNorm/blob/main/train.ipynb\" target=\"_parent\"><img src=\"https://colab.research.google.com/assets/colab-badge.svg\" alt=\"Open In Colab\"/></a>"
      ]
    },
    {
      "cell_type": "markdown",
      "source": [
        "This file contains the train loops use for training a model for a given optimizer and loss criterion over a given number of epochs. There is also flexibility to pick the dataset used."
      ],
      "metadata": {
        "id": "a967oiE5uKaR"
      }
    },
    {
      "cell_type": "code",
      "execution_count": null,
      "metadata": {
        "id": "NF-zbBE0vdVv"
      },
      "outputs": [],
      "source": [
        "def train(epochs, model, criterion, optimizer, train_loader, test_loader):\n",
        "  \"\"\" Returns the train error, test error, and a list of test err per epoch\n",
        "  over a given number of epochs\n",
        "  \"\"\"\n",
        "    epochs_and_test_err = []\n",
        "    for epoch in range(epochs):\n",
        "        train_err = train_epoch(model, criterion, optimizer, train_loader)\n",
        "        test_err = test(model, test_loader)\n",
        "        epochs_and_test_err.append((epoch, test_err))\n",
        "        print('Epoch {:03d}/{:03d}, Train Error {:.2f}% || Test Error {:.2f}%'.format(epoch, epochs, train_err*100, test_err*100))\n",
        "    return train_err, test_err, epochs_and_test_err\n",
        "\n",
        "  \n",
        "def train_epoch(model, criterion, optimizer, loader):\n",
        "  \"\"\" Trains a model over a single epoch, using a given optimizer on a given\n",
        "  criterion.\n",
        "  \"\"\"\n",
        "    total_correct = 0.\n",
        "    total_samples = 0.\n",
        "    \n",
        "    for batch_idx, (data, target) in enumerate(loader):\n",
        "        if torch.cuda.is_available():\n",
        "            data, target = data.cuda(), target.cuda()\n",
        "        len_t = len(target)\n",
        "        output = model(data)\n",
        "        loss = criterion(output, target)\n",
        "\n",
        "        for i in range(len_t):\n",
        "          \n",
        "          total_correct +=  1 if torch.argmax(output[i]) == target[i] else 0\n",
        "          total_samples += 1\n",
        "\n",
        "        optimizer.zero_grad()\n",
        "        loss.backward()\n",
        "        optimizer.step()\n",
        "\n",
        "    return 1 - total_correct/total_samples"
      ]
    }
  ]
}